{
  "nbformat": 4,
  "nbformat_minor": 0,
  "metadata": {
    "colab": {
      "provenance": [],
      "include_colab_link": true
    },
    "kernelspec": {
      "name": "python3",
      "display_name": "Python 3"
    },
    "accelerator": "GPU"
  },
  "cells": [
    {
      "cell_type": "markdown",
      "metadata": {
        "id": "view-in-github",
        "colab_type": "text"
      },
      "source": [
        "<a href=\"https://colab.research.google.com/github/123ranika/jsfinal/blob/main/OffensiveLanguageIdentification_BERT_Multi_Tamil__v2.ipynb\" target=\"_parent\"><img src=\"https://colab.research.google.com/assets/colab-badge.svg\" alt=\"Open In Colab\"/></a>"
      ]
    },
    {
      "cell_type": "markdown",
      "metadata": {
        "id": "elqe9PQrVH6P"
      },
      "source": [
        "### Performing checks for the resources available"
      ]
    },
    {
      "cell_type": "code",
      "metadata": {
        "colab": {
          "base_uri": "https://localhost:8080/"
        },
        "id": "fSELLChxa5su",
        "outputId": "40d176b9-dd47-43d0-868a-d8464ff7f319"
      },
      "source": [
        "import torch\n",
        "\n",
        "# If there's a GPU available...\n",
        "if torch.cuda.is_available():\n",
        "\n",
        "    # Tell PyTorch to use the GPU.\n",
        "    device = torch.device(\"cuda\")\n",
        "\n",
        "    print('There are %d GPU(s) available.' % torch.cuda.device_count())\n",
        "\n",
        "    print('We will use the GPU:', torch.cuda.get_device_name(0))\n",
        "\n",
        "# If not...\n",
        "else:\n",
        "    print('No GPU available, using the CPU instead.')\n",
        "    device = torch.device(\"cpu\")"
      ],
      "execution_count": 163,
      "outputs": [
        {
          "output_type": "stream",
          "name": "stdout",
          "text": [
            "There are 1 GPU(s) available.\n",
            "We will use the GPU: Tesla T4\n"
          ]
        }
      ]
    },
    {
      "cell_type": "markdown",
      "metadata": {
        "id": "K-gbOgflVRxg"
      },
      "source": [
        "### Installing huggingface transformers library"
      ]
    },
    {
      "cell_type": "code",
      "metadata": {
        "colab": {
          "base_uri": "https://localhost:8080/"
        },
        "id": "DbDuxKy0a9Zl",
        "outputId": "6bc7fa63-6e3f-46a6-f4dc-0bd576e12bc8"
      },
      "source": [
        "!pip install transformers"
      ],
      "execution_count": 164,
      "outputs": [
        {
          "output_type": "stream",
          "name": "stdout",
          "text": [
            "Requirement already satisfied: transformers in /usr/local/lib/python3.10/dist-packages (4.46.2)\n",
            "Requirement already satisfied: filelock in /usr/local/lib/python3.10/dist-packages (from transformers) (3.16.1)\n",
            "Requirement already satisfied: huggingface-hub<1.0,>=0.23.2 in /usr/local/lib/python3.10/dist-packages (from transformers) (0.26.2)\n",
            "Requirement already satisfied: numpy>=1.17 in /usr/local/lib/python3.10/dist-packages (from transformers) (1.26.4)\n",
            "Requirement already satisfied: packaging>=20.0 in /usr/local/lib/python3.10/dist-packages (from transformers) (24.2)\n",
            "Requirement already satisfied: pyyaml>=5.1 in /usr/local/lib/python3.10/dist-packages (from transformers) (6.0.2)\n",
            "Requirement already satisfied: regex!=2019.12.17 in /usr/local/lib/python3.10/dist-packages (from transformers) (2024.9.11)\n",
            "Requirement already satisfied: requests in /usr/local/lib/python3.10/dist-packages (from transformers) (2.32.3)\n",
            "Requirement already satisfied: safetensors>=0.4.1 in /usr/local/lib/python3.10/dist-packages (from transformers) (0.4.5)\n",
            "Requirement already satisfied: tokenizers<0.21,>=0.20 in /usr/local/lib/python3.10/dist-packages (from transformers) (0.20.3)\n",
            "Requirement already satisfied: tqdm>=4.27 in /usr/local/lib/python3.10/dist-packages (from transformers) (4.66.6)\n",
            "Requirement already satisfied: fsspec>=2023.5.0 in /usr/local/lib/python3.10/dist-packages (from huggingface-hub<1.0,>=0.23.2->transformers) (2024.10.0)\n",
            "Requirement already satisfied: typing-extensions>=3.7.4.3 in /usr/local/lib/python3.10/dist-packages (from huggingface-hub<1.0,>=0.23.2->transformers) (4.12.2)\n",
            "Requirement already satisfied: charset-normalizer<4,>=2 in /usr/local/lib/python3.10/dist-packages (from requests->transformers) (3.4.0)\n",
            "Requirement already satisfied: idna<4,>=2.5 in /usr/local/lib/python3.10/dist-packages (from requests->transformers) (3.10)\n",
            "Requirement already satisfied: urllib3<3,>=1.21.1 in /usr/local/lib/python3.10/dist-packages (from requests->transformers) (2.2.3)\n",
            "Requirement already satisfied: certifi>=2017.4.17 in /usr/local/lib/python3.10/dist-packages (from requests->transformers) (2024.8.30)\n"
          ]
        }
      ]
    },
    {
      "cell_type": "markdown",
      "metadata": {
        "id": "bPwaYLiRSNPC"
      },
      "source": [
        "## Importing necessary packages"
      ]
    },
    {
      "cell_type": "code",
      "metadata": {
        "id": "0XdFrhr8SRG0"
      },
      "source": [
        "import pandas as pd\n",
        "import numpy as np\n",
        "import random\n",
        "from sklearn.preprocessing import LabelEncoder\n",
        "from sklearn.utils.class_weight import compute_class_weight\n",
        "import time\n",
        "import datetime\n",
        "from sklearn.metrics import classification_report,confusion_matrix\n",
        "import random\n",
        "import time\n",
        "import torch.nn as nn\n",
        "from transformers import AutoModel , AutoModelForSequenceClassification, AutoConfig , AutoTokenizer , AdamW ,get_linear_schedule_with_warmup\n",
        "import torch\n",
        "import matplotlib.pyplot as plt\n",
        "import seaborn as sns\n",
        "from matplotlib import rc\n",
        "from matplotlib.ticker import MaxNLocator"
      ],
      "execution_count": 165,
      "outputs": []
    },
    {
      "cell_type": "markdown",
      "metadata": {
        "id": "dROX3juhVCxC"
      },
      "source": [
        "## Setting some configuration values"
      ]
    },
    {
      "cell_type": "code",
      "metadata": {
        "id": "Kzafv4BzVCC9"
      },
      "source": [
        "# Use plot styling from seaborn.\n",
        "sns.set(style='darkgrid')\n",
        "\n",
        "# Increase the plot size and font size.\n",
        "sns.set(font_scale=1.5)\n",
        "plt.rcParams[\"figure.figsize\"] = (16,12)\n",
        "\n",
        "# Set the seed value all over the place to make this reproducible.\n",
        "seed_val = 42\n",
        "\n",
        "random.seed(seed_val)\n",
        "np.random.seed(seed_val)\n",
        "torch.manual_seed(seed_val)\n",
        "torch.cuda.manual_seed_all(seed_val)"
      ],
      "execution_count": 166,
      "outputs": []
    },
    {
      "cell_type": "markdown",
      "metadata": {
        "id": "2v1AIN_OVX4t"
      },
      "source": [
        "## Importing drive into the colaboratory"
      ]
    },
    {
      "cell_type": "code",
      "metadata": {
        "id": "Lofimyh2a_tp"
      },
      "source": [
        "#from google.colab import drive\n",
        "#drive.mount('/content/drive')"
      ],
      "execution_count": 167,
      "outputs": []
    },
    {
      "cell_type": "markdown",
      "metadata": {
        "id": "yOK-M00dVeW2"
      },
      "source": [
        "## Importing dataset directories"
      ]
    },
    {
      "cell_type": "code",
      "metadata": {
        "id": "-y-JRPKBbCTv"
      },
      "source": [
        "# from os import getcwd , listdir\n",
        "# from os.path import join\n",
        "# curr_dir = getcwd()\n",
        "# drive_dir = join(curr_dir , 'drive','MyDrive')\n",
        "# dataset_dir = join(drive_dir,'Codalab','Offensive Language Identification','Dataset')"
      ],
      "execution_count": 168,
      "outputs": []
    },
    {
      "cell_type": "code",
      "metadata": {
        "id": "7YU1h8WhmqvK"
      },
      "source": [
        "# listdir(dataset_dir)"
      ],
      "execution_count": 169,
      "outputs": []
    },
    {
      "cell_type": "markdown",
      "metadata": {
        "id": "FUPkZxjLVjLK"
      },
      "source": [
        "## Loading training data"
      ]
    },
    {
      "cell_type": "code",
      "metadata": {
        "colab": {
          "base_uri": "https://localhost:8080/",
          "height": 398
        },
        "id": "joone3H4bINR",
        "outputId": "52c072ec-86d9-4401-b827-bd23b081a02d"
      },
      "source": [
        "# train_df_path = join(dataset_dir,'tamil_offensive_full_train_corrected.csv')\n",
        "# Load the dataset into a pandas dataframe.\n",
        "train_df = pd.read_csv('/content/Dataset.xlsx - Sheet1 (3).csv')\n",
        "\n",
        "# Report the number of sentences.\n",
        "print('Number of training sentences: {:,}\\n'.format(train_df.shape[0]))\n",
        "\n",
        "# Display 10 random rows from the data.\n",
        "train_df.sample(10)"
      ],
      "execution_count": 170,
      "outputs": [
        {
          "output_type": "stream",
          "name": "stdout",
          "text": [
            "Number of training sentences: 6,000\n",
            "\n"
          ]
        },
        {
          "output_type": "execute_result",
          "data": {
            "text/plain": [
              "       PID                                              texts  \\\n",
              "1782  1783                                   হালি ঘুমায় কেমনে   \n",
              "3917  3918                                        হাউন আঙ্কেল   \n",
              "221    222               মমতাজের জন্য পার্লামেন্ট সর্গে উঠেছে   \n",
              "2135  2136                             পাইপটা নিচে লাগিয়ে চুষ   \n",
              "5224  5225  যদি দাড়ি টুপি আলাদের গালগাল খেতে চান তাহলে মু...   \n",
              "1168  1169                           সস্তা মেয়েদের এভাবেই খায়   \n",
              "879    880                 আর কইদিন পরে ওই ২টা বিচি হয়ে জাবে।   \n",
              "156    157      কোনো কিছুতে লাগলে টেলেন্ট পুটকি দিয়া গেল অইলে   \n",
              "1657  1658                         লিজেন্ড রা অন্য কিছু দেকবে   \n",
              "323    324                               হালা টোকাইয়ের বংস ধর   \n",
              "\n",
              "                labels  \n",
              "1782     Cyberbullying  \n",
              "3917           Sarcasm  \n",
              "221            Sarcasm  \n",
              "2135     Cyberbullying  \n",
              "5224  Religious_Hatred  \n",
              "1168     Cyberbullying  \n",
              "879      Cyberbullying  \n",
              "156      Cyberbullying  \n",
              "1657           Sarcasm  \n",
              "323      Cyberbullying  "
            ],
            "text/html": [
              "\n",
              "  <div id=\"df-ed9ea607-d390-4416-89fe-be6a44b2c2f4\" class=\"colab-df-container\">\n",
              "    <div>\n",
              "<style scoped>\n",
              "    .dataframe tbody tr th:only-of-type {\n",
              "        vertical-align: middle;\n",
              "    }\n",
              "\n",
              "    .dataframe tbody tr th {\n",
              "        vertical-align: top;\n",
              "    }\n",
              "\n",
              "    .dataframe thead th {\n",
              "        text-align: right;\n",
              "    }\n",
              "</style>\n",
              "<table border=\"1\" class=\"dataframe\">\n",
              "  <thead>\n",
              "    <tr style=\"text-align: right;\">\n",
              "      <th></th>\n",
              "      <th>PID</th>\n",
              "      <th>texts</th>\n",
              "      <th>labels</th>\n",
              "    </tr>\n",
              "  </thead>\n",
              "  <tbody>\n",
              "    <tr>\n",
              "      <th>1782</th>\n",
              "      <td>1783</td>\n",
              "      <td>হালি ঘুমায় কেমনে</td>\n",
              "      <td>Cyberbullying</td>\n",
              "    </tr>\n",
              "    <tr>\n",
              "      <th>3917</th>\n",
              "      <td>3918</td>\n",
              "      <td>হাউন আঙ্কেল</td>\n",
              "      <td>Sarcasm</td>\n",
              "    </tr>\n",
              "    <tr>\n",
              "      <th>221</th>\n",
              "      <td>222</td>\n",
              "      <td>মমতাজের জন্য পার্লামেন্ট সর্গে উঠেছে</td>\n",
              "      <td>Sarcasm</td>\n",
              "    </tr>\n",
              "    <tr>\n",
              "      <th>2135</th>\n",
              "      <td>2136</td>\n",
              "      <td>পাইপটা নিচে লাগিয়ে চুষ</td>\n",
              "      <td>Cyberbullying</td>\n",
              "    </tr>\n",
              "    <tr>\n",
              "      <th>5224</th>\n",
              "      <td>5225</td>\n",
              "      <td>যদি দাড়ি টুপি আলাদের গালগাল খেতে চান তাহলে মু...</td>\n",
              "      <td>Religious_Hatred</td>\n",
              "    </tr>\n",
              "    <tr>\n",
              "      <th>1168</th>\n",
              "      <td>1169</td>\n",
              "      <td>সস্তা মেয়েদের এভাবেই খায়</td>\n",
              "      <td>Cyberbullying</td>\n",
              "    </tr>\n",
              "    <tr>\n",
              "      <th>879</th>\n",
              "      <td>880</td>\n",
              "      <td>আর কইদিন পরে ওই ২টা বিচি হয়ে জাবে।</td>\n",
              "      <td>Cyberbullying</td>\n",
              "    </tr>\n",
              "    <tr>\n",
              "      <th>156</th>\n",
              "      <td>157</td>\n",
              "      <td>কোনো কিছুতে লাগলে টেলেন্ট পুটকি দিয়া গেল অইলে</td>\n",
              "      <td>Cyberbullying</td>\n",
              "    </tr>\n",
              "    <tr>\n",
              "      <th>1657</th>\n",
              "      <td>1658</td>\n",
              "      <td>লিজেন্ড রা অন্য কিছু দেকবে</td>\n",
              "      <td>Sarcasm</td>\n",
              "    </tr>\n",
              "    <tr>\n",
              "      <th>323</th>\n",
              "      <td>324</td>\n",
              "      <td>হালা টোকাইয়ের বংস ধর</td>\n",
              "      <td>Cyberbullying</td>\n",
              "    </tr>\n",
              "  </tbody>\n",
              "</table>\n",
              "</div>\n",
              "    <div class=\"colab-df-buttons\">\n",
              "\n",
              "  <div class=\"colab-df-container\">\n",
              "    <button class=\"colab-df-convert\" onclick=\"convertToInteractive('df-ed9ea607-d390-4416-89fe-be6a44b2c2f4')\"\n",
              "            title=\"Convert this dataframe to an interactive table.\"\n",
              "            style=\"display:none;\">\n",
              "\n",
              "  <svg xmlns=\"http://www.w3.org/2000/svg\" height=\"24px\" viewBox=\"0 -960 960 960\">\n",
              "    <path d=\"M120-120v-720h720v720H120Zm60-500h600v-160H180v160Zm220 220h160v-160H400v160Zm0 220h160v-160H400v160ZM180-400h160v-160H180v160Zm440 0h160v-160H620v160ZM180-180h160v-160H180v160Zm440 0h160v-160H620v160Z\"/>\n",
              "  </svg>\n",
              "    </button>\n",
              "\n",
              "  <style>\n",
              "    .colab-df-container {\n",
              "      display:flex;\n",
              "      gap: 12px;\n",
              "    }\n",
              "\n",
              "    .colab-df-convert {\n",
              "      background-color: #E8F0FE;\n",
              "      border: none;\n",
              "      border-radius: 50%;\n",
              "      cursor: pointer;\n",
              "      display: none;\n",
              "      fill: #1967D2;\n",
              "      height: 32px;\n",
              "      padding: 0 0 0 0;\n",
              "      width: 32px;\n",
              "    }\n",
              "\n",
              "    .colab-df-convert:hover {\n",
              "      background-color: #E2EBFA;\n",
              "      box-shadow: 0px 1px 2px rgba(60, 64, 67, 0.3), 0px 1px 3px 1px rgba(60, 64, 67, 0.15);\n",
              "      fill: #174EA6;\n",
              "    }\n",
              "\n",
              "    .colab-df-buttons div {\n",
              "      margin-bottom: 4px;\n",
              "    }\n",
              "\n",
              "    [theme=dark] .colab-df-convert {\n",
              "      background-color: #3B4455;\n",
              "      fill: #D2E3FC;\n",
              "    }\n",
              "\n",
              "    [theme=dark] .colab-df-convert:hover {\n",
              "      background-color: #434B5C;\n",
              "      box-shadow: 0px 1px 3px 1px rgba(0, 0, 0, 0.15);\n",
              "      filter: drop-shadow(0px 1px 2px rgba(0, 0, 0, 0.3));\n",
              "      fill: #FFFFFF;\n",
              "    }\n",
              "  </style>\n",
              "\n",
              "    <script>\n",
              "      const buttonEl =\n",
              "        document.querySelector('#df-ed9ea607-d390-4416-89fe-be6a44b2c2f4 button.colab-df-convert');\n",
              "      buttonEl.style.display =\n",
              "        google.colab.kernel.accessAllowed ? 'block' : 'none';\n",
              "\n",
              "      async function convertToInteractive(key) {\n",
              "        const element = document.querySelector('#df-ed9ea607-d390-4416-89fe-be6a44b2c2f4');\n",
              "        const dataTable =\n",
              "          await google.colab.kernel.invokeFunction('convertToInteractive',\n",
              "                                                    [key], {});\n",
              "        if (!dataTable) return;\n",
              "\n",
              "        const docLinkHtml = 'Like what you see? Visit the ' +\n",
              "          '<a target=\"_blank\" href=https://colab.research.google.com/notebooks/data_table.ipynb>data table notebook</a>'\n",
              "          + ' to learn more about interactive tables.';\n",
              "        element.innerHTML = '';\n",
              "        dataTable['output_type'] = 'display_data';\n",
              "        await google.colab.output.renderOutput(dataTable, element);\n",
              "        const docLink = document.createElement('div');\n",
              "        docLink.innerHTML = docLinkHtml;\n",
              "        element.appendChild(docLink);\n",
              "      }\n",
              "    </script>\n",
              "  </div>\n",
              "\n",
              "\n",
              "<div id=\"df-85e34194-2abf-4303-aab5-dd8117d97c1f\">\n",
              "  <button class=\"colab-df-quickchart\" onclick=\"quickchart('df-85e34194-2abf-4303-aab5-dd8117d97c1f')\"\n",
              "            title=\"Suggest charts\"\n",
              "            style=\"display:none;\">\n",
              "\n",
              "<svg xmlns=\"http://www.w3.org/2000/svg\" height=\"24px\"viewBox=\"0 0 24 24\"\n",
              "     width=\"24px\">\n",
              "    <g>\n",
              "        <path d=\"M19 3H5c-1.1 0-2 .9-2 2v14c0 1.1.9 2 2 2h14c1.1 0 2-.9 2-2V5c0-1.1-.9-2-2-2zM9 17H7v-7h2v7zm4 0h-2V7h2v10zm4 0h-2v-4h2v4z\"/>\n",
              "    </g>\n",
              "</svg>\n",
              "  </button>\n",
              "\n",
              "<style>\n",
              "  .colab-df-quickchart {\n",
              "      --bg-color: #E8F0FE;\n",
              "      --fill-color: #1967D2;\n",
              "      --hover-bg-color: #E2EBFA;\n",
              "      --hover-fill-color: #174EA6;\n",
              "      --disabled-fill-color: #AAA;\n",
              "      --disabled-bg-color: #DDD;\n",
              "  }\n",
              "\n",
              "  [theme=dark] .colab-df-quickchart {\n",
              "      --bg-color: #3B4455;\n",
              "      --fill-color: #D2E3FC;\n",
              "      --hover-bg-color: #434B5C;\n",
              "      --hover-fill-color: #FFFFFF;\n",
              "      --disabled-bg-color: #3B4455;\n",
              "      --disabled-fill-color: #666;\n",
              "  }\n",
              "\n",
              "  .colab-df-quickchart {\n",
              "    background-color: var(--bg-color);\n",
              "    border: none;\n",
              "    border-radius: 50%;\n",
              "    cursor: pointer;\n",
              "    display: none;\n",
              "    fill: var(--fill-color);\n",
              "    height: 32px;\n",
              "    padding: 0;\n",
              "    width: 32px;\n",
              "  }\n",
              "\n",
              "  .colab-df-quickchart:hover {\n",
              "    background-color: var(--hover-bg-color);\n",
              "    box-shadow: 0 1px 2px rgba(60, 64, 67, 0.3), 0 1px 3px 1px rgba(60, 64, 67, 0.15);\n",
              "    fill: var(--button-hover-fill-color);\n",
              "  }\n",
              "\n",
              "  .colab-df-quickchart-complete:disabled,\n",
              "  .colab-df-quickchart-complete:disabled:hover {\n",
              "    background-color: var(--disabled-bg-color);\n",
              "    fill: var(--disabled-fill-color);\n",
              "    box-shadow: none;\n",
              "  }\n",
              "\n",
              "  .colab-df-spinner {\n",
              "    border: 2px solid var(--fill-color);\n",
              "    border-color: transparent;\n",
              "    border-bottom-color: var(--fill-color);\n",
              "    animation:\n",
              "      spin 1s steps(1) infinite;\n",
              "  }\n",
              "\n",
              "  @keyframes spin {\n",
              "    0% {\n",
              "      border-color: transparent;\n",
              "      border-bottom-color: var(--fill-color);\n",
              "      border-left-color: var(--fill-color);\n",
              "    }\n",
              "    20% {\n",
              "      border-color: transparent;\n",
              "      border-left-color: var(--fill-color);\n",
              "      border-top-color: var(--fill-color);\n",
              "    }\n",
              "    30% {\n",
              "      border-color: transparent;\n",
              "      border-left-color: var(--fill-color);\n",
              "      border-top-color: var(--fill-color);\n",
              "      border-right-color: var(--fill-color);\n",
              "    }\n",
              "    40% {\n",
              "      border-color: transparent;\n",
              "      border-right-color: var(--fill-color);\n",
              "      border-top-color: var(--fill-color);\n",
              "    }\n",
              "    60% {\n",
              "      border-color: transparent;\n",
              "      border-right-color: var(--fill-color);\n",
              "    }\n",
              "    80% {\n",
              "      border-color: transparent;\n",
              "      border-right-color: var(--fill-color);\n",
              "      border-bottom-color: var(--fill-color);\n",
              "    }\n",
              "    90% {\n",
              "      border-color: transparent;\n",
              "      border-bottom-color: var(--fill-color);\n",
              "    }\n",
              "  }\n",
              "</style>\n",
              "\n",
              "  <script>\n",
              "    async function quickchart(key) {\n",
              "      const quickchartButtonEl =\n",
              "        document.querySelector('#' + key + ' button');\n",
              "      quickchartButtonEl.disabled = true;  // To prevent multiple clicks.\n",
              "      quickchartButtonEl.classList.add('colab-df-spinner');\n",
              "      try {\n",
              "        const charts = await google.colab.kernel.invokeFunction(\n",
              "            'suggestCharts', [key], {});\n",
              "      } catch (error) {\n",
              "        console.error('Error during call to suggestCharts:', error);\n",
              "      }\n",
              "      quickchartButtonEl.classList.remove('colab-df-spinner');\n",
              "      quickchartButtonEl.classList.add('colab-df-quickchart-complete');\n",
              "    }\n",
              "    (() => {\n",
              "      let quickchartButtonEl =\n",
              "        document.querySelector('#df-85e34194-2abf-4303-aab5-dd8117d97c1f button');\n",
              "      quickchartButtonEl.style.display =\n",
              "        google.colab.kernel.accessAllowed ? 'block' : 'none';\n",
              "    })();\n",
              "  </script>\n",
              "</div>\n",
              "\n",
              "    </div>\n",
              "  </div>\n"
            ],
            "application/vnd.google.colaboratory.intrinsic+json": {
              "type": "dataframe",
              "summary": "{\n  \"name\": \"train_df\",\n  \"rows\": 10,\n  \"fields\": [\n    {\n      \"column\": \"PID\",\n      \"properties\": {\n        \"dtype\": \"number\",\n        \"std\": 1664,\n        \"min\": 157,\n        \"max\": 5225,\n        \"num_unique_values\": 10,\n        \"samples\": [\n          1658,\n          3918,\n          1169\n        ],\n        \"semantic_type\": \"\",\n        \"description\": \"\"\n      }\n    },\n    {\n      \"column\": \"texts\",\n      \"properties\": {\n        \"dtype\": \"string\",\n        \"num_unique_values\": 10,\n        \"samples\": [\n          \"\\u09b2\\u09bf\\u099c\\u09c7\\u09a8\\u09cd\\u09a1 \\u09b0\\u09be \\u0985\\u09a8\\u09cd\\u09af \\u0995\\u09bf\\u099b\\u09c1 \\u09a6\\u09c7\\u0995\\u09ac\\u09c7\",\n          \"\\u09b9\\u09be\\u0989\\u09a8 \\u0986\\u0999\\u09cd\\u0995\\u09c7\\u09b2\",\n          \"\\u09b8\\u09b8\\u09cd\\u09a4\\u09be \\u09ae\\u09c7\\u09df\\u09c7\\u09a6\\u09c7\\u09b0 \\u098f\\u09ad\\u09be\\u09ac\\u09c7\\u0987 \\u0996\\u09be\\u09df\"\n        ],\n        \"semantic_type\": \"\",\n        \"description\": \"\"\n      }\n    },\n    {\n      \"column\": \"labels\",\n      \"properties\": {\n        \"dtype\": \"category\",\n        \"num_unique_values\": 3,\n        \"samples\": [\n          \"Cyberbullying\",\n          \"Sarcasm\",\n          \"Religious_Hatred\"\n        ],\n        \"semantic_type\": \"\",\n        \"description\": \"\"\n      }\n    }\n  ]\n}"
            }
          },
          "metadata": {},
          "execution_count": 170
        }
      ]
    },
    {
      "cell_type": "code",
      "metadata": {
        "colab": {
          "base_uri": "https://localhost:8080/",
          "height": 304
        },
        "id": "w4VW351225YK",
        "outputId": "c29c6e57-19ce-42b8-87b9-474ceed3e97f"
      },
      "source": [
        "train_df['labels'].value_counts()"
      ],
      "execution_count": 171,
      "outputs": [
        {
          "output_type": "execute_result",
          "data": {
            "text/plain": [
              "labels\n",
              "Cyberbullying            2146\n",
              "Sarcasm                  2005\n",
              "Political                 971\n",
              "Religious_Hatred          571\n",
              "Racism                    250\n",
              "Gender_Discrimination      57\n",
              "Name: count, dtype: int64"
            ],
            "text/html": [
              "<div>\n",
              "<style scoped>\n",
              "    .dataframe tbody tr th:only-of-type {\n",
              "        vertical-align: middle;\n",
              "    }\n",
              "\n",
              "    .dataframe tbody tr th {\n",
              "        vertical-align: top;\n",
              "    }\n",
              "\n",
              "    .dataframe thead th {\n",
              "        text-align: right;\n",
              "    }\n",
              "</style>\n",
              "<table border=\"1\" class=\"dataframe\">\n",
              "  <thead>\n",
              "    <tr style=\"text-align: right;\">\n",
              "      <th></th>\n",
              "      <th>count</th>\n",
              "    </tr>\n",
              "    <tr>\n",
              "      <th>labels</th>\n",
              "      <th></th>\n",
              "    </tr>\n",
              "  </thead>\n",
              "  <tbody>\n",
              "    <tr>\n",
              "      <th>Cyberbullying</th>\n",
              "      <td>2146</td>\n",
              "    </tr>\n",
              "    <tr>\n",
              "      <th>Sarcasm</th>\n",
              "      <td>2005</td>\n",
              "    </tr>\n",
              "    <tr>\n",
              "      <th>Political</th>\n",
              "      <td>971</td>\n",
              "    </tr>\n",
              "    <tr>\n",
              "      <th>Religious_Hatred</th>\n",
              "      <td>571</td>\n",
              "    </tr>\n",
              "    <tr>\n",
              "      <th>Racism</th>\n",
              "      <td>250</td>\n",
              "    </tr>\n",
              "    <tr>\n",
              "      <th>Gender_Discrimination</th>\n",
              "      <td>57</td>\n",
              "    </tr>\n",
              "  </tbody>\n",
              "</table>\n",
              "</div><br><label><b>dtype:</b> int64</label>"
            ]
          },
          "metadata": {},
          "execution_count": 171
        }
      ]
    },
    {
      "cell_type": "code",
      "metadata": {
        "id": "ooOv9QZtnLIF"
      },
      "source": [
        "\n",
        "le = LabelEncoder()\n",
        "train_df['labels'] = le.fit_transform(train_df['labels'])"
      ],
      "execution_count": 172,
      "outputs": []
    },
    {
      "cell_type": "code",
      "metadata": {
        "colab": {
          "base_uri": "https://localhost:8080/",
          "height": 304
        },
        "id": "a89Bf4LpnigU",
        "outputId": "ead78521-c697-427d-9928-6e6c4dfed1ca"
      },
      "source": [
        "train_df['labels'].value_counts()"
      ],
      "execution_count": 173,
      "outputs": [
        {
          "output_type": "execute_result",
          "data": {
            "text/plain": [
              "labels\n",
              "0    2146\n",
              "5    2005\n",
              "2     971\n",
              "4     571\n",
              "3     250\n",
              "1      57\n",
              "Name: count, dtype: int64"
            ],
            "text/html": [
              "<div>\n",
              "<style scoped>\n",
              "    .dataframe tbody tr th:only-of-type {\n",
              "        vertical-align: middle;\n",
              "    }\n",
              "\n",
              "    .dataframe tbody tr th {\n",
              "        vertical-align: top;\n",
              "    }\n",
              "\n",
              "    .dataframe thead th {\n",
              "        text-align: right;\n",
              "    }\n",
              "</style>\n",
              "<table border=\"1\" class=\"dataframe\">\n",
              "  <thead>\n",
              "    <tr style=\"text-align: right;\">\n",
              "      <th></th>\n",
              "      <th>count</th>\n",
              "    </tr>\n",
              "    <tr>\n",
              "      <th>labels</th>\n",
              "      <th></th>\n",
              "    </tr>\n",
              "  </thead>\n",
              "  <tbody>\n",
              "    <tr>\n",
              "      <th>0</th>\n",
              "      <td>2146</td>\n",
              "    </tr>\n",
              "    <tr>\n",
              "      <th>5</th>\n",
              "      <td>2005</td>\n",
              "    </tr>\n",
              "    <tr>\n",
              "      <th>2</th>\n",
              "      <td>971</td>\n",
              "    </tr>\n",
              "    <tr>\n",
              "      <th>4</th>\n",
              "      <td>571</td>\n",
              "    </tr>\n",
              "    <tr>\n",
              "      <th>3</th>\n",
              "      <td>250</td>\n",
              "    </tr>\n",
              "    <tr>\n",
              "      <th>1</th>\n",
              "      <td>57</td>\n",
              "    </tr>\n",
              "  </tbody>\n",
              "</table>\n",
              "</div><br><label><b>dtype:</b> int64</label>"
            ]
          },
          "metadata": {},
          "execution_count": 173
        }
      ]
    },
    {
      "cell_type": "markdown",
      "metadata": {
        "id": "bvNeR4lTVnK0"
      },
      "source": [
        "### Loading `train_sentences` and `train_labels`"
      ]
    },
    {
      "cell_type": "code",
      "metadata": {
        "id": "EufQZx2dbKMT"
      },
      "source": [
        "# Get the lists of sentences and their labels.\n",
        "train_sentences = train_df['texts'].values\n",
        "train_labels = train_df['labels'].values"
      ],
      "execution_count": 174,
      "outputs": []
    },
    {
      "cell_type": "code",
      "source": [],
      "metadata": {
        "id": "g_SpjHu6ba8r"
      },
      "execution_count": 174,
      "outputs": []
    },
    {
      "cell_type": "markdown",
      "metadata": {
        "id": "wnZSg5f7ZWs_"
      },
      "source": [
        "## Saving Class Names"
      ]
    },
    {
      "cell_type": "code",
      "metadata": {
        "id": "83tTT-wbZa1o"
      },
      "source": [
        "class_names = [\n",
        "                'Cyberbullying', 'Religious_Hatred', 'Gender_Discrimination',\n",
        "       'Sarcasm', 'Political', 'Racism'\n",
        "]"
      ],
      "execution_count": 175,
      "outputs": []
    },
    {
      "cell_type": "markdown",
      "metadata": {
        "id": "ToUbAgZ9ap63"
      },
      "source": [
        "## Loading the validation data"
      ]
    },
    {
      "cell_type": "code",
      "metadata": {
        "colab": {
          "base_uri": "https://localhost:8080/",
          "height": 398
        },
        "id": "Dle8VzoAjOLS",
        "outputId": "c6d55674-a21e-4f57-e25d-ee617677de14"
      },
      "source": [
        "# val_df_path = join(dataset_dir,'tamil_offensive_full_dev_corrected.csv')\n",
        "# Load the dataset into a pandas dataframe.\n",
        "val_df = pd.read_csv('/content/Dataset.xlsx - Sheet1 (3).csv')\n",
        "\n",
        "# Report the number of sentences.\n",
        "print('Number of training sentences: {:,}\\n'.format(val_df.shape[0]))\n",
        "\n",
        "# Display 10 random rows from the data.\n",
        "val_df.sample(10)"
      ],
      "execution_count": 176,
      "outputs": [
        {
          "output_type": "stream",
          "name": "stdout",
          "text": [
            "Number of training sentences: 6,000\n",
            "\n"
          ]
        },
        {
          "output_type": "execute_result",
          "data": {
            "text/plain": [
              "       PID                                texts            labels\n",
              "4796  4797       ফেরাউন, নম্রুদ এরকমই ছিল একদম।  Religious_Hatred\n",
              "2596  2597        হায়রে জন্মভূমি তোমাকে ধিক্কার            Racism\n",
              "3529  3530                 এইরকম একটা বউ দরকার,           Sarcasm\n",
              "1830  1831           এখন জানলাম গাভী মানে ইকবাল     Cyberbullying\n",
              "3419  3420  সরকারী সম্পত্তি ধংস করেছে এরা কারা?         Political\n",
              "4590  4591                       এই বাইনচুদ কেয়     Cyberbullying\n",
              "149    150   প্রচুর হতাস প্লেবয় হতে পারেনি বলে।           Sarcasm\n",
              "3349  3350                 আওয়ামলীগয়ের বুধাজিবী         Political\n",
              "3282  3283           আপনার আবেগ সবাই দেখে ফেলছে           Sarcasm\n",
              "3563  3564                  লে তোদের ঈদের উপহার           Sarcasm"
            ],
            "text/html": [
              "\n",
              "  <div id=\"df-2374a389-f97e-4918-84b4-757cf6e0cf61\" class=\"colab-df-container\">\n",
              "    <div>\n",
              "<style scoped>\n",
              "    .dataframe tbody tr th:only-of-type {\n",
              "        vertical-align: middle;\n",
              "    }\n",
              "\n",
              "    .dataframe tbody tr th {\n",
              "        vertical-align: top;\n",
              "    }\n",
              "\n",
              "    .dataframe thead th {\n",
              "        text-align: right;\n",
              "    }\n",
              "</style>\n",
              "<table border=\"1\" class=\"dataframe\">\n",
              "  <thead>\n",
              "    <tr style=\"text-align: right;\">\n",
              "      <th></th>\n",
              "      <th>PID</th>\n",
              "      <th>texts</th>\n",
              "      <th>labels</th>\n",
              "    </tr>\n",
              "  </thead>\n",
              "  <tbody>\n",
              "    <tr>\n",
              "      <th>4796</th>\n",
              "      <td>4797</td>\n",
              "      <td>ফেরাউন, নম্রুদ এরকমই ছিল একদম।</td>\n",
              "      <td>Religious_Hatred</td>\n",
              "    </tr>\n",
              "    <tr>\n",
              "      <th>2596</th>\n",
              "      <td>2597</td>\n",
              "      <td>হায়রে জন্মভূমি তোমাকে ধিক্কার</td>\n",
              "      <td>Racism</td>\n",
              "    </tr>\n",
              "    <tr>\n",
              "      <th>3529</th>\n",
              "      <td>3530</td>\n",
              "      <td>এইরকম একটা বউ দরকার,</td>\n",
              "      <td>Sarcasm</td>\n",
              "    </tr>\n",
              "    <tr>\n",
              "      <th>1830</th>\n",
              "      <td>1831</td>\n",
              "      <td>এখন জানলাম গাভী মানে ইকবাল</td>\n",
              "      <td>Cyberbullying</td>\n",
              "    </tr>\n",
              "    <tr>\n",
              "      <th>3419</th>\n",
              "      <td>3420</td>\n",
              "      <td>সরকারী সম্পত্তি ধংস করেছে এরা কারা?</td>\n",
              "      <td>Political</td>\n",
              "    </tr>\n",
              "    <tr>\n",
              "      <th>4590</th>\n",
              "      <td>4591</td>\n",
              "      <td>এই বাইনচুদ কেয়</td>\n",
              "      <td>Cyberbullying</td>\n",
              "    </tr>\n",
              "    <tr>\n",
              "      <th>149</th>\n",
              "      <td>150</td>\n",
              "      <td>প্রচুর হতাস প্লেবয় হতে পারেনি বলে।</td>\n",
              "      <td>Sarcasm</td>\n",
              "    </tr>\n",
              "    <tr>\n",
              "      <th>3349</th>\n",
              "      <td>3350</td>\n",
              "      <td>আওয়ামলীগয়ের বুধাজিবী</td>\n",
              "      <td>Political</td>\n",
              "    </tr>\n",
              "    <tr>\n",
              "      <th>3282</th>\n",
              "      <td>3283</td>\n",
              "      <td>আপনার আবেগ সবাই দেখে ফেলছে</td>\n",
              "      <td>Sarcasm</td>\n",
              "    </tr>\n",
              "    <tr>\n",
              "      <th>3563</th>\n",
              "      <td>3564</td>\n",
              "      <td>লে তোদের ঈদের উপহার</td>\n",
              "      <td>Sarcasm</td>\n",
              "    </tr>\n",
              "  </tbody>\n",
              "</table>\n",
              "</div>\n",
              "    <div class=\"colab-df-buttons\">\n",
              "\n",
              "  <div class=\"colab-df-container\">\n",
              "    <button class=\"colab-df-convert\" onclick=\"convertToInteractive('df-2374a389-f97e-4918-84b4-757cf6e0cf61')\"\n",
              "            title=\"Convert this dataframe to an interactive table.\"\n",
              "            style=\"display:none;\">\n",
              "\n",
              "  <svg xmlns=\"http://www.w3.org/2000/svg\" height=\"24px\" viewBox=\"0 -960 960 960\">\n",
              "    <path d=\"M120-120v-720h720v720H120Zm60-500h600v-160H180v160Zm220 220h160v-160H400v160Zm0 220h160v-160H400v160ZM180-400h160v-160H180v160Zm440 0h160v-160H620v160ZM180-180h160v-160H180v160Zm440 0h160v-160H620v160Z\"/>\n",
              "  </svg>\n",
              "    </button>\n",
              "\n",
              "  <style>\n",
              "    .colab-df-container {\n",
              "      display:flex;\n",
              "      gap: 12px;\n",
              "    }\n",
              "\n",
              "    .colab-df-convert {\n",
              "      background-color: #E8F0FE;\n",
              "      border: none;\n",
              "      border-radius: 50%;\n",
              "      cursor: pointer;\n",
              "      display: none;\n",
              "      fill: #1967D2;\n",
              "      height: 32px;\n",
              "      padding: 0 0 0 0;\n",
              "      width: 32px;\n",
              "    }\n",
              "\n",
              "    .colab-df-convert:hover {\n",
              "      background-color: #E2EBFA;\n",
              "      box-shadow: 0px 1px 2px rgba(60, 64, 67, 0.3), 0px 1px 3px 1px rgba(60, 64, 67, 0.15);\n",
              "      fill: #174EA6;\n",
              "    }\n",
              "\n",
              "    .colab-df-buttons div {\n",
              "      margin-bottom: 4px;\n",
              "    }\n",
              "\n",
              "    [theme=dark] .colab-df-convert {\n",
              "      background-color: #3B4455;\n",
              "      fill: #D2E3FC;\n",
              "    }\n",
              "\n",
              "    [theme=dark] .colab-df-convert:hover {\n",
              "      background-color: #434B5C;\n",
              "      box-shadow: 0px 1px 3px 1px rgba(0, 0, 0, 0.15);\n",
              "      filter: drop-shadow(0px 1px 2px rgba(0, 0, 0, 0.3));\n",
              "      fill: #FFFFFF;\n",
              "    }\n",
              "  </style>\n",
              "\n",
              "    <script>\n",
              "      const buttonEl =\n",
              "        document.querySelector('#df-2374a389-f97e-4918-84b4-757cf6e0cf61 button.colab-df-convert');\n",
              "      buttonEl.style.display =\n",
              "        google.colab.kernel.accessAllowed ? 'block' : 'none';\n",
              "\n",
              "      async function convertToInteractive(key) {\n",
              "        const element = document.querySelector('#df-2374a389-f97e-4918-84b4-757cf6e0cf61');\n",
              "        const dataTable =\n",
              "          await google.colab.kernel.invokeFunction('convertToInteractive',\n",
              "                                                    [key], {});\n",
              "        if (!dataTable) return;\n",
              "\n",
              "        const docLinkHtml = 'Like what you see? Visit the ' +\n",
              "          '<a target=\"_blank\" href=https://colab.research.google.com/notebooks/data_table.ipynb>data table notebook</a>'\n",
              "          + ' to learn more about interactive tables.';\n",
              "        element.innerHTML = '';\n",
              "        dataTable['output_type'] = 'display_data';\n",
              "        await google.colab.output.renderOutput(dataTable, element);\n",
              "        const docLink = document.createElement('div');\n",
              "        docLink.innerHTML = docLinkHtml;\n",
              "        element.appendChild(docLink);\n",
              "      }\n",
              "    </script>\n",
              "  </div>\n",
              "\n",
              "\n",
              "<div id=\"df-07f5705d-2033-4f3d-9b5d-b1e2c4047c99\">\n",
              "  <button class=\"colab-df-quickchart\" onclick=\"quickchart('df-07f5705d-2033-4f3d-9b5d-b1e2c4047c99')\"\n",
              "            title=\"Suggest charts\"\n",
              "            style=\"display:none;\">\n",
              "\n",
              "<svg xmlns=\"http://www.w3.org/2000/svg\" height=\"24px\"viewBox=\"0 0 24 24\"\n",
              "     width=\"24px\">\n",
              "    <g>\n",
              "        <path d=\"M19 3H5c-1.1 0-2 .9-2 2v14c0 1.1.9 2 2 2h14c1.1 0 2-.9 2-2V5c0-1.1-.9-2-2-2zM9 17H7v-7h2v7zm4 0h-2V7h2v10zm4 0h-2v-4h2v4z\"/>\n",
              "    </g>\n",
              "</svg>\n",
              "  </button>\n",
              "\n",
              "<style>\n",
              "  .colab-df-quickchart {\n",
              "      --bg-color: #E8F0FE;\n",
              "      --fill-color: #1967D2;\n",
              "      --hover-bg-color: #E2EBFA;\n",
              "      --hover-fill-color: #174EA6;\n",
              "      --disabled-fill-color: #AAA;\n",
              "      --disabled-bg-color: #DDD;\n",
              "  }\n",
              "\n",
              "  [theme=dark] .colab-df-quickchart {\n",
              "      --bg-color: #3B4455;\n",
              "      --fill-color: #D2E3FC;\n",
              "      --hover-bg-color: #434B5C;\n",
              "      --hover-fill-color: #FFFFFF;\n",
              "      --disabled-bg-color: #3B4455;\n",
              "      --disabled-fill-color: #666;\n",
              "  }\n",
              "\n",
              "  .colab-df-quickchart {\n",
              "    background-color: var(--bg-color);\n",
              "    border: none;\n",
              "    border-radius: 50%;\n",
              "    cursor: pointer;\n",
              "    display: none;\n",
              "    fill: var(--fill-color);\n",
              "    height: 32px;\n",
              "    padding: 0;\n",
              "    width: 32px;\n",
              "  }\n",
              "\n",
              "  .colab-df-quickchart:hover {\n",
              "    background-color: var(--hover-bg-color);\n",
              "    box-shadow: 0 1px 2px rgba(60, 64, 67, 0.3), 0 1px 3px 1px rgba(60, 64, 67, 0.15);\n",
              "    fill: var(--button-hover-fill-color);\n",
              "  }\n",
              "\n",
              "  .colab-df-quickchart-complete:disabled,\n",
              "  .colab-df-quickchart-complete:disabled:hover {\n",
              "    background-color: var(--disabled-bg-color);\n",
              "    fill: var(--disabled-fill-color);\n",
              "    box-shadow: none;\n",
              "  }\n",
              "\n",
              "  .colab-df-spinner {\n",
              "    border: 2px solid var(--fill-color);\n",
              "    border-color: transparent;\n",
              "    border-bottom-color: var(--fill-color);\n",
              "    animation:\n",
              "      spin 1s steps(1) infinite;\n",
              "  }\n",
              "\n",
              "  @keyframes spin {\n",
              "    0% {\n",
              "      border-color: transparent;\n",
              "      border-bottom-color: var(--fill-color);\n",
              "      border-left-color: var(--fill-color);\n",
              "    }\n",
              "    20% {\n",
              "      border-color: transparent;\n",
              "      border-left-color: var(--fill-color);\n",
              "      border-top-color: var(--fill-color);\n",
              "    }\n",
              "    30% {\n",
              "      border-color: transparent;\n",
              "      border-left-color: var(--fill-color);\n",
              "      border-top-color: var(--fill-color);\n",
              "      border-right-color: var(--fill-color);\n",
              "    }\n",
              "    40% {\n",
              "      border-color: transparent;\n",
              "      border-right-color: var(--fill-color);\n",
              "      border-top-color: var(--fill-color);\n",
              "    }\n",
              "    60% {\n",
              "      border-color: transparent;\n",
              "      border-right-color: var(--fill-color);\n",
              "    }\n",
              "    80% {\n",
              "      border-color: transparent;\n",
              "      border-right-color: var(--fill-color);\n",
              "      border-bottom-color: var(--fill-color);\n",
              "    }\n",
              "    90% {\n",
              "      border-color: transparent;\n",
              "      border-bottom-color: var(--fill-color);\n",
              "    }\n",
              "  }\n",
              "</style>\n",
              "\n",
              "  <script>\n",
              "    async function quickchart(key) {\n",
              "      const quickchartButtonEl =\n",
              "        document.querySelector('#' + key + ' button');\n",
              "      quickchartButtonEl.disabled = true;  // To prevent multiple clicks.\n",
              "      quickchartButtonEl.classList.add('colab-df-spinner');\n",
              "      try {\n",
              "        const charts = await google.colab.kernel.invokeFunction(\n",
              "            'suggestCharts', [key], {});\n",
              "      } catch (error) {\n",
              "        console.error('Error during call to suggestCharts:', error);\n",
              "      }\n",
              "      quickchartButtonEl.classList.remove('colab-df-spinner');\n",
              "      quickchartButtonEl.classList.add('colab-df-quickchart-complete');\n",
              "    }\n",
              "    (() => {\n",
              "      let quickchartButtonEl =\n",
              "        document.querySelector('#df-07f5705d-2033-4f3d-9b5d-b1e2c4047c99 button');\n",
              "      quickchartButtonEl.style.display =\n",
              "        google.colab.kernel.accessAllowed ? 'block' : 'none';\n",
              "    })();\n",
              "  </script>\n",
              "</div>\n",
              "\n",
              "    </div>\n",
              "  </div>\n"
            ],
            "application/vnd.google.colaboratory.intrinsic+json": {
              "type": "dataframe",
              "summary": "{\n  \"name\": \"val_df\",\n  \"rows\": 10,\n  \"fields\": [\n    {\n      \"column\": \"PID\",\n      \"properties\": {\n        \"dtype\": \"number\",\n        \"std\": 1344,\n        \"min\": 150,\n        \"max\": 4797,\n        \"num_unique_values\": 10,\n        \"samples\": [\n          3283,\n          2597,\n          4591\n        ],\n        \"semantic_type\": \"\",\n        \"description\": \"\"\n      }\n    },\n    {\n      \"column\": \"texts\",\n      \"properties\": {\n        \"dtype\": \"string\",\n        \"num_unique_values\": 10,\n        \"samples\": [\n          \"\\u0986\\u09aa\\u09a8\\u09be\\u09b0 \\u0986\\u09ac\\u09c7\\u0997 \\u09b8\\u09ac\\u09be\\u0987 \\u09a6\\u09c7\\u0996\\u09c7 \\u09ab\\u09c7\\u09b2\\u099b\\u09c7\",\n          \"\\u09b9\\u09be\\u09df\\u09b0\\u09c7 \\u099c\\u09a8\\u09cd\\u09ae\\u09ad\\u09c2\\u09ae\\u09bf \\u09a4\\u09cb\\u09ae\\u09be\\u0995\\u09c7 \\u09a7\\u09bf\\u0995\\u09cd\\u0995\\u09be\\u09b0\",\n          \"\\u098f\\u0987 \\u09ac\\u09be\\u0987\\u09a8\\u099a\\u09c1\\u09a6 \\u0995\\u09c7\\u09df\"\n        ],\n        \"semantic_type\": \"\",\n        \"description\": \"\"\n      }\n    },\n    {\n      \"column\": \"labels\",\n      \"properties\": {\n        \"dtype\": \"string\",\n        \"num_unique_values\": 5,\n        \"samples\": [\n          \"Racism\",\n          \"Political\",\n          \"Sarcasm\"\n        ],\n        \"semantic_type\": \"\",\n        \"description\": \"\"\n      }\n    }\n  ]\n}"
            }
          },
          "metadata": {},
          "execution_count": 176
        }
      ]
    },
    {
      "cell_type": "code",
      "metadata": {
        "colab": {
          "base_uri": "https://localhost:8080/",
          "height": 304
        },
        "id": "AypCmtBcDV6v",
        "outputId": "cc612e27-9c88-4e0e-8375-84a960d28f8b"
      },
      "source": [
        "val_df['labels'].value_counts()"
      ],
      "execution_count": 177,
      "outputs": [
        {
          "output_type": "execute_result",
          "data": {
            "text/plain": [
              "labels\n",
              "Cyberbullying            2146\n",
              "Sarcasm                  2005\n",
              "Political                 971\n",
              "Religious_Hatred          571\n",
              "Racism                    250\n",
              "Gender_Discrimination      57\n",
              "Name: count, dtype: int64"
            ],
            "text/html": [
              "<div>\n",
              "<style scoped>\n",
              "    .dataframe tbody tr th:only-of-type {\n",
              "        vertical-align: middle;\n",
              "    }\n",
              "\n",
              "    .dataframe tbody tr th {\n",
              "        vertical-align: top;\n",
              "    }\n",
              "\n",
              "    .dataframe thead th {\n",
              "        text-align: right;\n",
              "    }\n",
              "</style>\n",
              "<table border=\"1\" class=\"dataframe\">\n",
              "  <thead>\n",
              "    <tr style=\"text-align: right;\">\n",
              "      <th></th>\n",
              "      <th>count</th>\n",
              "    </tr>\n",
              "    <tr>\n",
              "      <th>labels</th>\n",
              "      <th></th>\n",
              "    </tr>\n",
              "  </thead>\n",
              "  <tbody>\n",
              "    <tr>\n",
              "      <th>Cyberbullying</th>\n",
              "      <td>2146</td>\n",
              "    </tr>\n",
              "    <tr>\n",
              "      <th>Sarcasm</th>\n",
              "      <td>2005</td>\n",
              "    </tr>\n",
              "    <tr>\n",
              "      <th>Political</th>\n",
              "      <td>971</td>\n",
              "    </tr>\n",
              "    <tr>\n",
              "      <th>Religious_Hatred</th>\n",
              "      <td>571</td>\n",
              "    </tr>\n",
              "    <tr>\n",
              "      <th>Racism</th>\n",
              "      <td>250</td>\n",
              "    </tr>\n",
              "    <tr>\n",
              "      <th>Gender_Discrimination</th>\n",
              "      <td>57</td>\n",
              "    </tr>\n",
              "  </tbody>\n",
              "</table>\n",
              "</div><br><label><b>dtype:</b> int64</label>"
            ]
          },
          "metadata": {},
          "execution_count": 177
        }
      ]
    },
    {
      "cell_type": "code",
      "metadata": {
        "id": "-CgK81lGDPKC"
      },
      "source": [
        "val_df['labels'] = le.transform(val_df['labels'])"
      ],
      "execution_count": 178,
      "outputs": []
    },
    {
      "cell_type": "code",
      "metadata": {
        "colab": {
          "base_uri": "https://localhost:8080/",
          "height": 304
        },
        "id": "Yfgn-E6JDZQZ",
        "outputId": "afd6ed2d-cead-479c-e5c7-ca2ea6bd0f2f"
      },
      "source": [
        "val_df['labels'].value_counts()"
      ],
      "execution_count": 179,
      "outputs": [
        {
          "output_type": "execute_result",
          "data": {
            "text/plain": [
              "labels\n",
              "0    2146\n",
              "5    2005\n",
              "2     971\n",
              "4     571\n",
              "3     250\n",
              "1      57\n",
              "Name: count, dtype: int64"
            ],
            "text/html": [
              "<div>\n",
              "<style scoped>\n",
              "    .dataframe tbody tr th:only-of-type {\n",
              "        vertical-align: middle;\n",
              "    }\n",
              "\n",
              "    .dataframe tbody tr th {\n",
              "        vertical-align: top;\n",
              "    }\n",
              "\n",
              "    .dataframe thead th {\n",
              "        text-align: right;\n",
              "    }\n",
              "</style>\n",
              "<table border=\"1\" class=\"dataframe\">\n",
              "  <thead>\n",
              "    <tr style=\"text-align: right;\">\n",
              "      <th></th>\n",
              "      <th>count</th>\n",
              "    </tr>\n",
              "    <tr>\n",
              "      <th>labels</th>\n",
              "      <th></th>\n",
              "    </tr>\n",
              "  </thead>\n",
              "  <tbody>\n",
              "    <tr>\n",
              "      <th>0</th>\n",
              "      <td>2146</td>\n",
              "    </tr>\n",
              "    <tr>\n",
              "      <th>5</th>\n",
              "      <td>2005</td>\n",
              "    </tr>\n",
              "    <tr>\n",
              "      <th>2</th>\n",
              "      <td>971</td>\n",
              "    </tr>\n",
              "    <tr>\n",
              "      <th>4</th>\n",
              "      <td>571</td>\n",
              "    </tr>\n",
              "    <tr>\n",
              "      <th>3</th>\n",
              "      <td>250</td>\n",
              "    </tr>\n",
              "    <tr>\n",
              "      <th>1</th>\n",
              "      <td>57</td>\n",
              "    </tr>\n",
              "  </tbody>\n",
              "</table>\n",
              "</div><br><label><b>dtype:</b> int64</label>"
            ]
          },
          "metadata": {},
          "execution_count": 179
        }
      ]
    },
    {
      "cell_type": "markdown",
      "metadata": {
        "id": "DMdNNVqrDCuN"
      },
      "source": [
        "### Loading `val_sentences` and `val_labels`"
      ]
    },
    {
      "cell_type": "code",
      "metadata": {
        "id": "LvGhjUkaDCuO"
      },
      "source": [
        "# Get the lists of sentences and their labels.\n",
        "val_sentences = val_df['texts'].values\n",
        "val_labels = val_df['labels'].values"
      ],
      "execution_count": 180,
      "outputs": []
    },
    {
      "cell_type": "markdown",
      "metadata": {
        "id": "fS2UcOiEVuhm"
      },
      "source": [
        "## Handling class imbalance using `sklearn's compute_class_weight`\n",
        "\n"
      ]
    },
    {
      "cell_type": "code",
      "metadata": {
        "id": "WL4tP_YkI1mY"
      },
      "source": [
        "\n",
        "# #compute the class weights\n",
        "# class_wts = compute_class_weight('balanced', np.unique(train_labels), train_labels)\n",
        "\n",
        "# print(class_wts)"
      ],
      "execution_count": 181,
      "outputs": []
    },
    {
      "cell_type": "markdown",
      "metadata": {
        "id": "z_WjMTuibsrf"
      },
      "source": [
        "## Helper Functions"
      ]
    },
    {
      "cell_type": "markdown",
      "metadata": {
        "id": "Bef28eHNV-_d"
      },
      "source": [
        "#### 1) Update Interval Function"
      ]
    },
    {
      "cell_type": "code",
      "metadata": {
        "id": "lBK0ujfEbMir"
      },
      "source": [
        "def good_update_interval(total_iters, num_desired_updates):\n",
        "    '''\n",
        "    This function will try to pick an intelligent progress update interval\n",
        "    based on the magnitude of the total iterations.\n",
        "\n",
        "    Parameters:\n",
        "      `total_iters` - The number of iterations in the for-loop.\n",
        "      `num_desired_updates` - How many times we want to see an update over the\n",
        "                              course of the for-loop.\n",
        "    '''\n",
        "    # Divide the total iterations by the desired number of updates. Most likely\n",
        "    # this will be some ugly number.\n",
        "    exact_interval = total_iters / num_desired_updates\n",
        "\n",
        "    # The `round` function has the ability to round down a number to, e.g., the\n",
        "    # nearest thousandth: round(exact_interval, -3)\n",
        "    #\n",
        "    # To determine the magnitude to round to, find the magnitude of the total,\n",
        "    # and then go one magnitude below that.\n",
        "\n",
        "    # Get the order of magnitude of the total.\n",
        "    order_of_mag = len(str(total_iters)) - 1\n",
        "\n",
        "    # Our update interval should be rounded to an order of magnitude smaller.\n",
        "    round_mag = order_of_mag - 1\n",
        "\n",
        "    # Round down and cast to an int.\n",
        "    update_interval = int(round(exact_interval, -round_mag))\n",
        "\n",
        "    # Don't allow the interval to be zero!\n",
        "    if update_interval == 0:\n",
        "        update_interval = 1\n",
        "\n",
        "    return update_interval"
      ],
      "execution_count": 182,
      "outputs": []
    },
    {
      "cell_type": "markdown",
      "metadata": {
        "id": "eMGycwGAWFyO"
      },
      "source": [
        "#### 2) Format time function"
      ]
    },
    {
      "cell_type": "code",
      "metadata": {
        "id": "c9zVyNQLm-3q"
      },
      "source": [
        "def format_time(elapsed):\n",
        "    '''\n",
        "    Takes a time in seconds and returns a string hh:mm:ss\n",
        "    '''\n",
        "    # Round to the nearest second.\n",
        "    elapsed_rounded = int(round((elapsed)))\n",
        "\n",
        "    # Format as hh:mm:ss\n",
        "    return str(datetime.timedelta(seconds=elapsed_rounded))\n"
      ],
      "execution_count": 183,
      "outputs": []
    },
    {
      "cell_type": "markdown",
      "metadata": {
        "id": "EBAo04ENWw3n"
      },
      "source": [
        "#### 3) Make Smart Batches function"
      ]
    },
    {
      "cell_type": "code",
      "metadata": {
        "id": "nof-AUeoiZc2"
      },
      "source": [
        "def make_smart_batches(text_samples, labels, batch_size,tokenizer,max_input_length):\n",
        "    '''\n",
        "    This function combines all of the required steps to prepare batches.\n",
        "    '''\n",
        "\n",
        "    print('Creating Smart Batches from {:,} examples with batch size {:,}...\\n'.format(len(text_samples), batch_size))\n",
        "\n",
        "    # =========================\n",
        "    #   Tokenize & Truncate\n",
        "    # =========================\n",
        "\n",
        "    full_input_ids = []\n",
        "\n",
        "    # Tokenize all training examples\n",
        "    print('Tokenizing {:,} samples...'.format(len(labels)))\n",
        "\n",
        "    # Choose an interval on which to print progress updates.\n",
        "    update_interval = good_update_interval(total_iters=len(labels), num_desired_updates=10)\n",
        "\n",
        "    # For each training example...\n",
        "    for text in text_samples:\n",
        "\n",
        "        # Report progress.\n",
        "        if ((len(full_input_ids) % update_interval) == 0):\n",
        "            print('  Tokenized {:,} samples.'.format(len(full_input_ids)))\n",
        "\n",
        "        # Tokenize the sample.\n",
        "        input_ids = tokenizer.encode(text=text,              # Text to encode.\n",
        "                                    add_special_tokens=True, # Do add specials.\n",
        "                                    max_length=max_input_length,\n",
        "                                    truncation=True,         # Do Truncate!\n",
        "                                    padding=False)           # DO NOT pad.\n",
        "\n",
        "        # Add the tokenized result to our list.\n",
        "        full_input_ids.append(input_ids)\n",
        "\n",
        "    print('DONE.')\n",
        "    print('{:>10,} samples\\n'.format(len(full_input_ids)))\n",
        "\n",
        "    # =========================\n",
        "    #      Select Batches\n",
        "    # =========================\n",
        "\n",
        "    # Sort the two lists together by the length of the input sequence.\n",
        "    samples = sorted(zip(full_input_ids, labels), key=lambda x: len(x[0]))\n",
        "\n",
        "    print('{:>10,} samples after sorting\\n'.format(len(samples)))\n",
        "\n",
        "    import random\n",
        "\n",
        "    # List of batches that we'll construct.\n",
        "    batch_ordered_sentences = []\n",
        "    batch_ordered_labels = []\n",
        "\n",
        "    print('Creating batches of size {:}...'.format(batch_size))\n",
        "\n",
        "    # Choose an interval on which to print progress updates.\n",
        "    update_interval = good_update_interval(total_iters=len(samples), num_desired_updates=10)\n",
        "\n",
        "    # Loop over all of the input samples...\n",
        "    while len(samples) > 0:\n",
        "\n",
        "        # Report progress.\n",
        "        if ((len(batch_ordered_sentences) % update_interval) == 0 \\\n",
        "            and not len(batch_ordered_sentences) == 0):\n",
        "            print('  Selected {:,} batches.'.format(len(batch_ordered_sentences)))\n",
        "\n",
        "        # `to_take` is our actual batch size. It will be `batch_size` until\n",
        "        # we get to the last batch, which may be smaller.\n",
        "        to_take = min(batch_size, len(samples))\n",
        "\n",
        "        # Pick a random index in the list of remaining samples to start\n",
        "        # our batch at.\n",
        "        select = random.randint(0, len(samples) - to_take)\n",
        "\n",
        "        # Select a contiguous batch of samples starting at `select`.\n",
        "        #print(\"Selecting batch from {:} to {:}\".format(select, select+to_take))\n",
        "        batch = samples[select:(select + to_take)]\n",
        "\n",
        "        #print(\"Batch length:\", len(batch))\n",
        "\n",
        "        # Each sample is a tuple--split them apart to create a separate list of\n",
        "        # sequences and a list of labels for this batch.\n",
        "        batch_ordered_sentences.append([s[0] for s in batch])\n",
        "        batch_ordered_labels.append([s[1] for s in batch])\n",
        "\n",
        "        # Remove these samples from the list.\n",
        "        del samples[select:select + to_take]\n",
        "\n",
        "    print('\\n  DONE - Selected {:,} batches.\\n'.format(len(batch_ordered_sentences)))\n",
        "\n",
        "    # =========================\n",
        "    #        Add Padding\n",
        "    # =========================\n",
        "\n",
        "    print('Padding out sequences within each batch...')\n",
        "\n",
        "    py_inputs = []\n",
        "    py_attn_masks = []\n",
        "    py_labels = []\n",
        "\n",
        "    # For each batch...\n",
        "    for (batch_inputs, batch_labels) in zip(batch_ordered_sentences, batch_ordered_labels):\n",
        "\n",
        "        # New version of the batch, this time with padded sequences and now with\n",
        "        # attention masks defined.\n",
        "        batch_padded_inputs = []\n",
        "        batch_attn_masks = []\n",
        "\n",
        "        # First, find the longest sample in the batch.\n",
        "        # Note that the sequences do currently include the special tokens!\n",
        "        max_size = max([len(sen) for sen in batch_inputs])\n",
        "\n",
        "        # For each input in this batch...\n",
        "        for sen in batch_inputs:\n",
        "\n",
        "            # How many pad tokens do we need to add?\n",
        "            num_pads = max_size - len(sen)\n",
        "\n",
        "            # Add `num_pads` padding tokens to the end of the sequence.\n",
        "            padded_input = sen + [tokenizer.pad_token_id]*num_pads\n",
        "\n",
        "            # Define the attention mask--it's just a `1` for every real token\n",
        "            # and a `0` for every padding token.\n",
        "            attn_mask = [1] * len(sen) + [0] * num_pads\n",
        "\n",
        "            # Add the padded results to the batch.\n",
        "            batch_padded_inputs.append(padded_input)\n",
        "            batch_attn_masks.append(attn_mask)\n",
        "\n",
        "        # Our batch has been padded, so we need to save this updated batch.\n",
        "        # We also need the inputs to be PyTorch tensors, so we'll do that here.\n",
        "        # Todo - Michael's code specified \"dtype=torch.long\"\n",
        "        py_inputs.append(torch.tensor(batch_padded_inputs))\n",
        "        py_attn_masks.append(torch.tensor(batch_attn_masks))\n",
        "        py_labels.append(torch.tensor(batch_labels))\n",
        "\n",
        "    print('  DONE.')\n",
        "\n",
        "    # Return the smart-batched dataset!\n",
        "    return (py_inputs, py_attn_masks, py_labels)\n"
      ],
      "execution_count": 184,
      "outputs": []
    },
    {
      "cell_type": "code",
      "metadata": {
        "id": "ggH8AkAEaV9N"
      },
      "source": [
        "def make_smart_batches_on_test(text_samples, text_ids, batch_size,tokenizer,max_input_length):\n",
        "    '''\n",
        "    This function combines all of the required steps to prepare batches.\n",
        "    '''\n",
        "\n",
        "    print('Creating Smart Batches from {:,} examples with batch size {:,}...\\n'.format(len(text_samples), batch_size))\n",
        "\n",
        "    # =========================\n",
        "    #   Tokenize & Truncate\n",
        "    # =========================\n",
        "\n",
        "    full_input_ids = []\n",
        "\n",
        "    # Tokenize all training examples\n",
        "    print('Tokenizing {:,} samples...'.format(len(text_samples)))\n",
        "\n",
        "    # Choose an interval on which to print progress updates.\n",
        "    update_interval = good_update_interval(total_iters=len(text_samples), num_desired_updates=10)\n",
        "\n",
        "    # For each training example...\n",
        "    for text in text_samples:\n",
        "\n",
        "        # Report progress.\n",
        "        if ((len(full_input_ids) % update_interval) == 0):\n",
        "            print('  Tokenized {:,} samples.'.format(len(full_input_ids)))\n",
        "\n",
        "        # Tokenize the sample.\n",
        "        input_ids = tokenizer.encode(text=text,              # Text to encode.\n",
        "                                    add_special_tokens=True, # Do add specials.\n",
        "                                    max_length=max_input_length,\n",
        "                                    truncation=True,         # Do Truncate!\n",
        "                                    padding=False)           # DO NOT pad.\n",
        "\n",
        "        # Add the tokenized result to our list.\n",
        "        full_input_ids.append(input_ids)\n",
        "\n",
        "    print('DONE.')\n",
        "    print('{:>10,} samples\\n'.format(len(full_input_ids)))\n",
        "\n",
        "    # =========================\n",
        "    #      Select Batches\n",
        "    # =========================\n",
        "\n",
        "    # Sort the two lists together by the length of the input sequence.\n",
        "    samples = sorted(zip(full_input_ids, text_ids), key=lambda x: len(x[0]))\n",
        "\n",
        "    print('{:>10,} samples after sorting\\n'.format(len(samples)))\n",
        "\n",
        "    import random\n",
        "\n",
        "    # List of batches that we'll construct.\n",
        "    batch_ordered_sentences = []\n",
        "    batch_ordered_ids = []\n",
        "\n",
        "    print('Creating batches of size {:}...'.format(batch_size))\n",
        "\n",
        "    # Choose an interval on which to print progress updates.\n",
        "    update_interval = good_update_interval(total_iters=len(samples), num_desired_updates=10)\n",
        "\n",
        "    # Loop over all of the input samples...\n",
        "    while len(samples) > 0:\n",
        "\n",
        "        # Report progress.\n",
        "        if ((len(batch_ordered_sentences) % update_interval) == 0 \\\n",
        "            and not len(batch_ordered_sentences) == 0):\n",
        "            print('  Selected {:,} batches.'.format(len(batch_ordered_sentences)))\n",
        "\n",
        "        # `to_take` is our actual batch size. It will be `batch_size` until\n",
        "        # we get to the last batch, which may be smaller.\n",
        "        to_take = min(batch_size, len(samples))\n",
        "\n",
        "        # Pick a random index in the list of remaining samples to start\n",
        "        # our batch at.\n",
        "        select = random.randint(0, len(samples) - to_take)\n",
        "\n",
        "        # Select a contiguous batch of samples starting at `select`.\n",
        "        #print(\"Selecting batch from {:} to {:}\".format(select, select+to_take))\n",
        "        batch = samples[select:(select + to_take)]\n",
        "\n",
        "        #print(\"Batch length:\", len(batch))\n",
        "\n",
        "        # Each sample is a tuple--split them apart to create a separate list of\n",
        "        # sequences and a list of labels for this batch.\n",
        "        batch_ordered_sentences.append([s[0] for s in batch])\n",
        "        batch_ordered_ids.append([s[1] for s in batch])\n",
        "\n",
        "        # Remove these samples from the list.\n",
        "        del samples[select:select + to_take]\n",
        "\n",
        "    print('\\n  DONE - Selected {:,} batches.\\n'.format(len(batch_ordered_sentences)))\n",
        "\n",
        "    # =========================\n",
        "    #        Add Padding\n",
        "    # =========================\n",
        "\n",
        "    print('Padding out sequences within each batch...')\n",
        "\n",
        "    py_inputs = []\n",
        "    py_attn_masks = []\n",
        "    py_ids = []\n",
        "\n",
        "    # For each batch...\n",
        "    for (batch_inputs, batch_ids) in zip(batch_ordered_sentences, batch_ordered_ids):\n",
        "\n",
        "        # New version of the batch, this time with padded sequences and now with\n",
        "        # attention masks defined.\n",
        "        batch_padded_inputs = []\n",
        "        batch_attn_masks = []\n",
        "\n",
        "        # First, find the longest sample in the batch.\n",
        "        # Note that the sequences do currently include the special tokens!\n",
        "        max_size = max([len(sen) for sen in batch_inputs])\n",
        "\n",
        "        # For each input in this batch...\n",
        "        for sen in batch_inputs:\n",
        "\n",
        "            # How many pad tokens do we need to add?\n",
        "            num_pads = max_size - len(sen)\n",
        "\n",
        "            # Add `num_pads` padding tokens to the end of the sequence.\n",
        "            padded_input = sen + [tokenizer.pad_token_id]*num_pads\n",
        "\n",
        "            # Define the attention mask--it's just a `1` for every real token\n",
        "            # and a `0` for every padding token.\n",
        "            attn_mask = [1] * len(sen) + [0] * num_pads\n",
        "\n",
        "            # Add the padded results to the batch.\n",
        "            batch_padded_inputs.append(padded_input)\n",
        "            batch_attn_masks.append(attn_mask)\n",
        "\n",
        "        # Our batch has been padded, so we need to save this updated batch.\n",
        "        # We also need the inputs to be PyTorch tensors, so we'll do that here.\n",
        "        # Todo - Michael's code specified \"dtype=torch.long\"\n",
        "        py_inputs.append(torch.tensor(batch_padded_inputs))\n",
        "        py_attn_masks.append(torch.tensor(batch_attn_masks))\n",
        "        py_ids.append(torch.tensor(batch_ids))\n",
        "\n",
        "    print('  DONE.')\n",
        "\n",
        "    # Return the smart-batched dataset!\n",
        "    return (py_inputs, py_attn_masks, py_ids)\n"
      ],
      "execution_count": 185,
      "outputs": []
    },
    {
      "cell_type": "markdown",
      "metadata": {
        "id": "x6EHYpUbz8fo"
      },
      "source": [
        "#### 4) Function for calculating accuracy per class"
      ]
    },
    {
      "cell_type": "code",
      "metadata": {
        "id": "Knuw_DOei8RO"
      },
      "source": [
        "def accuracy_per_class(preds, labels , label_dict):\n",
        "\n",
        "    preds_flat = np.argmax(preds, axis=1).flatten()\n",
        "    labels_flat = labels.flatten()\n",
        "\n",
        "    for label in np.unique(labels_flat):\n",
        "        y_preds = preds_flat[labels_flat==label]\n",
        "        y_true = labels_flat[labels_flat==label]\n",
        "        print(f'Class: {label_dict[label]}')\n",
        "        print(f'Accuracy: {round(100*len(y_preds[y_preds==label])/len(y_true) , 2)}\\n')"
      ],
      "execution_count": 186,
      "outputs": []
    },
    {
      "cell_type": "markdown",
      "metadata": {
        "id": "sOWk_8lpWO17"
      },
      "source": [
        "### 5) Function for plotting training history"
      ]
    },
    {
      "cell_type": "code",
      "metadata": {
        "id": "R7-FAyfnWM65"
      },
      "source": [
        "def plot_training_history(history):\n",
        "  fig, (ax1, ax2) = plt.subplots(1, 2, figsize=(18, 6))\n",
        "\n",
        "  ax1.plot(history['train_loss'], label='train loss')\n",
        "  ax1.plot(history['val_loss'], label='validation loss')\n",
        "\n",
        "  ax1.xaxis.set_major_locator(MaxNLocator(integer=True))\n",
        "  ax1.set_ylim([-0.05, 1.05])\n",
        "  ax1.legend()\n",
        "  ax1.set_ylabel('Loss')\n",
        "  ax1.set_xlabel('Epoch')\n",
        "\n",
        "  ax2.plot(history['train_acc'], label='train accuracy')\n",
        "  ax2.plot(history['val_acc'], label='validation accuracy')\n",
        "\n",
        "  ax2.xaxis.set_major_locator(MaxNLocator(integer=True))\n",
        "  ax2.set_ylim([-0.05, 1.05])\n",
        "  ax2.legend()\n",
        "\n",
        "  ax2.set_ylabel('Accuracy')\n",
        "  ax2.set_xlabel('Epoch')\n",
        "\n",
        "  fig.suptitle('Training history')"
      ],
      "execution_count": 187,
      "outputs": []
    },
    {
      "cell_type": "markdown",
      "metadata": {
        "id": "A7QOTORh_JHa"
      },
      "source": [
        "### 6) Function to check accuracy"
      ]
    },
    {
      "cell_type": "code",
      "metadata": {
        "id": "yzRDobQ6MwaR"
      },
      "source": [
        "def check_accuracy(predictions,true_labels):\n",
        "  # Combine the results across the batches.\n",
        "  predictions = np.concatenate(predictions, axis=0)\n",
        "  true_labels = np.concatenate(true_labels, axis=0)\n",
        "\n",
        "  # Choose the label with the highest score as our prediction.\n",
        "  preds = np.argmax(predictions, axis=1).flatten()\n",
        "\n",
        "  # Calculate simple flat accuracy -- number correct over total number.\n",
        "  accuracy = (preds == true_labels).mean()\n",
        "\n",
        "  return accuracy"
      ],
      "execution_count": 188,
      "outputs": []
    },
    {
      "cell_type": "markdown",
      "metadata": {
        "id": "D7TtFkV5_Olz"
      },
      "source": [
        "### 7) Function to evaluate model"
      ]
    },
    {
      "cell_type": "code",
      "metadata": {
        "id": "TSBNdYHYMA7Q"
      },
      "source": [
        "def eval_model(model,py_inputs, py_attn_masks, py_labels):\n",
        "# Prediction on test set\n",
        "  t0 = time.time()\n",
        "\n",
        "  print('Doing validation on {:,} sentences...'.format(len(py_labels)))\n",
        "\n",
        "  # Put model in evaluation mode\n",
        "  model.eval()\n",
        "\n",
        "  # Tracking variables\n",
        "  predictions , true_labels = [], []\n",
        "\n",
        "  # Choose an interval on which to print progress updates.\n",
        "  update_interval = good_update_interval(total_iters=len(py_inputs), num_desired_updates=10)\n",
        "\n",
        "  # Measure elapsed time.\n",
        "  t0 = time.time()\n",
        "  total_val_loss = 0\n",
        "\n",
        "  # Put model in evaluation mode\n",
        "  model.eval()\n",
        "\n",
        "  # For each batch of training data...\n",
        "  for step in range(0, len(py_inputs)):\n",
        "\n",
        "      # Progress update every 100 batches.\n",
        "      if step % update_interval == 0 and not step == 0:\n",
        "          # Calculate elapsed time in minutes.\n",
        "          elapsed = format_time(time.time() - t0)\n",
        "\n",
        "          # Calculate the time remaining based on our progress.\n",
        "          steps_per_sec = (time.time() - t0) / step\n",
        "          remaining_sec = steps_per_sec * (len(py_inputs) - step)\n",
        "          remaining = format_time(remaining_sec)\n",
        "\n",
        "          # Report progress.\n",
        "          print('  Batch {:>7,}  of  {:>7,}.    Elapsed: {:}.  Remaining: {:}'.format(step, len(py_inputs), elapsed, remaining))\n",
        "\n",
        "      # Copy the batch to the GPU.\n",
        "      b_input_ids = py_inputs[step].to(device)\n",
        "      b_input_mask = py_attn_masks[step].to(device)\n",
        "      b_labels = py_labels[step].to(device)\n",
        "\n",
        "      # Telling the model not to compute or store gradients, saving memory and\n",
        "      # speeding up prediction\n",
        "      with torch.no_grad():\n",
        "        output = model(b_input_ids,\n",
        "                             token_type_ids=None,\n",
        "                             attention_mask=b_input_mask,\n",
        "                             labels=b_labels)\n",
        "\n",
        "\n",
        "      logits = output.logits\n",
        "      loss = output.loss\n",
        "      # Move logits and labels to CPU\n",
        "      logits = logits.detach().cpu().numpy()\n",
        "      label_ids = b_labels.to('cpu').numpy()\n",
        "\n",
        "      # Store predictions and true labels\n",
        "      predictions.append(logits)\n",
        "      true_labels.append(label_ids)\n",
        "\n",
        "      total_val_loss += loss.item()\n",
        "\n",
        "  val_accuracy = check_accuracy(predictions,true_labels)\n",
        "\n",
        "  validation_time = format_time(time.time() - t0)\n",
        "\n",
        "  # Calculate the average loss over all of the batches.\n",
        "  avg_val_loss = total_val_loss / len(py_inputs)\n",
        "\n",
        "\n",
        "  # print('Accuracy: {:.3f}'.format(val_accuracy))\n",
        "  return (avg_val_loss,val_accuracy,validation_time)\n"
      ],
      "execution_count": 189,
      "outputs": []
    },
    {
      "cell_type": "markdown",
      "metadata": {
        "id": "Lrt_FyJIbC8j"
      },
      "source": [
        "### 8) Function for making predictions on our test dataset"
      ]
    },
    {
      "cell_type": "code",
      "metadata": {
        "id": "eylCkH2Zipq5"
      },
      "source": [
        "def get_predictions(py_inputs, py_attn_masks, py_labels):\n",
        "\n",
        "  print('Predicting labels for {:,} test batches...'.format(len(py_labels)))\n",
        "\n",
        "  # Put model in evaluation mode\n",
        "  model.eval()\n",
        "\n",
        "  # Tracking variables\n",
        "  predictions , true_labels = [], []\n",
        "\n",
        "  # Choose an interval on which to print progress updates.\n",
        "  update_interval = good_update_interval(total_iters=len(py_inputs), num_desired_updates=10)\n",
        "\n",
        "  # Measure elapsed time.\n",
        "  t0 = time.time()\n",
        "\n",
        "  # Put model in evaluation mode\n",
        "  model.eval()\n",
        "\n",
        "  # For each batch of training data...\n",
        "  for step in range(0, len(py_inputs)):\n",
        "\n",
        "      # Progress update every 100 batches.\n",
        "      if step % update_interval == 0 and not step == 0:\n",
        "          # Calculate elapsed time in minutes.\n",
        "          elapsed = format_time(time.time() - t0)\n",
        "\n",
        "          # Calculate the time remaining based on our progress.\n",
        "          steps_per_sec = (time.time() - t0) / step\n",
        "          remaining_sec = steps_per_sec * (len(py_inputs) - step)\n",
        "          remaining = format_time(remaining_sec)\n",
        "\n",
        "          # Report progress.\n",
        "          print('  Batch {:>7,}  of  {:>7,}.    Elapsed: {:}.  Remaining: {:}'.format(step, len(py_inputs), elapsed, remaining))\n",
        "\n",
        "      # Copy the batch to the GPU.\n",
        "      b_input_ids = py_inputs[step].to(device)\n",
        "      b_input_mask = py_attn_masks[step].to(device)\n",
        "      b_labels = py_labels[step].to(device)\n",
        "\n",
        "      # Telling the model not to compute or store gradients, saving memory and\n",
        "      # speeding up prediction\n",
        "      with torch.no_grad():\n",
        "          # Forward pass, calculate logit predictions\n",
        "          outputs = model(b_input_ids, b_input_mask)\n",
        "\n",
        "      logits = outputs.logits\n",
        "\n",
        "      # Move logits and labels to CPU\n",
        "      logits = logits.detach().cpu().numpy()\n",
        "      label_ids = b_labels.to('cpu').numpy()\n",
        "\n",
        "      # Store predictions and true labels\n",
        "      predictions.append(logits)\n",
        "      true_labels.append(label_ids)\n",
        "      # Combine the results across the batches.\n",
        "  predictions = np.concatenate(predictions, axis=0)\n",
        "  true_labels = np.concatenate(true_labels, axis=0)\n",
        "\n",
        "      # Choose the label with the highest score as our prediction.\n",
        "  preds = np.argmax(predictions, axis=1).flatten()\n",
        "\n",
        "  return (preds,true_labels)"
      ],
      "execution_count": 190,
      "outputs": []
    },
    {
      "cell_type": "markdown",
      "metadata": {
        "id": "eiRNCS-EbZmy"
      },
      "source": [
        "### 9) Function for making predictions on test dataset(without labels)"
      ]
    },
    {
      "cell_type": "code",
      "metadata": {
        "id": "RIuwhVSmZvkd"
      },
      "source": [
        "def get_predictions_test(py_inputs, py_attn_masks,py_ids):\n",
        "\n",
        "  print('Predicting labels for {:,} test batches...'.format(len(py_inputs)))\n",
        "\n",
        "  # Put model in evaluation mode\n",
        "  model.eval()\n",
        "\n",
        "  # Tracking variables\n",
        "  predictions , true_labels ,ids = [], [] , []\n",
        "\n",
        "  # Choose an interval on which to print progress updates.\n",
        "  update_interval = good_update_interval(total_iters=len(py_inputs), num_desired_updates=10)\n",
        "\n",
        "  # Measure elapsed time.\n",
        "  t0 = time.time()\n",
        "\n",
        "  # Put model in evaluation mode\n",
        "  model.eval()\n",
        "\n",
        "  # For each batch of training data...\n",
        "  for step in range(0, len(py_inputs)):\n",
        "\n",
        "      # Progress update every 100 batches.\n",
        "      if step % update_interval == 0 and not step == 0:\n",
        "          # Calculate elapsed time in minutes.\n",
        "          elapsed = format_time(time.time() - t0)\n",
        "\n",
        "          # Calculate the time remaining based on our progress.\n",
        "          steps_per_sec = (time.time() - t0) / step\n",
        "          remaining_sec = steps_per_sec * (len(py_inputs) - step)\n",
        "          remaining = format_time(remaining_sec)\n",
        "\n",
        "          # Report progress.\n",
        "          print('  Batch {:>7,}  of  {:>7,}.    Elapsed: {:}.  Remaining: {:}'.format(step, len(py_inputs), elapsed, remaining))\n",
        "\n",
        "      # Copy the batch to the GPU.\n",
        "      b_input_ids = py_inputs[step].to(device)\n",
        "      b_input_mask = py_attn_masks[step].to(device)\n",
        "      b_ids = py_ids[step].to(device)\n",
        "\n",
        "      # Telling the model not to compute or store gradients, saving memory and\n",
        "      # speeding up prediction\n",
        "      with torch.no_grad():\n",
        "          # Forward pass, calculate logit predictions\n",
        "          outputs = model(b_input_ids, b_input_mask)\n",
        "\n",
        "      logits = outputs.logits\n",
        "\n",
        "      # Move logits and labels to CPU\n",
        "      logits = logits.detach().cpu().numpy()\n",
        "      b_ids = b_ids.detach().cpu().numpy()\n",
        "      # Store predictions\n",
        "      predictions.append(logits)\n",
        "      ids.append(b_ids)\n",
        "      # Combine the results across the batches.\n",
        "  predictions = np.concatenate(predictions, axis=0)\n",
        "  ids = np.concatenate(ids,axis=0)\n",
        "  # Choose the label with the highest score as our prediction.\n",
        "  preds = np.argmax(predictions, axis=1).flatten()\n",
        "\n",
        "  return ids,preds"
      ],
      "execution_count": 191,
      "outputs": []
    },
    {
      "cell_type": "markdown",
      "metadata": {
        "id": "4IM8r_ddYZZS"
      },
      "source": [
        "### 10) Confusion Matrix Helper Function"
      ]
    },
    {
      "cell_type": "code",
      "metadata": {
        "id": "DqNaS8SrBox5"
      },
      "source": [
        "def show_confusion_matrix(confusion_matrix, class_names):\n",
        "\n",
        "  cm = confusion_matrix.copy()\n",
        "\n",
        "  cell_counts = cm.flatten()\n",
        "\n",
        "  cm_row_norm = cm / cm.sum(axis=1)[:, np.newaxis]\n",
        "\n",
        "  row_percentages = [\"{0:.2f}\".format(value) for value in cm_row_norm.flatten()]\n",
        "\n",
        "  cell_labels = [f\"{cnt}\\n{per}\" for cnt, per in zip(cell_counts, row_percentages)]\n",
        "  cell_labels = np.asarray(cell_labels).reshape(cm.shape[0], cm.shape[1])\n",
        "\n",
        "  df_cm = pd.DataFrame(cm_row_norm, index=class_names, columns=class_names)\n",
        "\n",
        "  hmap = sns.heatmap(df_cm, annot=cell_labels, fmt=\"\", cmap=\"Blues\")\n",
        "  hmap.yaxis.set_ticklabels(hmap.yaxis.get_ticklabels(), rotation=0, ha='right')\n",
        "  hmap.xaxis.set_ticklabels(hmap.xaxis.get_ticklabels(), rotation=30, ha='right')\n",
        "  plt.ylabel('True Sign')\n",
        "  plt.xlabel('Predicted Sign');"
      ],
      "execution_count": 192,
      "outputs": []
    },
    {
      "cell_type": "markdown",
      "metadata": {
        "id": "OVs3Jb3Vb89i"
      },
      "source": [
        "## Smart Batching of the training data"
      ]
    },
    {
      "cell_type": "code",
      "metadata": {
        "colab": {
          "base_uri": "https://localhost:8080/"
        },
        "id": "fIlwEvcMb4pb",
        "outputId": "0579f9ee-1ce7-4f1b-a185-a7c8a866d609"
      },
      "source": [
        "model_name = 'bert-base-multilingual-cased'\n",
        "# Load the BERT tokenizer.\n",
        "print(f'Loading {model_name} tokenizer...')\n",
        "tokenizer = AutoTokenizer.from_pretrained(model_name, do_lower_case=False)"
      ],
      "execution_count": 193,
      "outputs": [
        {
          "output_type": "stream",
          "name": "stdout",
          "text": [
            "Loading bert-base-multilingual-cased tokenizer...\n"
          ]
        }
      ]
    },
    {
      "source": [
        "lengths = []\n",
        "for text in train_sentences:\n",
        "    # Check if text is not nan and is a string before calculating length\n",
        "    if isinstance(text, str) and text == text:  # Check for nan using self-equality\n",
        "        lengths.append(len(text))\n",
        "    else:\n",
        "        # Handle nan or non-string values here, e.g., replace with 0 or skip\n",
        "        # lengths.append(0)  # Replace with 0\n",
        "        # or\n",
        "        print(f\"Skipping non-string or NaN value: {text}\")  # Print and skip"
      ],
      "cell_type": "code",
      "metadata": {
        "id": "En5y1z3GgGSt"
      },
      "execution_count": 194,
      "outputs": []
    },
    {
      "cell_type": "code",
      "metadata": {
        "colab": {
          "base_uri": "https://localhost:8080/",
          "height": 522
        },
        "id": "hbdGRA3Bo02O",
        "outputId": "930f8b87-1563-42c1-9985-f814965ae82f"
      },
      "source": [
        "\n",
        "# Use plot styling from seaborn.\n",
        "sns.set(style='darkgrid')\n",
        "\n",
        "# Increase the plot size and font size.\n",
        "sns.set(font_scale=1.5)\n",
        "plt.rcParams[\"figure.figsize\"] = (12,6)\n",
        "\n",
        "plt.scatter(range(0, len(lengths)), lengths, marker=\"|\")\n",
        "\n",
        "plt.xlabel('Sample Number')\n",
        "plt.ylabel('Sequence Length')\n",
        "plt.title('Samples BEFORE Tokenizing')\n",
        "\n",
        "plt.show()"
      ],
      "execution_count": 195,
      "outputs": [
        {
          "output_type": "display_data",
          "data": {
            "text/plain": [
              "<Figure size 1200x600 with 1 Axes>"
            ],
            "image/png": "[encoded data removed]"
          },
          "metadata": {}
        }
      ]
    },
    {
      "cell_type": "markdown",
      "metadata": {
        "id": "9rMhLNhPcZjU"
      },
      "source": [
        "### Tokenizing the sequences"
      ]
    },
    {
      "cell_type": "code",
      "metadata": {
        "id": "t7JsLi3EdEje"
      },
      "source": [
        "max_input_length = 400"
      ],
      "execution_count": 196,
      "outputs": []
    },
    {
      "cell_type": "code",
      "metadata": {
        "colab": {
          "base_uri": "https://localhost:8080/"
        },
        "id": "J968o8RJcUEd",
        "outputId": "c9e01b08-d6ed-4164-a2c7-944f159e7168"
      },
      "source": [
        "full_input_ids = []\n",
        "labels = []\n",
        "\n",
        "# Tokenize all training examples\n",
        "print('Tokenizing {:,} training samples...'.format(len(train_sentences)))\n",
        "\n",
        "# Choose an interval on which to print progress updates.\n",
        "update_interval = good_update_interval(total_iters=len(train_sentences), num_desired_updates=10)\n",
        "\n",
        "# For each training example...\n",
        "for text in train_sentences:\n",
        "\n",
        "    # Check if text is a valid string and not nan\n",
        "    if isinstance(text, str) and text == text:  # Check for nan using self-equality\n",
        "        # Report progress.\n",
        "        if ((len(full_input_ids) % update_interval) == 0):\n",
        "            print('  Tokenized {:,} samples.'.format(len(full_input_ids)))\n",
        "\n",
        "        # Tokenize the sentence.\n",
        "        input_ids = tokenizer.encode(text=text,\n",
        "                                     add_special_tokens=True,\n",
        "                                     max_length=max_input_length,\n",
        "                                     truncation=True,\n",
        "                                     padding=False)\n",
        "\n",
        "        # Add the tokenized result to our list.\n",
        "        full_input_ids.append(input_ids)\n",
        "    else:\n",
        "        # Handle nan or non-string values, e.g., skip or replace with an empty string\n",
        "        print(f\"Skipping non-string or NaN value: {text}\")\n",
        "        # Alternatively, you can replace nan with an empty string:\n",
        "        # input_ids = tokenizer.encode(text=\"\", add_special_tokens=True, max_length=max_input_length, truncation=True, padding=False)\n",
        "        # full_input_ids.append(input_ids)\n",
        "\n",
        "print('DONE.')\n",
        "print('{:>10,} samples'.format(len(full_input_ids)))"
      ],
      "execution_count": 197,
      "outputs": [
        {
          "output_type": "stream",
          "name": "stdout",
          "text": [
            "Tokenizing 6,000 training samples...\n",
            "  Tokenized 0 samples.\n",
            "  Tokenized 600 samples.\n",
            "  Tokenized 1,200 samples.\n",
            "  Tokenized 1,800 samples.\n",
            "  Tokenized 2,400 samples.\n",
            "  Tokenized 3,000 samples.\n",
            "  Tokenized 3,600 samples.\n",
            "  Tokenized 4,200 samples.\n",
            "  Tokenized 4,800 samples.\n",
            "  Tokenized 5,400 samples.\n",
            "DONE.\n",
            "     6,000 samples\n"
          ]
        }
      ]
    },
    {
      "cell_type": "code",
      "metadata": {
        "id": "rZzhO2tZeXur"
      },
      "source": [
        "# Get all of the lengths.\n",
        "unsorted_lengths = [len(x) for x in full_input_ids]"
      ],
      "execution_count": 198,
      "outputs": []
    },
    {
      "cell_type": "code",
      "metadata": {
        "colab": {
          "base_uri": "https://localhost:8080/",
          "height": 522
        },
        "id": "x7c_mYuVed_H",
        "outputId": "6fbafa90-e201-4787-ceef-cbf4c8e55e01"
      },
      "source": [
        "\n",
        "# Use plot styling from seaborn.\n",
        "sns.set(style='darkgrid')\n",
        "\n",
        "# Increase the plot size and font size.\n",
        "sns.set(font_scale=1.5)\n",
        "plt.rcParams[\"figure.figsize\"] = (12,6)\n",
        "\n",
        "plt.scatter(range(0, len(unsorted_lengths)), unsorted_lengths, marker=\"|\")\n",
        "\n",
        "plt.xlabel('Sample Number')\n",
        "plt.ylabel('Sequence Length')\n",
        "plt.title('Samples BEFORE Sorting')\n",
        "\n",
        "plt.show()"
      ],
      "execution_count": 199,
      "outputs": [
        {
          "output_type": "display_data",
          "data": {
            "text/plain": [
              "<Figure size 1200x600 with 1 Axes>"
            ],
            "image/png": "[encoded data removed]"
          },
          "metadata": {}
        }
      ]
    },
    {
      "cell_type": "code",
      "metadata": {
        "id": "7PaeohUVegmv"
      },
      "source": [
        "# Sort the two lists together by the length of the input sequence.\n",
        "train_samples = sorted(zip(full_input_ids, train_labels), key=lambda x: len(x[0]))"
      ],
      "execution_count": 200,
      "outputs": []
    },
    {
      "cell_type": "code",
      "metadata": {
        "colab": {
          "base_uri": "https://localhost:8080/"
        },
        "id": "_9nyx-BtepE4",
        "outputId": "4592aa9c-4cac-4252-e041-f2d0a4a4476a"
      },
      "source": [
        "train_samples[0:5]"
      ],
      "execution_count": 201,
      "outputs": [
        {
          "output_type": "execute_result",
          "data": {
            "text/plain": [
              "[([101, 100, 102], 0),\n",
              " ([101, 102081, 35884, 102], 0),\n",
              " ([101, 100, 964, 16166, 102], 0),\n",
              " ([101, 967, 38695, 90662, 102], 0),\n",
              " ([101, 100, 100, 71839, 102], 5)]"
            ]
          },
          "metadata": {},
          "execution_count": 201
        }
      ]
    },
    {
      "cell_type": "code",
      "metadata": {
        "colab": {
          "base_uri": "https://localhost:8080/"
        },
        "id": "rBxJhEieetFh",
        "outputId": "00ba9721-bed1-402c-dd6f-e1068397b686"
      },
      "source": [
        "print('Shortest sample:', len(train_samples[0][0]))\n",
        "print('Longest sample:', len(train_samples[-1][0]))"
      ],
      "execution_count": 202,
      "outputs": [
        {
          "output_type": "stream",
          "name": "stdout",
          "text": [
            "Shortest sample: 3\n",
            "Longest sample: 400\n"
          ]
        }
      ]
    },
    {
      "cell_type": "code",
      "metadata": {
        "id": "P44bFOI-e7hW"
      },
      "source": [
        "# Get the new list of lengths after sorting.\n",
        "sorted_lengths = [len(s[0]) for s in train_samples]"
      ],
      "execution_count": 203,
      "outputs": []
    },
    {
      "cell_type": "code",
      "metadata": {
        "colab": {
          "base_uri": "https://localhost:8080/",
          "height": 522
        },
        "id": "9P5ZX99le_G1",
        "outputId": "c8ecb41a-caf3-42c7-dc4b-6a0ac0c1df02"
      },
      "source": [
        "\n",
        "\n",
        "plt.plot(range(0, len(sorted_lengths)), sorted_lengths)\n",
        "\n",
        "plt.xlabel('Sample Number')\n",
        "plt.ylabel('Sequence Length')\n",
        "plt.title('Samples after Sorting')\n",
        "\n",
        "plt.show()"
      ],
      "execution_count": 204,
      "outputs": [
        {
          "output_type": "display_data",
          "data": {
            "text/plain": [
              "<Figure size 1200x600 with 1 Axes>"
            ],
            "image/png": "[encoded data removed]"
          },
          "metadata": {}
        }
      ]
    },
    {
      "cell_type": "markdown",
      "metadata": {
        "id": "Eh1z0xugfF2t"
      },
      "source": [
        "### Random Batch Selections"
      ]
    },
    {
      "cell_type": "code",
      "metadata": {
        "colab": {
          "base_uri": "https://localhost:8080/"
        },
        "id": "gPrYkFMcgm5H",
        "outputId": "007514d5-90a1-40a7-cab3-fca9859d58fd"
      },
      "source": [
        "train_samples[0]"
      ],
      "execution_count": 205,
      "outputs": [
        {
          "output_type": "execute_result",
          "data": {
            "text/plain": [
              "([101, 100, 102], 0)"
            ]
          },
          "metadata": {},
          "execution_count": 205
        }
      ]
    },
    {
      "cell_type": "code",
      "metadata": {
        "id": "isMxwgezfAvO"
      },
      "source": [
        "batch_size = 16"
      ],
      "execution_count": 206,
      "outputs": []
    },
    {
      "cell_type": "code",
      "metadata": {
        "colab": {
          "base_uri": "https://localhost:8080/"
        },
        "id": "s0tjD8pIfJ0S",
        "outputId": "ef3ff6d5-f368-4427-f216-d7a42620297a"
      },
      "source": [
        "# List of batches that we'll construct.\n",
        "batch_ordered_sentences = []\n",
        "batch_ordered_labels = []\n",
        "\n",
        "print('Creating training batches of size {:}'.format(batch_size))\n",
        "\n",
        "# Loop over all of the input samples...\n",
        "while len(train_samples) > 0:\n",
        "\n",
        "    # Report progress.\n",
        "    if ((len(batch_ordered_sentences) % 100) == 0):\n",
        "        print('  Selected {:,} batches.'.format(len(batch_ordered_sentences)))\n",
        "\n",
        "    # `to_take` is our actual batch size. It will be `batch_size` until\n",
        "    # we get to the last batch, which may be smaller.\n",
        "    to_take = min(batch_size, len(train_samples))\n",
        "\n",
        "    # Pick a random index in the list of remaining samples to start\n",
        "    # our batch at.\n",
        "    select = random.randint(0, len(train_samples) - to_take)\n",
        "\n",
        "    # Select a contiguous batch of samples starting at `select`.\n",
        "    batch = train_samples[select:(select + to_take)]\n",
        "\n",
        "    # Each sample is a tuple--split them apart to create a separate list of\n",
        "    # sequences and a list of labels for this batch.\n",
        "    batch_ordered_sentences.append([s[0] for s in batch])\n",
        "    batch_ordered_labels.append([s[1] for s in batch])\n",
        "\n",
        "    # Remove these samples from the list.\n",
        "    del train_samples[select:select + to_take]\n",
        "\n",
        "print('\\n  DONE - {:,} batches.'.format(len(batch_ordered_sentences)))"
      ],
      "execution_count": 207,
      "outputs": [
        {
          "output_type": "stream",
          "name": "stdout",
          "text": [
            "Creating training batches of size 16\n",
            "  Selected 0 batches.\n",
            "  Selected 100 batches.\n",
            "  Selected 200 batches.\n",
            "  Selected 300 batches.\n",
            "\n",
            "  DONE - 375 batches.\n"
          ]
        }
      ]
    },
    {
      "cell_type": "code",
      "metadata": {
        "colab": {
          "base_uri": "https://localhost:8080/"
        },
        "id": "rf91Dd3LhBaP",
        "outputId": "243184f7-532c-4e4b-ffe2-79d6e6b1fe3c"
      },
      "source": [
        "print(batch_ordered_sentences[0])"
      ],
      "execution_count": 208,
      "outputs": [
        {
          "output_type": "stream",
          "name": "stdout",
          "text": [
            "[[101, 76837, 111240, 29621, 26145, 11128, 948, 15258, 15002, 967, 12235, 45377, 80214, 72614, 11199, 26145, 11199, 14112, 19320, 14176, 955, 15010, 24383, 978, 70115, 18770, 102], [101, 92839, 966, 94686, 11421, 19320, 11421, 12079, 967, 80198, 11199, 970, 12235, 61596, 21790, 60958, 92839, 16755, 18243, 970, 12235, 61596, 21790, 60958, 13334, 117, 102], [101, 80501, 28410, 22335, 28590, 76837, 11199, 15002, 16755, 966, 16431, 111219, 58883, 56078, 110013, 948, 11128, 49178, 32144, 18243, 955, 110153, 18770, 33664, 58354, 11199, 102], [101, 979, 12079, 89362, 941, 89410, 970, 102916, 958, 81661, 28777, 36715, 93824, 12235, 979, 12079, 89362, 40061, 950, 111239, 11128, 19910, 953, 16431, 106352, 18262, 102], [101, 948, 49178, 51743, 26788, 49178, 948, 15010, 26109, 948, 15010, 966, 115, 967, 972, 16166, 60639, 100, 93824, 12235, 14339, 941, 90534, 938, 15258, 32294, 102], [101, 978, 89832, 13104, 11128, 72659, 100, 51003, 970, 80187, 58052, 100, 14112, 43898, 39414, 12235, 70060, 15613, 968, 12079, 111232, 40102, 32294, 119, 119, 920, 102], [101, 966, 94686, 96135, 119, 119, 966, 15010, 13104, 45908, 938, 13542, 111240, 55077, 941, 22335, 13458, 19910, 66199, 27268, 937, 29904, 47356, 22875, 29806, 30831, 102], [101, 100, 972, 16166, 15258, 108600, 46085, 954, 67735, 979, 39994, 93565, 77221, 938, 15002, 28410, 100024, 40102, 948, 13542, 36715, 18601, 11737, 19668, 15002, 136, 102], [101, 941, 20725, 21790, 978, 58354, 111240, 22335, 21790, 106352, 13228, 15691, 950, 16431, 105357, 27608, 950, 28725, 11199, 28777, 36715, 964, 96397, 111240, 22335, 52706, 102], [101, 976, 62753, 111240, 22335, 93418, 41431, 966, 94686, 967, 59712, 117, 946, 52038, 26145, 28799, 972, 16166, 15258, 13458, 29454, 100, 948, 12235, 13334, 136, 102], [101, 76837, 111240, 13458, 26145, 11128, 975, 12079, 967, 13542, 59136, 13542, 27608, 107843, 979, 16431, 13104, 972, 12235, 39414, 40685, 74765, 12235, 16755, 48120, 920, 102], [101, 100, 976, 50644, 28410, 15002, 100, 979, 58354, 29621, 92576, 970, 16166, 111230, 12079, 26788, 49178, 970, 12235, 96341, 77983, 948, 12235, 27790, 13334, 920, 102], [101, 972, 16166, 15258, 13458, 29454, 955, 43004, 12235, 955, 13542, 14998, 100, 53761, 979, 39994, 93565, 16755, 17634, 963, 13542, 14998, 80501, 28410, 22335, 53761, 102], [101, 82937, 86677, 40685, 13458, 937, 83924, 100515, 938, 13104, 81837, 30023, 948, 12235, 974, 16431, 105495, 971, 11199, 111229, 11199, 26788, 49178, 119, 136, 136, 102], [101, 978, 29806, 12079, 90267, 39325, 978, 29806, 12079, 90267, 21685, 34070, 978, 29806, 12079, 90267, 971, 78639, 11199, 950, 16431, 15258, 13458, 948, 11128, 32294, 102], [101, 974, 30831, 72659, 13228, 967, 11199, 65045, 965, 11199, 60639, 11737, 938, 104306, 105525, 11737, 33202, 948, 13542, 958, 12079, 971, 13228, 22756, 13104, 11128, 102]]\n"
          ]
        }
      ]
    },
    {
      "cell_type": "code",
      "metadata": {
        "colab": {
          "base_uri": "https://localhost:8080/"
        },
        "id": "qmkQK_gVgiTu",
        "outputId": "790a5199-18e4-4a94-cd6d-f83c9fdf8c01"
      },
      "source": [
        "batch_ordered_labels[0]"
      ],
      "execution_count": 209,
      "outputs": [
        {
          "output_type": "execute_result",
          "data": {
            "text/plain": [
              "[4, 4, 4, 0, 0, 5, 4, 4, 3, 4, 4, 4, 4, 5, 5, 2]"
            ]
          },
          "metadata": {},
          "execution_count": 209
        }
      ]
    },
    {
      "cell_type": "markdown",
      "metadata": {
        "id": "xZ0TFA8Mfn6m"
      },
      "source": [
        "### Padding"
      ]
    },
    {
      "cell_type": "code",
      "metadata": {
        "id": "c9rdswcpfTip"
      },
      "source": [
        "py_inputs = []\n",
        "py_attn_masks = []\n",
        "py_labels = []\n",
        "\n",
        "# For each batch...\n",
        "for (batch_inputs, batch_labels) in zip(batch_ordered_sentences, batch_ordered_labels):\n",
        "\n",
        "    # New version of the batch, this time with padded sequences and now with\n",
        "    # attention masks defined.\n",
        "    batch_padded_inputs = []\n",
        "    batch_attn_masks = []\n",
        "\n",
        "    # First, find the longest sample in the batch.\n",
        "    # Note that the sequences do currently include the special tokens!\n",
        "    max_size = max([len(sen) for sen in batch_inputs])\n",
        "\n",
        "    #print('Max size:', max_size)\n",
        "\n",
        "    # For each input in this batch...\n",
        "    for sen in batch_inputs:\n",
        "\n",
        "        # How many pad tokens do we need to add?\n",
        "        num_pads = max_size - len(sen)\n",
        "\n",
        "        # Add `num_pads` padding tokens to the end of the sequence.\n",
        "        padded_input = sen + [tokenizer.pad_token_id]*num_pads\n",
        "\n",
        "        # Define the attention mask--it's just a `1` for every real token\n",
        "        # and a `0` for every padding token.\n",
        "        attn_mask = [1] * len(sen) + [0] * num_pads\n",
        "\n",
        "        # Add the padded results to the batch.\n",
        "        batch_padded_inputs.append(padded_input)\n",
        "        batch_attn_masks.append(attn_mask)\n",
        "\n",
        "    # Our batch has been padded, so we need to save this updated batch.\n",
        "    # We also need the inputs to be PyTorch tensors, so we'll do that here.\n",
        "    py_inputs.append(torch.tensor(batch_padded_inputs))\n",
        "    py_attn_masks.append(torch.tensor(batch_attn_masks))\n",
        "    py_labels.append(torch.tensor(batch_labels))\n"
      ],
      "execution_count": 210,
      "outputs": []
    },
    {
      "cell_type": "markdown",
      "metadata": {
        "id": "roS5lLWdX-5J"
      },
      "source": [
        "### Check the number of token reductions because of smart batching"
      ]
    },
    {
      "cell_type": "code",
      "metadata": {
        "colab": {
          "base_uri": "https://localhost:8080/"
        },
        "id": "wlh7cteVfroV",
        "outputId": "3c2dbbda-5c2c-49d2-944c-f027c0207202"
      },
      "source": [
        "# Get the new list of lengths after sorting.\n",
        "\n",
        "padded_lengths = []\n",
        "\n",
        "# For each batch...\n",
        "for batch in py_inputs:\n",
        "\n",
        "    # For each sample...\n",
        "    for s in batch:\n",
        "\n",
        "        # Record its length.\n",
        "        padded_lengths.append(len(s))\n",
        "\n",
        "# Sum up the lengths to the get the total number of tokens after smart batching.\n",
        "smart_token_count = np.sum(padded_lengths)\n",
        "\n",
        "# To get the total number of tokens in the dataset using fixed padding, it's\n",
        "# as simple as the number of samples times our `max_len` parameter (that we\n",
        "# would pad everything to).\n",
        "fixed_token_count = len(train_sentences) * max_input_length\n",
        "\n",
        "# Calculate the percentage reduction.\n",
        "prcnt_reduced = (fixed_token_count - smart_token_count) / float(fixed_token_count)\n",
        "\n",
        "print('Total tokens:')\n",
        "print('   Fixed Padding: {:,}'.format(fixed_token_count))\n",
        "print('  Smart Batching: {:,}  ({:.1%} less)'.format(smart_token_count, prcnt_reduced))\n"
      ],
      "execution_count": 211,
      "outputs": [
        {
          "output_type": "stream",
          "name": "stdout",
          "text": [
            "Total tokens:\n",
            "   Fixed Padding: 2,400,000\n",
            "  Smart Batching: 118,752  (95.1% less)\n"
          ]
        }
      ]
    },
    {
      "cell_type": "markdown",
      "metadata": {
        "id": "8wgdhsI-YIAL"
      },
      "source": [
        "## Load the model configuration from the transformers library using AutoConfig"
      ]
    },
    {
      "cell_type": "code",
      "metadata": {
        "colab": {
          "base_uri": "https://localhost:8080/"
        },
        "id": "9er7EHvdfudf",
        "outputId": "b1bd4c44-f8f5-41ac-c927-121a7d53f60b"
      },
      "source": [
        "# Load the Config object, with an output configured for classification.\n",
        "config = AutoConfig.from_pretrained(pretrained_model_name_or_path=model_name,\n",
        "                                    num_labels=6)\n",
        "\n",
        "print('Config type:', str(type(config)), '\\n')\n"
      ],
      "execution_count": 212,
      "outputs": [
        {
          "output_type": "stream",
          "name": "stdout",
          "text": [
            "Config type: <class 'transformers.models.bert.configuration_bert.BertConfig'> \n",
            "\n"
          ]
        }
      ]
    },
    {
      "cell_type": "code",
      "metadata": {
        "colab": {
          "base_uri": "https://localhost:8080/"
        },
        "id": "bWvc9Ikv4HtD",
        "outputId": "166a0e6e-14f3-4aa0-f4b6-63bfeee97e4f"
      },
      "source": [
        "model = AutoModelForSequenceClassification.from_pretrained(pretrained_model_name_or_path=model_name,config = config)"
      ],
      "execution_count": 213,
      "outputs": [
        {
          "output_type": "stream",
          "name": "stderr",
          "text": [
            "Some weights of BertForSequenceClassification were not initialized from the model checkpoint at bert-base-multilingual-cased and are newly initialized: ['classifier.bias', 'classifier.weight']\n",
            "You should probably TRAIN this model on a down-stream task to be able to use it for predictions and inference.\n"
          ]
        }
      ]
    },
    {
      "cell_type": "code",
      "metadata": {
        "colab": {
          "base_uri": "https://localhost:8080/"
        },
        "id": "Xouf5M2B55ei",
        "outputId": "804ff6f2-d1ff-4435-ca47-73b136bfb9ea"
      },
      "source": [
        "model.cuda()"
      ],
      "execution_count": 214,
      "outputs": [
        {
          "output_type": "execute_result",
          "data": {
            "text/plain": [
              "BertForSequenceClassification(\n",
              "  (bert): BertModel(\n",
              "    (embeddings): BertEmbeddings(\n",
              "      (word_embeddings): Embedding(119547, 768, padding_idx=0)\n",
              "      (position_embeddings): Embedding(512, 768)\n",
              "      (token_type_embeddings): Embedding(2, 768)\n",
              "      (LayerNorm): LayerNorm((768,), eps=1e-12, elementwise_affine=True)\n",
              "      (dropout): Dropout(p=0.1, inplace=False)\n",
              "    )\n",
              "    (encoder): BertEncoder(\n",
              "      (layer): ModuleList(\n",
              "        (0-11): 12 x BertLayer(\n",
              "          (attention): BertAttention(\n",
              "            (self): BertSdpaSelfAttention(\n",
              "              (query): Linear(in_features=768, out_features=768, bias=True)\n",
              "              (key): Linear(in_features=768, out_features=768, bias=True)\n",
              "              (value): Linear(in_features=768, out_features=768, bias=True)\n",
              "              (dropout): Dropout(p=0.1, inplace=False)\n",
              "            )\n",
              "            (output): BertSelfOutput(\n",
              "              (dense): Linear(in_features=768, out_features=768, bias=True)\n",
              "              (LayerNorm): LayerNorm((768,), eps=1e-12, elementwise_affine=True)\n",
              "              (dropout): Dropout(p=0.1, inplace=False)\n",
              "            )\n",
              "          )\n",
              "          (intermediate): BertIntermediate(\n",
              "            (dense): Linear(in_features=768, out_features=3072, bias=True)\n",
              "            (intermediate_act_fn): GELUActivation()\n",
              "          )\n",
              "          (output): BertOutput(\n",
              "            (dense): Linear(in_features=3072, out_features=768, bias=True)\n",
              "            (LayerNorm): LayerNorm((768,), eps=1e-12, elementwise_affine=True)\n",
              "            (dropout): Dropout(p=0.1, inplace=False)\n",
              "          )\n",
              "        )\n",
              "      )\n",
              "    )\n",
              "    (pooler): BertPooler(\n",
              "      (dense): Linear(in_features=768, out_features=768, bias=True)\n",
              "      (activation): Tanh()\n",
              "    )\n",
              "  )\n",
              "  (dropout): Dropout(p=0.1, inplace=False)\n",
              "  (classifier): Linear(in_features=768, out_features=6, bias=True)\n",
              ")"
            ]
          },
          "metadata": {},
          "execution_count": 214
        }
      ]
    },
    {
      "cell_type": "markdown",
      "metadata": {
        "id": "SXJHBVlxYR-l"
      },
      "source": [
        "## Load the model from the transformers library using AutoModel"
      ]
    },
    {
      "cell_type": "code",
      "metadata": {
        "colab": {
          "base_uri": "https://localhost:8080/"
        },
        "id": "n8J4r6KyhveR",
        "outputId": "2555a8f5-4a64-4247-ecb5-5ccf44da7adc"
      },
      "source": [
        "# Load the pre-trained model for classification, passing in the `config` from\n",
        "# above.\n",
        "bert = AutoModel.from_pretrained(\n",
        "    pretrained_model_name_or_path=model_name,\n",
        "    config=config)\n",
        "\n",
        "print('\\nModel type:', str(type(bert)))\n"
      ],
      "execution_count": 215,
      "outputs": [
        {
          "output_type": "stream",
          "name": "stdout",
          "text": [
            "\n",
            "Model type: <class 'transformers.models.bert.modeling_bert.BertModel'>\n"
          ]
        }
      ]
    },
    {
      "cell_type": "code",
      "metadata": {
        "id": "RcFMgf5EuPAF"
      },
      "source": [
        "# freeze all the parameters\n",
        "for param in bert.parameters():\n",
        "    param.requires_grad = False"
      ],
      "execution_count": 216,
      "outputs": []
    },
    {
      "cell_type": "markdown",
      "metadata": {
        "id": "NS_-0rBDYeY5"
      },
      "source": [
        "## Creating a custom BERT model"
      ]
    },
    {
      "cell_type": "code",
      "metadata": {
        "id": "bmGtZwykJ39i"
      },
      "source": [
        "\n",
        "# class BERT_Model(nn.Module):\n",
        "#     ## defining the constructor for the class\n",
        "#     def __init__(self, bert,num_labels):\n",
        "#       ## calling the super class constructor\n",
        "#       super(BERT_Model, self).__init__()\n",
        "#       ## adding the bert layer to the model\n",
        "#       self.bert = bert\n",
        "#       # relu activation function\n",
        "#       self.relu =  nn.ReLU()\n",
        "#       # adding a dense layer to our custom model\n",
        "#       self.fc1 = nn.Linear(768,512)\n",
        "#       # adding another dense layer to our custom model ,i.e., the Output layer\n",
        "#       self.fc2 = nn.Linear(512,num_labels)\n",
        "#       # adding a softmax  activation function for our custom model's output layer\n",
        "#       self.softmax = nn.LogSoftmax(dim=1)\n",
        "\n",
        "#     #defining the forward pass\n",
        "#     def forward(self, input_id, mask):\n",
        "#       #pass the inputs to the model\n",
        "#       outputs = self.bert(input_id,mask)\n",
        "\n",
        "#       last_hidden_state = outputs.last_hidden_state       ## last hidden state from the model\n",
        "#       pooler_output = outputs.pooler_output               ## pooler output from the model\n",
        "#       ## adding a fully connected layer to the BERT model\n",
        "#       x = self.fc1(pooler_output)\n",
        "#       ## applying relu activation function\n",
        "#       x = self.relu(x)\n",
        "#       # the final output layer\n",
        "#       x = self.fc2(x)\n",
        "#       # apply softmax activation to our output layer\n",
        "#       x = self.softmax(x)\n",
        "\n",
        "#       return x"
      ],
      "execution_count": 217,
      "outputs": []
    },
    {
      "cell_type": "code",
      "metadata": {
        "id": "jvOs0G5sh02S"
      },
      "source": [
        "\n",
        "\n",
        "# print('\\nLoading model ...')\n",
        "# # pass the pre-trained BERT to our define architecture\n",
        "# model = BERT_Model(bert,num_labels=3)\n",
        "\n",
        "# model.cuda()"
      ],
      "execution_count": 218,
      "outputs": []
    },
    {
      "cell_type": "markdown",
      "metadata": {
        "id": "LjQSUqCWJTbI"
      },
      "source": [
        "## Custom Loss function"
      ]
    },
    {
      "cell_type": "code",
      "metadata": {
        "id": "iOHVl1RRJSUB"
      },
      "source": [
        "# # convert class weights to tensor\n",
        "# weights= torch.tensor(class_wts,dtype=torch.float)\n",
        "# weights = weights.to(device)\n",
        "\n",
        "# # loss function\n",
        "# cross_entropy  = nn.NLLLoss(weight=weights)\n"
      ],
      "execution_count": 219,
      "outputs": []
    },
    {
      "cell_type": "markdown",
      "metadata": {
        "id": "evYV0yrQ2u_b"
      },
      "source": [
        "## Loading Optimizer"
      ]
    },
    {
      "cell_type": "code",
      "metadata": {
        "id": "8tAijXBEh7t8",
        "colab": {
          "base_uri": "https://localhost:8080/"
        },
        "outputId": "ed8efb8e-4a16-45e2-d8f2-08aa89a97417"
      },
      "source": [
        "# Note: AdamW is a class from the huggingface library (as opposed to pytorch)\n",
        "# I believe the 'W' stands for 'Weight Decay fix\"\n",
        "optimizer = AdamW(model.parameters(),\n",
        "                  lr = 2e-5, # This is the value Michael used.\n",
        "                  eps = 1e-8 # args.adam_epsilon  - default is 1e-8.\n",
        "                )\n"
      ],
      "execution_count": 220,
      "outputs": [
        {
          "output_type": "stream",
          "name": "stderr",
          "text": [
            "/usr/local/lib/python3.10/dist-packages/transformers/optimization.py:591: FutureWarning: This implementation of AdamW is deprecated and will be removed in a future version. Use the PyTorch implementation torch.optim.AdamW instead, or set `no_deprecation_warning=True` to disable this warning\n",
            "  warnings.warn(\n"
          ]
        }
      ]
    },
    {
      "cell_type": "markdown",
      "metadata": {
        "id": "s9n3_5jI2ywo"
      },
      "source": [
        "## Loading lr scheduler"
      ]
    },
    {
      "cell_type": "code",
      "metadata": {
        "id": "agidP6D6iBFI"
      },
      "source": [
        "# Number of training epochs. I chose to train for 1 simply because the training\n",
        "# time is long. More epochs may improve the model's accuracy.\n",
        "epochs = 4\n",
        "\n",
        "# Total number of training steps is [number of batches] x [number of epochs].\n",
        "# Note that it's the number of *batches*, not *samples*!\n",
        "total_steps = len(py_inputs) * epochs\n",
        "\n",
        "# Create the learning rate scheduler.\n",
        "scheduler = get_linear_schedule_with_warmup(optimizer,\n",
        "                                            num_warmup_steps = 0, # Default value in run_glue.py\n",
        "                                            num_training_steps = total_steps)"
      ],
      "execution_count": 221,
      "outputs": []
    },
    {
      "cell_type": "markdown",
      "metadata": {
        "id": "MDDp05Cm245e"
      },
      "source": [
        "## Training Loop"
      ]
    },
    {
      "cell_type": "code",
      "metadata": {
        "id": "H4ERR8fBiEJn",
        "colab": {
          "base_uri": "https://localhost:8080/"
        },
        "outputId": "af6543c7-1af0-4567-a999-1c735a4e2612"
      },
      "source": [
        "# We'll store a number of quantities such as training and validation loss,\n",
        "# validation accuracy, and timings.\n",
        "training_stats = {\n",
        "    'epoch':[],\n",
        "    'train_loss':[],\n",
        "    'Training Time':[],\n",
        "    'val_loss':[],\n",
        "    'Validation Time':[],\n",
        "    'train_acc':[],\n",
        "    'val_acc':[]\n",
        "}\n",
        "\n",
        "# Update every `update_interval` batches.\n",
        "update_interval = good_update_interval(total_iters=len(py_inputs), num_desired_updates=10)\n",
        "\n",
        "# Measure the total training time for the whole run.\n",
        "total_t0 = time.time()\n",
        "\n",
        "# For each epoch...\n",
        "for epoch_i in range(0, epochs):\n",
        "\n",
        "    predictions = []\n",
        "    true_labels = []\n",
        "\n",
        "    # ========================================\n",
        "    #               Training\n",
        "    # ========================================\n",
        "\n",
        "    # Perform one full pass over the training set.\n",
        "\n",
        "    print(\"\")\n",
        "    print('======== Epoch {:} / {:} ========'.format(epoch_i + 1, epochs))\n",
        "\n",
        "    # At the start of each epoch (except for the first) we need to re-randomize\n",
        "    # our training data.\n",
        "    if epoch_i > 0:\n",
        "        # Use our `make_smart_batches` function (from 6.1.) to re-shuffle the\n",
        "        # dataset into new batches.\n",
        "        (py_inputs, py_attn_masks, py_labels) = make_smart_batches(train_sentences, train_labels, batch_size,tokenizer,max_input_length)\n",
        "\n",
        "    print('Training on {:,} batches...'.format(len(py_inputs)))\n",
        "\n",
        "    # Measure how long the training epoch takes.\n",
        "    t0 = time.time()\n",
        "\n",
        "    # Reset the total loss for this epoch.\n",
        "    total_train_loss = 0\n",
        "\n",
        "    # Put the model into training mode. Don't be mislead--the call to\n",
        "    # `train` just changes the *mode*, it doesn't *perform* the training.\n",
        "    # `dropout` and `batchnorm` layers behave differently during training\n",
        "    # vs. test (source: https://stackoverflow.com/questions/51433378/what-does-model-train-do-in-pytorch)\n",
        "    model.train()\n",
        "\n",
        "    # For each batch of training data...\n",
        "    for step in range(0, len(py_inputs)):\n",
        "\n",
        "        # Progress update every, e.g., 100 batches.\n",
        "        if step % update_interval == 0 and not step == 0:\n",
        "            # Calculate elapsed time in minutes.\n",
        "            elapsed = format_time(time.time() - t0)\n",
        "\n",
        "            # Calculate the time remaining based on our progress.\n",
        "            steps_per_sec = (time.time() - t0) / step\n",
        "            remaining_sec = steps_per_sec * (len(py_inputs) - step)\n",
        "            remaining = format_time(remaining_sec)\n",
        "\n",
        "            # Report progress.\n",
        "            print('  Batch {:>7,}  of  {:>7,}.    Elapsed: {:}.  Remaining: {:}'.format(step, len(py_inputs), elapsed, remaining))\n",
        "\n",
        "        # Copy the current training batch to the GPU using the `to` method.\n",
        "        b_input_ids = py_inputs[step].to(device)\n",
        "        b_input_mask = py_attn_masks[step].to(device)\n",
        "        b_labels = py_labels[step].to(device)\n",
        "\n",
        "        # Always clear any previously calculated gradients before performing a\n",
        "        # backward pass.\n",
        "        model.zero_grad()\n",
        "\n",
        "        # Perform a forward pass (evaluate the model on this training batch).\n",
        "        # The call returns the loss (because we provided labels) and the\n",
        "        # \"logits\"--the model outputs prior to activation.\n",
        "        output = model(b_input_ids,\n",
        "                             token_type_ids=None,\n",
        "                             attention_mask=b_input_mask,\n",
        "                             labels=b_labels)\n",
        "\n",
        "        # Accumulate the training loss over all of the batches so that we can\n",
        "        # calculate the average loss at the end. `loss` is a Tensor containing a\n",
        "        # single value; the `.item()` function just returns the Python value\n",
        "        # from the tensor.\n",
        "        loss = output.loss\n",
        "        logits = output.logits\n",
        "\n",
        "        # Move logits and labels to CPU\n",
        "        logits = logits.detach().cpu().numpy()\n",
        "        label_ids = b_labels.to('cpu').numpy()\n",
        "\n",
        "        # Store predictions and true labels\n",
        "        predictions.append(logits)\n",
        "        true_labels.append(label_ids)\n",
        "\n",
        "        # Accumulate the training loss over all of the batches so that we can\n",
        "        # calculate the average loss at the end. `loss` is a Tensor containing a\n",
        "        # single value; the `.item()` function just returns the Python value\n",
        "        # from the tensor.\n",
        "        total_train_loss += loss.item()\n",
        "\n",
        "        # Perform a backward pass to calculate the gradients.\n",
        "        loss.backward()\n",
        "\n",
        "        # Clip the norm of the gradients to 1.0.\n",
        "        # This is to help prevent the \"exploding gradients\" problem.\n",
        "        torch.nn.utils.clip_grad_norm_(model.parameters(), 1.0)\n",
        "\n",
        "        # Update parameters and take a step using the computed gradient.\n",
        "        # The optimizer dictates the \"update rule\"--how the parameters are\n",
        "        # modified based on their gradients, the learning rate, etc.\n",
        "        optimizer.step()\n",
        "\n",
        "        # Update the learning rate.\n",
        "        scheduler.step()\n",
        "\n",
        "    # Calculate the average loss over all of the batches.\n",
        "    avg_train_loss = total_train_loss / len(py_inputs)\n",
        "\n",
        "    training_accuracy = check_accuracy(predictions,true_labels)\n",
        "\n",
        "    # Measure how long this epoch took.\n",
        "    training_time = format_time(time.time() - t0)\n",
        "\n",
        "    print(\"\")\n",
        "    print(\"  Average training loss: {0:.2f}\".format(avg_train_loss))\n",
        "    print(\"  Training Accuracy: {0:.2f}\".format(training_accuracy))\n",
        "    print(\"  Training epoch took: {:}\".format(training_time))\n",
        "\n",
        "    (py_inputs, py_attn_masks, py_labels) = make_smart_batches(val_sentences, val_labels, batch_size ,tokenizer,max_input_length)\n",
        "    val_loss,val_accuracy,validation_time = eval_model(model,py_inputs, py_attn_masks, py_labels)\n",
        "    # Record all statistics from this epoch.\n",
        "\n",
        "    print(\"\")\n",
        "    print(\"  Average validation loss: {0:.2f}\".format(val_loss))\n",
        "    print(\"  Validation Accuracy: {0:.2f}\".format(val_accuracy))\n",
        "    print(\"  Validation epoch took: {:}\".format(validation_time))\n",
        "\n",
        "\n",
        "    training_stats['epoch'].append(epoch_i + 1)\n",
        "    training_stats['train_loss'].append(avg_train_loss)\n",
        "    training_stats['Training Time'].append(training_time)\n",
        "    training_stats['val_loss'].append(val_loss)\n",
        "    training_stats['Validation Time'].append(validation_time)\n",
        "    training_stats['train_acc'].append(training_accuracy)\n",
        "    training_stats['val_acc'].append(val_accuracy)\n",
        "\n",
        "print(\"\")\n",
        "print(\"Training complete!\")\n",
        "\n",
        "print(\"Total training took {:} (h:mm:ss)\".format(format_time(time.time()-total_t0)))"
      ],
      "execution_count": 222,
      "outputs": [
        {
          "output_type": "stream",
          "name": "stdout",
          "text": [
            "\n",
            "======== Epoch 1 / 4 ========\n",
            "Training on 375 batches...\n",
            "  Batch      40  of      375.    Elapsed: 0:00:06.  Remaining: 0:00:51\n",
            "  Batch      80  of      375.    Elapsed: 0:00:11.  Remaining: 0:00:40\n",
            "  Batch     120  of      375.    Elapsed: 0:00:17.  Remaining: 0:00:36\n",
            "  Batch     160  of      375.    Elapsed: 0:00:22.  Remaining: 0:00:30\n",
            "  Batch     200  of      375.    Elapsed: 0:00:27.  Remaining: 0:00:23\n",
            "  Batch     240  of      375.    Elapsed: 0:00:31.  Remaining: 0:00:17\n",
            "  Batch     280  of      375.    Elapsed: 0:00:35.  Remaining: 0:00:12\n",
            "  Batch     320  of      375.    Elapsed: 0:00:41.  Remaining: 0:00:07\n",
            "  Batch     360  of      375.    Elapsed: 0:00:45.  Remaining: 0:00:02\n",
            "\n",
            "  Average training loss: 1.25\n",
            "  Training Accuracy: 0.46\n",
            "  Training epoch took: 0:00:47\n",
            "Creating Smart Batches from 6,000 examples with batch size 16...\n",
            "\n",
            "Tokenizing 6,000 samples...\n",
            "  Tokenized 0 samples.\n",
            "  Tokenized 600 samples.\n",
            "  Tokenized 1,200 samples.\n",
            "  Tokenized 1,800 samples.\n",
            "  Tokenized 2,400 samples.\n",
            "  Tokenized 3,000 samples.\n",
            "  Tokenized 3,600 samples.\n",
            "  Tokenized 4,200 samples.\n",
            "  Tokenized 4,800 samples.\n",
            "  Tokenized 5,400 samples.\n",
            "DONE.\n",
            "     6,000 samples\n",
            "\n",
            "     6,000 samples after sorting\n",
            "\n",
            "Creating batches of size 16...\n",
            "\n",
            "  DONE - Selected 375 batches.\n",
            "\n",
            "Padding out sequences within each batch...\n",
            "  DONE.\n",
            "Doing validation on 375 sentences...\n",
            "  Batch      40  of      375.    Elapsed: 0:00:01.  Remaining: 0:00:06\n",
            "  Batch      80  of      375.    Elapsed: 0:00:01.  Remaining: 0:00:05\n",
            "  Batch     120  of      375.    Elapsed: 0:00:02.  Remaining: 0:00:05\n",
            "  Batch     160  of      375.    Elapsed: 0:00:03.  Remaining: 0:00:04\n",
            "  Batch     200  of      375.    Elapsed: 0:00:04.  Remaining: 0:00:03\n",
            "  Batch     240  of      375.    Elapsed: 0:00:05.  Remaining: 0:00:03\n",
            "  Batch     280  of      375.    Elapsed: 0:00:05.  Remaining: 0:00:02\n",
            "  Batch     320  of      375.    Elapsed: 0:00:06.  Remaining: 0:00:01\n",
            "  Batch     360  of      375.    Elapsed: 0:00:07.  Remaining: 0:00:00\n",
            "\n",
            "  Average validation loss: 1.03\n",
            "  Validation Accuracy: 0.58\n",
            "  Validation epoch took: 0:00:08\n",
            "\n",
            "======== Epoch 2 / 4 ========\n",
            "Creating Smart Batches from 6,000 examples with batch size 16...\n",
            "\n",
            "Tokenizing 6,000 samples...\n",
            "  Tokenized 0 samples.\n",
            "  Tokenized 600 samples.\n",
            "  Tokenized 1,200 samples.\n",
            "  Tokenized 1,800 samples.\n",
            "  Tokenized 2,400 samples.\n",
            "  Tokenized 3,000 samples.\n",
            "  Tokenized 3,600 samples.\n",
            "  Tokenized 4,200 samples.\n",
            "  Tokenized 4,800 samples.\n",
            "  Tokenized 5,400 samples.\n",
            "DONE.\n",
            "     6,000 samples\n",
            "\n",
            "     6,000 samples after sorting\n",
            "\n",
            "Creating batches of size 16...\n",
            "\n",
            "  DONE - Selected 375 batches.\n",
            "\n",
            "Padding out sequences within each batch...\n",
            "  DONE.\n",
            "Training on 375 batches...\n",
            "  Batch      40  of      375.    Elapsed: 0:00:04.  Remaining: 0:00:37\n",
            "  Batch      80  of      375.    Elapsed: 0:00:09.  Remaining: 0:00:33\n",
            "  Batch     120  of      375.    Elapsed: 0:00:13.  Remaining: 0:00:28\n",
            "  Batch     160  of      375.    Elapsed: 0:00:18.  Remaining: 0:00:24\n",
            "  Batch     200  of      375.    Elapsed: 0:00:22.  Remaining: 0:00:20\n",
            "  Batch     240  of      375.    Elapsed: 0:00:27.  Remaining: 0:00:15\n",
            "  Batch     280  of      375.    Elapsed: 0:00:31.  Remaining: 0:00:11\n",
            "  Batch     320  of      375.    Elapsed: 0:00:36.  Remaining: 0:00:06\n",
            "  Batch     360  of      375.    Elapsed: 0:00:40.  Remaining: 0:00:02\n",
            "\n",
            "  Average training loss: 1.00\n",
            "  Training Accuracy: 0.60\n",
            "  Training epoch took: 0:00:43\n",
            "Creating Smart Batches from 6,000 examples with batch size 16...\n",
            "\n",
            "Tokenizing 6,000 samples...\n",
            "  Tokenized 0 samples.\n",
            "  Tokenized 600 samples.\n",
            "  Tokenized 1,200 samples.\n",
            "  Tokenized 1,800 samples.\n",
            "  Tokenized 2,400 samples.\n",
            "  Tokenized 3,000 samples.\n",
            "  Tokenized 3,600 samples.\n",
            "  Tokenized 4,200 samples.\n",
            "  Tokenized 4,800 samples.\n",
            "  Tokenized 5,400 samples.\n",
            "DONE.\n",
            "     6,000 samples\n",
            "\n",
            "     6,000 samples after sorting\n",
            "\n",
            "Creating batches of size 16...\n",
            "\n",
            "  DONE - Selected 375 batches.\n",
            "\n",
            "Padding out sequences within each batch...\n",
            "  DONE.\n",
            "Doing validation on 375 sentences...\n",
            "  Batch      40  of      375.    Elapsed: 0:00:01.  Remaining: 0:00:07\n",
            "  Batch      80  of      375.    Elapsed: 0:00:02.  Remaining: 0:00:06\n",
            "  Batch     120  of      375.    Elapsed: 0:00:02.  Remaining: 0:00:05\n",
            "  Batch     160  of      375.    Elapsed: 0:00:03.  Remaining: 0:00:04\n",
            "  Batch     200  of      375.    Elapsed: 0:00:04.  Remaining: 0:00:03\n",
            "  Batch     240  of      375.    Elapsed: 0:00:05.  Remaining: 0:00:03\n",
            "  Batch     280  of      375.    Elapsed: 0:00:05.  Remaining: 0:00:02\n",
            "  Batch     320  of      375.    Elapsed: 0:00:06.  Remaining: 0:00:01\n",
            "  Batch     360  of      375.    Elapsed: 0:00:07.  Remaining: 0:00:00\n",
            "\n",
            "  Average validation loss: 0.79\n",
            "  Validation Accuracy: 0.72\n",
            "  Validation epoch took: 0:00:08\n",
            "\n",
            "======== Epoch 3 / 4 ========\n",
            "Creating Smart Batches from 6,000 examples with batch size 16...\n",
            "\n",
            "Tokenizing 6,000 samples...\n",
            "  Tokenized 0 samples.\n",
            "  Tokenized 600 samples.\n",
            "  Tokenized 1,200 samples.\n",
            "  Tokenized 1,800 samples.\n",
            "  Tokenized 2,400 samples.\n",
            "  Tokenized 3,000 samples.\n",
            "  Tokenized 3,600 samples.\n",
            "  Tokenized 4,200 samples.\n",
            "  Tokenized 4,800 samples.\n",
            "  Tokenized 5,400 samples.\n",
            "DONE.\n",
            "     6,000 samples\n",
            "\n",
            "     6,000 samples after sorting\n",
            "\n",
            "Creating batches of size 16...\n",
            "\n",
            "  DONE - Selected 375 batches.\n",
            "\n",
            "Padding out sequences within each batch...\n",
            "  DONE.\n",
            "Training on 375 batches...\n",
            "  Batch      40  of      375.    Elapsed: 0:00:05.  Remaining: 0:00:42\n",
            "  Batch      80  of      375.    Elapsed: 0:00:10.  Remaining: 0:00:35\n",
            "  Batch     120  of      375.    Elapsed: 0:00:14.  Remaining: 0:00:30\n",
            "  Batch     160  of      375.    Elapsed: 0:00:19.  Remaining: 0:00:25\n",
            "  Batch     200  of      375.    Elapsed: 0:00:23.  Remaining: 0:00:20\n",
            "  Batch     240  of      375.    Elapsed: 0:00:28.  Remaining: 0:00:16\n",
            "  Batch     280  of      375.    Elapsed: 0:00:32.  Remaining: 0:00:11\n",
            "  Batch     320  of      375.    Elapsed: 0:00:37.  Remaining: 0:00:06\n",
            "  Batch     360  of      375.    Elapsed: 0:00:41.  Remaining: 0:00:02\n",
            "\n",
            "  Average training loss: 0.84\n",
            "  Training Accuracy: 0.69\n",
            "  Training epoch took: 0:00:44\n",
            "Creating Smart Batches from 6,000 examples with batch size 16...\n",
            "\n",
            "Tokenizing 6,000 samples...\n",
            "  Tokenized 0 samples.\n",
            "  Tokenized 600 samples.\n",
            "  Tokenized 1,200 samples.\n",
            "  Tokenized 1,800 samples.\n",
            "  Tokenized 2,400 samples.\n",
            "  Tokenized 3,000 samples.\n",
            "  Tokenized 3,600 samples.\n",
            "  Tokenized 4,200 samples.\n",
            "  Tokenized 4,800 samples.\n",
            "  Tokenized 5,400 samples.\n",
            "DONE.\n",
            "     6,000 samples\n",
            "\n",
            "     6,000 samples after sorting\n",
            "\n",
            "Creating batches of size 16...\n",
            "\n",
            "  DONE - Selected 375 batches.\n",
            "\n",
            "Padding out sequences within each batch...\n",
            "  DONE.\n",
            "Doing validation on 375 sentences...\n",
            "  Batch      40  of      375.    Elapsed: 0:00:01.  Remaining: 0:00:07\n",
            "  Batch      80  of      375.    Elapsed: 0:00:02.  Remaining: 0:00:06\n",
            "  Batch     120  of      375.    Elapsed: 0:00:02.  Remaining: 0:00:05\n",
            "  Batch     160  of      375.    Elapsed: 0:00:03.  Remaining: 0:00:04\n",
            "  Batch     200  of      375.    Elapsed: 0:00:04.  Remaining: 0:00:03\n",
            "  Batch     240  of      375.    Elapsed: 0:00:05.  Remaining: 0:00:03\n",
            "  Batch     280  of      375.    Elapsed: 0:00:06.  Remaining: 0:00:02\n",
            "  Batch     320  of      375.    Elapsed: 0:00:06.  Remaining: 0:00:01\n",
            "  Batch     360  of      375.    Elapsed: 0:00:07.  Remaining: 0:00:00\n",
            "\n",
            "  Average validation loss: 0.65\n",
            "  Validation Accuracy: 0.78\n",
            "  Validation epoch took: 0:00:08\n",
            "\n",
            "======== Epoch 4 / 4 ========\n",
            "Creating Smart Batches from 6,000 examples with batch size 16...\n",
            "\n",
            "Tokenizing 6,000 samples...\n",
            "  Tokenized 0 samples.\n",
            "  Tokenized 600 samples.\n",
            "  Tokenized 1,200 samples.\n",
            "  Tokenized 1,800 samples.\n",
            "  Tokenized 2,400 samples.\n",
            "  Tokenized 3,000 samples.\n",
            "  Tokenized 3,600 samples.\n",
            "  Tokenized 4,200 samples.\n",
            "  Tokenized 4,800 samples.\n",
            "  Tokenized 5,400 samples.\n",
            "DONE.\n",
            "     6,000 samples\n",
            "\n",
            "     6,000 samples after sorting\n",
            "\n",
            "Creating batches of size 16...\n",
            "\n",
            "  DONE - Selected 375 batches.\n",
            "\n",
            "Padding out sequences within each batch...\n",
            "  DONE.\n",
            "Training on 375 batches...\n",
            "  Batch      40  of      375.    Elapsed: 0:00:05.  Remaining: 0:00:38\n",
            "  Batch      80  of      375.    Elapsed: 0:00:09.  Remaining: 0:00:35\n",
            "  Batch     120  of      375.    Elapsed: 0:00:14.  Remaining: 0:00:30\n",
            "  Batch     160  of      375.    Elapsed: 0:00:19.  Remaining: 0:00:25\n",
            "  Batch     200  of      375.    Elapsed: 0:00:23.  Remaining: 0:00:20\n",
            "  Batch     240  of      375.    Elapsed: 0:00:28.  Remaining: 0:00:16\n",
            "  Batch     280  of      375.    Elapsed: 0:00:32.  Remaining: 0:00:11\n",
            "  Batch     320  of      375.    Elapsed: 0:00:36.  Remaining: 0:00:06\n",
            "  Batch     360  of      375.    Elapsed: 0:00:41.  Remaining: 0:00:02\n",
            "\n",
            "  Average training loss: 0.71\n",
            "  Training Accuracy: 0.75\n",
            "  Training epoch took: 0:00:44\n",
            "Creating Smart Batches from 6,000 examples with batch size 16...\n",
            "\n",
            "Tokenizing 6,000 samples...\n",
            "  Tokenized 0 samples.\n",
            "  Tokenized 600 samples.\n",
            "  Tokenized 1,200 samples.\n",
            "  Tokenized 1,800 samples.\n",
            "  Tokenized 2,400 samples.\n",
            "  Tokenized 3,000 samples.\n",
            "  Tokenized 3,600 samples.\n",
            "  Tokenized 4,200 samples.\n",
            "  Tokenized 4,800 samples.\n",
            "  Tokenized 5,400 samples.\n",
            "DONE.\n",
            "     6,000 samples\n",
            "\n",
            "     6,000 samples after sorting\n",
            "\n",
            "Creating batches of size 16...\n",
            "\n",
            "  DONE - Selected 375 batches.\n",
            "\n",
            "Padding out sequences within each batch...\n",
            "  DONE.\n",
            "Doing validation on 375 sentences...\n",
            "  Batch      40  of      375.    Elapsed: 0:00:01.  Remaining: 0:00:06\n",
            "  Batch      80  of      375.    Elapsed: 0:00:02.  Remaining: 0:00:06\n",
            "  Batch     120  of      375.    Elapsed: 0:00:02.  Remaining: 0:00:05\n",
            "  Batch     160  of      375.    Elapsed: 0:00:03.  Remaining: 0:00:04\n",
            "  Batch     200  of      375.    Elapsed: 0:00:04.  Remaining: 0:00:03\n",
            "  Batch     240  of      375.    Elapsed: 0:00:05.  Remaining: 0:00:03\n",
            "  Batch     280  of      375.    Elapsed: 0:00:06.  Remaining: 0:00:02\n",
            "  Batch     320  of      375.    Elapsed: 0:00:06.  Remaining: 0:00:01\n",
            "  Batch     360  of      375.    Elapsed: 0:00:07.  Remaining: 0:00:00\n",
            "\n",
            "  Average validation loss: 0.57\n",
            "  Validation Accuracy: 0.81\n",
            "  Validation epoch took: 0:00:08\n",
            "\n",
            "Training complete!\n",
            "Total training took 0:03:35 (h:mm:ss)\n"
          ]
        }
      ]
    },
    {
      "cell_type": "code",
      "metadata": {
        "colab": {
          "base_uri": "https://localhost:8080/",
          "height": 387
        },
        "id": "GOmua_S1eXNM",
        "outputId": "f24f48ce-839b-4fc9-92a9-83c1c72d44bf"
      },
      "source": [
        "plot_training_history(training_stats)"
      ],
      "execution_count": 223,
      "outputs": [
        {
          "output_type": "display_data",
          "data": {
            "text/plain": [
              "<Figure size 1800x600 with 2 Axes>"
            ],
            "image/png": "[encoded data removed]"
          },
          "metadata": {}
        }
      ]
    },
    {
      "cell_type": "markdown",
      "metadata": {
        "id": "3c-6bOIxVyrM"
      },
      "source": [
        "## Evaluating Performance Over Training Set"
      ]
    },
    {
      "cell_type": "code",
      "metadata": {
        "colab": {
          "base_uri": "https://localhost:8080/"
        },
        "id": "2QmKPNAeWHkZ",
        "outputId": "8b51ac0b-abdb-4faf-e3af-df9e98962e67"
      },
      "source": [
        "(py_inputs, py_attn_masks, py_labels) = make_smart_batches(train_sentences, train_labels, batch_size ,tokenizer,max_input_length)\n",
        "\n",
        "y_pred , y_true = get_predictions(py_inputs, py_attn_masks, py_labels)\n"
      ],
      "execution_count": 224,
      "outputs": [
        {
          "output_type": "stream",
          "name": "stdout",
          "text": [
            "Creating Smart Batches from 6,000 examples with batch size 16...\n",
            "\n",
            "Tokenizing 6,000 samples...\n",
            "  Tokenized 0 samples.\n",
            "  Tokenized 600 samples.\n",
            "  Tokenized 1,200 samples.\n",
            "  Tokenized 1,800 samples.\n",
            "  Tokenized 2,400 samples.\n",
            "  Tokenized 3,000 samples.\n",
            "  Tokenized 3,600 samples.\n",
            "  Tokenized 4,200 samples.\n",
            "  Tokenized 4,800 samples.\n",
            "  Tokenized 5,400 samples.\n",
            "DONE.\n",
            "     6,000 samples\n",
            "\n",
            "     6,000 samples after sorting\n",
            "\n",
            "Creating batches of size 16...\n",
            "\n",
            "  DONE - Selected 375 batches.\n",
            "\n",
            "Padding out sequences within each batch...\n",
            "  DONE.\n",
            "Predicting labels for 375 test batches...\n",
            "  Batch      40  of      375.    Elapsed: 0:00:01.  Remaining: 0:00:06\n",
            "  Batch      80  of      375.    Elapsed: 0:00:02.  Remaining: 0:00:06\n",
            "  Batch     120  of      375.    Elapsed: 0:00:02.  Remaining: 0:00:05\n",
            "  Batch     160  of      375.    Elapsed: 0:00:03.  Remaining: 0:00:04\n",
            "  Batch     200  of      375.    Elapsed: 0:00:04.  Remaining: 0:00:03\n",
            "  Batch     240  of      375.    Elapsed: 0:00:05.  Remaining: 0:00:03\n",
            "  Batch     280  of      375.    Elapsed: 0:00:05.  Remaining: 0:00:02\n",
            "  Batch     320  of      375.    Elapsed: 0:00:06.  Remaining: 0:00:01\n",
            "  Batch     360  of      375.    Elapsed: 0:00:07.  Remaining: 0:00:00\n"
          ]
        }
      ]
    },
    {
      "cell_type": "code",
      "metadata": {
        "colab": {
          "base_uri": "https://localhost:8080/"
        },
        "id": "uXsVn0wngZhv",
        "outputId": "52cb3e50-9a3d-40a1-9efe-dbfbe55a0865"
      },
      "source": [
        "print(classification_report(y_true, y_pred, target_names=class_names))"
      ],
      "execution_count": 225,
      "outputs": [
        {
          "output_type": "stream",
          "name": "stdout",
          "text": [
            "                       precision    recall  f1-score   support\n",
            "\n",
            "        Cyberbullying       0.82      0.79      0.80      2146\n",
            "     Religious_Hatred       0.00      0.00      0.00        57\n",
            "Gender_Discrimination       0.90      0.89      0.89       971\n",
            "              Sarcasm       0.64      0.50      0.56       250\n",
            "            Political       0.88      0.82      0.85       571\n",
            "               Racism       0.76      0.85      0.80      2005\n",
            "\n",
            "             accuracy                           0.81      6000\n",
            "            macro avg       0.67      0.64      0.65      6000\n",
            "         weighted avg       0.80      0.81      0.80      6000\n",
            "\n"
          ]
        },
        {
          "output_type": "stream",
          "name": "stderr",
          "text": [
            "/usr/local/lib/python3.10/dist-packages/sklearn/metrics/_classification.py:1531: UndefinedMetricWarning: Precision is ill-defined and being set to 0.0 in labels with no predicted samples. Use `zero_division` parameter to control this behavior.\n",
            "  _warn_prf(average, modifier, f\"{metric.capitalize()} is\", len(result))\n",
            "/usr/local/lib/python3.10/dist-packages/sklearn/metrics/_classification.py:1531: UndefinedMetricWarning: Precision is ill-defined and being set to 0.0 in labels with no predicted samples. Use `zero_division` parameter to control this behavior.\n",
            "  _warn_prf(average, modifier, f\"{metric.capitalize()} is\", len(result))\n",
            "/usr/local/lib/python3.10/dist-packages/sklearn/metrics/_classification.py:1531: UndefinedMetricWarning: Precision is ill-defined and being set to 0.0 in labels with no predicted samples. Use `zero_division` parameter to control this behavior.\n",
            "  _warn_prf(average, modifier, f\"{metric.capitalize()} is\", len(result))\n"
          ]
        }
      ]
    },
    {
      "cell_type": "code",
      "metadata": {
        "colab": {
          "base_uri": "https://localhost:8080/",
          "height": 534
        },
        "id": "guClUdRhYPql",
        "outputId": "c11f9aa3-9ce6-47c9-b4d2-216a6e6d1232"
      },
      "source": [
        "cm = confusion_matrix(y_true, y_pred)\n",
        "show_confusion_matrix(cm, class_names)"
      ],
      "execution_count": 226,
      "outputs": [
        {
          "output_type": "display_data",
          "data": {
            "text/plain": [
              "<Figure size 1200x600 with 2 Axes>"
            ],
            "image/png": "[encoded data removed]"
          },
          "metadata": {}
        }
      ]
    },
    {
      "cell_type": "markdown",
      "metadata": {
        "id": "VM2N-X1tV3il"
      },
      "source": [
        "## Evaluating Performance Over Validation Set"
      ]
    },
    {
      "cell_type": "code",
      "metadata": {
        "colab": {
          "base_uri": "https://localhost:8080/"
        },
        "id": "BnadNvtxWIYw",
        "outputId": "c1b01fbc-ac14-4617-b9d7-6ee1a44b95ad"
      },
      "source": [
        "(py_inputs, py_attn_masks, py_labels) = make_smart_batches(val_sentences, val_labels, batch_size ,tokenizer,max_input_length)\n",
        "\n",
        "y_pred , y_true = get_predictions(py_inputs, py_attn_masks, py_labels)"
      ],
      "execution_count": 227,
      "outputs": [
        {
          "output_type": "stream",
          "name": "stdout",
          "text": [
            "Creating Smart Batches from 6,000 examples with batch size 16...\n",
            "\n",
            "Tokenizing 6,000 samples...\n",
            "  Tokenized 0 samples.\n",
            "  Tokenized 600 samples.\n",
            "  Tokenized 1,200 samples.\n",
            "  Tokenized 1,800 samples.\n",
            "  Tokenized 2,400 samples.\n",
            "  Tokenized 3,000 samples.\n",
            "  Tokenized 3,600 samples.\n",
            "  Tokenized 4,200 samples.\n",
            "  Tokenized 4,800 samples.\n",
            "  Tokenized 5,400 samples.\n",
            "DONE.\n",
            "     6,000 samples\n",
            "\n",
            "     6,000 samples after sorting\n",
            "\n",
            "Creating batches of size 16...\n",
            "\n",
            "  DONE - Selected 375 batches.\n",
            "\n",
            "Padding out sequences within each batch...\n",
            "  DONE.\n",
            "Predicting labels for 375 test batches...\n",
            "  Batch      40  of      375.    Elapsed: 0:00:01.  Remaining: 0:00:06\n",
            "  Batch      80  of      375.    Elapsed: 0:00:02.  Remaining: 0:00:06\n",
            "  Batch     120  of      375.    Elapsed: 0:00:02.  Remaining: 0:00:05\n",
            "  Batch     160  of      375.    Elapsed: 0:00:03.  Remaining: 0:00:04\n",
            "  Batch     200  of      375.    Elapsed: 0:00:04.  Remaining: 0:00:03\n",
            "  Batch     240  of      375.    Elapsed: 0:00:05.  Remaining: 0:00:03\n",
            "  Batch     280  of      375.    Elapsed: 0:00:05.  Remaining: 0:00:02\n",
            "  Batch     320  of      375.    Elapsed: 0:00:07.  Remaining: 0:00:01\n",
            "  Batch     360  of      375.    Elapsed: 0:00:07.  Remaining: 0:00:00\n"
          ]
        }
      ]
    },
    {
      "cell_type": "code",
      "metadata": {
        "colab": {
          "base_uri": "https://localhost:8080/"
        },
        "id": "wAjlATBPgh7c",
        "outputId": "d609c93e-a62d-4bca-b5e6-91ac89a1a501"
      },
      "source": [
        "print(classification_report(y_true, y_pred, target_names=class_names))"
      ],
      "execution_count": 228,
      "outputs": [
        {
          "output_type": "stream",
          "name": "stdout",
          "text": [
            "                       precision    recall  f1-score   support\n",
            "\n",
            "        Cyberbullying       0.82      0.79      0.80      2146\n",
            "     Religious_Hatred       0.00      0.00      0.00        57\n",
            "Gender_Discrimination       0.90      0.89      0.89       971\n",
            "              Sarcasm       0.64      0.50      0.56       250\n",
            "            Political       0.88      0.82      0.85       571\n",
            "               Racism       0.76      0.85      0.80      2005\n",
            "\n",
            "             accuracy                           0.81      6000\n",
            "            macro avg       0.67      0.64      0.65      6000\n",
            "         weighted avg       0.80      0.81      0.80      6000\n",
            "\n"
          ]
        },
        {
          "output_type": "stream",
          "name": "stderr",
          "text": [
            "/usr/local/lib/python3.10/dist-packages/sklearn/metrics/_classification.py:1531: UndefinedMetricWarning: Precision is ill-defined and being set to 0.0 in labels with no predicted samples. Use `zero_division` parameter to control this behavior.\n",
            "  _warn_prf(average, modifier, f\"{metric.capitalize()} is\", len(result))\n",
            "/usr/local/lib/python3.10/dist-packages/sklearn/metrics/_classification.py:1531: UndefinedMetricWarning: Precision is ill-defined and being set to 0.0 in labels with no predicted samples. Use `zero_division` parameter to control this behavior.\n",
            "  _warn_prf(average, modifier, f\"{metric.capitalize()} is\", len(result))\n",
            "/usr/local/lib/python3.10/dist-packages/sklearn/metrics/_classification.py:1531: UndefinedMetricWarning: Precision is ill-defined and being set to 0.0 in labels with no predicted samples. Use `zero_division` parameter to control this behavior.\n",
            "  _warn_prf(average, modifier, f\"{metric.capitalize()} is\", len(result))\n"
          ]
        }
      ]
    },
    {
      "cell_type": "code",
      "metadata": {
        "colab": {
          "base_uri": "https://localhost:8080/",
          "height": 534
        },
        "id": "7nELY57NYshD",
        "outputId": "1caea9ad-6a34-496c-cbd8-5264f27eaeb7"
      },
      "source": [
        "cm = confusion_matrix(y_true, y_pred)\n",
        "show_confusion_matrix(cm, class_names)"
      ],
      "execution_count": 229,
      "outputs": [
        {
          "output_type": "display_data",
          "data": {
            "text/plain": [
              "<Figure size 1200x600 with 2 Axes>"
            ],
            "image/png": "[encoded data removed]"
          },
          "metadata": {}
        }
      ]
    },
    {
      "cell_type": "markdown",
      "metadata": {
        "id": "_crczjW6V-QK"
      },
      "source": [
        "## Making Predictions on Test Set"
      ]
    },
    {
      "cell_type": "code",
      "metadata": {
        "id": "lETtjTatLo91"
      },
      "source": [
        "\n",
        "test_df = pd.read_csv('/content/Dataset.xlsx - Sheet1 (3).csv')"
      ],
      "execution_count": 231,
      "outputs": []
    },
    {
      "cell_type": "code",
      "metadata": {
        "id": "d_83fOUwqn0w"
      },
      "source": [
        "test_df"
      ],
      "execution_count": null,
      "outputs": []
    },
    {
      "cell_type": "markdown",
      "metadata": {
        "id": "NjAQaP_na7HN"
      },
      "source": [
        "## Loading `test_sentences`"
      ]
    },
    {
      "cell_type": "code",
      "metadata": {
        "id": "WnnscvKOjl6b"
      },
      "source": [
        "test_sentences = test_df['texts'].values"
      ],
      "execution_count": 232,
      "outputs": []
    },
    {
      "cell_type": "code",
      "metadata": {
        "id": "glrG0ZI4imGN"
      },
      "source": [
        "# max_input_length=128\n",
        "# (py_inputs, py_attn_masks) = make_smart_batches_on_test(test_sentences, batch_size,tokenizer)"
      ],
      "execution_count": 233,
      "outputs": []
    },
    {
      "cell_type": "markdown",
      "metadata": {
        "id": "a4FMxCyZbJaG"
      },
      "source": [
        "## Evaluating accuracy over test set"
      ]
    },
    {
      "cell_type": "code",
      "metadata": {
        "id": "PiuSwCUDiv8p"
      },
      "source": [
        "# y_pred  = get_predictions_test(py_inputs, py_attn_masks)\n"
      ],
      "execution_count": 234,
      "outputs": []
    },
    {
      "cell_type": "code",
      "metadata": {
        "colab": {
          "base_uri": "https://localhost:8080/"
        },
        "id": "cyNSDdXQhL9F",
        "outputId": "8e45179a-279a-4f36-b1e3-e93921c8f8fc"
      },
      "source": [
        "print(y_pred)"
      ],
      "execution_count": 235,
      "outputs": [
        {
          "output_type": "stream",
          "name": "stdout",
          "text": [
            "[0 3 0 ... 0 2 2]\n"
          ]
        }
      ]
    },
    {
      "cell_type": "code",
      "metadata": {
        "colab": {
          "base_uri": "https://localhost:8080/"
        },
        "id": "P2rVvmYVhguG",
        "outputId": "4a8a49b6-1406-4d39-e070-488f1e92cefb"
      },
      "source": [
        "le.inverse_transform(y_pred)"
      ],
      "execution_count": 236,
      "outputs": [
        {
          "output_type": "execute_result",
          "data": {
            "text/plain": [
              "array(['Cyberbullying', 'Racism', 'Cyberbullying', ..., 'Cyberbullying',\n",
              "       'Political', 'Political'], dtype=object)"
            ]
          },
          "metadata": {},
          "execution_count": 236
        }
      ]
    },
    {
      "cell_type": "code",
      "metadata": {
        "colab": {
          "base_uri": "https://localhost:8080/",
          "height": 465
        },
        "id": "CYN9Z8gAhrMy",
        "outputId": "bf1c5b02-3229-48da-b1ef-43bc157ee5f5"
      },
      "source": [
        "sns.countplot(y =le.inverse_transform(y_pred))"
      ],
      "execution_count": 237,
      "outputs": [
        {
          "output_type": "execute_result",
          "data": {
            "text/plain": [
              "<Axes: xlabel='count'>"
            ]
          },
          "metadata": {},
          "execution_count": 237
        },
        {
          "output_type": "display_data",
          "data": {
            "text/plain": [
              "<Figure size 1200x600 with 1 Axes>"
            ],
            "image/png": "[encoded data removed]"
          },
          "metadata": {}
        }
      ]
    },
    {
      "cell_type": "markdown",
      "metadata": {
        "id": "g_4psqFBQcsE"
      },
      "source": [
        "## Saving the model"
      ]
    },
    {
      "cell_type": "code",
      "metadata": {
        "id": "13k7n2huQcsH"
      },
      "source": [
        "#torch.save(model,\"./drive/MyDrive/Codalab/Offensive Language Identification/Models/BERTForSequenceClassification_Multilingual_Tamil_v1\")"
      ],
      "execution_count": 239,
      "outputs": []
    },
    {
      "cell_type": "markdown",
      "metadata": {
        "id": "a9M_91z1yj0F"
      },
      "source": [
        "## Loading the model"
      ]
    },
    {
      "cell_type": "code",
      "metadata": {
        "id": "42ObCUU1QcsJ",
        "colab": {
          "base_uri": "https://localhost:8080/",
          "height": 376
        },
        "outputId": "5c77c7ae-405b-4570-c8c3-a8e4a5257a55"
      },
      "source": [
        "model = torch.load('./drive/MyDrive/Codalab/Offensive Language Identification/Models/BERTForSequenceClassification_Multilingual_Tamil_v1',map_location=device)"
      ],
      "execution_count": 241,
      "outputs": [
        {
          "output_type": "stream",
          "name": "stderr",
          "text": [
            "<ipython-input-241-427b6edeb4c2>:1: FutureWarning: You are using `torch.load` with `weights_only=False` (the current default value), which uses the default pickle module implicitly. It is possible to construct malicious pickle data which will execute arbitrary code during unpickling (See https://github.com/pytorch/pytorch/blob/main/SECURITY.md#untrusted-models for more details). In a future release, the default value for `weights_only` will be flipped to `True`. This limits the functions that could be executed during unpickling. Arbitrary objects will no longer be allowed to be loaded via this mode unless they are explicitly allowlisted by the user via `torch.serialization.add_safe_globals`. We recommend you start setting `weights_only=True` for any use case where you don't have full control of the loaded file. Please open an issue on GitHub for any issues related to this experimental feature.\n",
            "  model = torch.load('./drive/MyDrive/Codalab/Offensive Language Identification/Models/BERTForSequenceClassification_Multilingual_Tamil_v1',map_location=device)\n"
          ]
        },
        {
          "output_type": "error",
          "ename": "FileNotFoundError",
          "evalue": "[Errno 2] No such file or directory: './drive/MyDrive/Codalab/Offensive Language Identification/Models/BERTForSequenceClassification_Multilingual_Tamil_v1'",
          "traceback": [
            "\u001b[0;31m---------------------------------------------------------------------------\u001b[0m",
            "\u001b[0;31mFileNotFoundError\u001b[0m                         Traceback (most recent call last)",
            "\u001b[0;32m<ipython-input-241-427b6edeb4c2>\u001b[0m in \u001b[0;36m<cell line: 1>\u001b[0;34m()\u001b[0m\n\u001b[0;32m----> 1\u001b[0;31m \u001b[0mmodel\u001b[0m \u001b[0;34m=\u001b[0m \u001b[0mtorch\u001b[0m\u001b[0;34m.\u001b[0m\u001b[0mload\u001b[0m\u001b[0;34m(\u001b[0m\u001b[0;34m'./drive/MyDrive/Codalab/Offensive Language Identification/Models/BERTForSequenceClassification_Multilingual_Tamil_v1'\u001b[0m\u001b[0;34m,\u001b[0m\u001b[0mmap_location\u001b[0m\u001b[0;34m=\u001b[0m\u001b[0mdevice\u001b[0m\u001b[0;34m)\u001b[0m\u001b[0;34m\u001b[0m\u001b[0;34m\u001b[0m\u001b[0m\n\u001b[0m",
            "\u001b[0;32m/usr/local/lib/python3.10/dist-packages/torch/serialization.py\u001b[0m in \u001b[0;36mload\u001b[0;34m(f, map_location, pickle_module, weights_only, mmap, **pickle_load_args)\u001b[0m\n\u001b[1;32m   1317\u001b[0m         \u001b[0mpickle_load_args\u001b[0m\u001b[0;34m[\u001b[0m\u001b[0;34m\"encoding\"\u001b[0m\u001b[0;34m]\u001b[0m \u001b[0;34m=\u001b[0m \u001b[0;34m\"utf-8\"\u001b[0m\u001b[0;34m\u001b[0m\u001b[0;34m\u001b[0m\u001b[0m\n\u001b[1;32m   1318\u001b[0m \u001b[0;34m\u001b[0m\u001b[0m\n\u001b[0;32m-> 1319\u001b[0;31m     \u001b[0;32mwith\u001b[0m \u001b[0m_open_file_like\u001b[0m\u001b[0;34m(\u001b[0m\u001b[0mf\u001b[0m\u001b[0;34m,\u001b[0m \u001b[0;34m\"rb\"\u001b[0m\u001b[0;34m)\u001b[0m \u001b[0;32mas\u001b[0m \u001b[0mopened_file\u001b[0m\u001b[0;34m:\u001b[0m\u001b[0;34m\u001b[0m\u001b[0;34m\u001b[0m\u001b[0m\n\u001b[0m\u001b[1;32m   1320\u001b[0m         \u001b[0;32mif\u001b[0m \u001b[0m_is_zipfile\u001b[0m\u001b[0;34m(\u001b[0m\u001b[0mopened_file\u001b[0m\u001b[0;34m)\u001b[0m\u001b[0;34m:\u001b[0m\u001b[0;34m\u001b[0m\u001b[0;34m\u001b[0m\u001b[0m\n\u001b[1;32m   1321\u001b[0m             \u001b[0;31m# The zipfile reader is going to advance the current file position.\u001b[0m\u001b[0;34m\u001b[0m\u001b[0;34m\u001b[0m\u001b[0m\n",
            "\u001b[0;32m/usr/local/lib/python3.10/dist-packages/torch/serialization.py\u001b[0m in \u001b[0;36m_open_file_like\u001b[0;34m(name_or_buffer, mode)\u001b[0m\n\u001b[1;32m    657\u001b[0m \u001b[0;32mdef\u001b[0m \u001b[0m_open_file_like\u001b[0m\u001b[0;34m(\u001b[0m\u001b[0mname_or_buffer\u001b[0m\u001b[0;34m,\u001b[0m \u001b[0mmode\u001b[0m\u001b[0;34m)\u001b[0m\u001b[0;34m:\u001b[0m\u001b[0;34m\u001b[0m\u001b[0;34m\u001b[0m\u001b[0m\n\u001b[1;32m    658\u001b[0m     \u001b[0;32mif\u001b[0m \u001b[0m_is_path\u001b[0m\u001b[0;34m(\u001b[0m\u001b[0mname_or_buffer\u001b[0m\u001b[0;34m)\u001b[0m\u001b[0;34m:\u001b[0m\u001b[0;34m\u001b[0m\u001b[0;34m\u001b[0m\u001b[0m\n\u001b[0;32m--> 659\u001b[0;31m         \u001b[0;32mreturn\u001b[0m \u001b[0m_open_file\u001b[0m\u001b[0;34m(\u001b[0m\u001b[0mname_or_buffer\u001b[0m\u001b[0;34m,\u001b[0m \u001b[0mmode\u001b[0m\u001b[0;34m)\u001b[0m\u001b[0;34m\u001b[0m\u001b[0;34m\u001b[0m\u001b[0m\n\u001b[0m\u001b[1;32m    660\u001b[0m     \u001b[0;32melse\u001b[0m\u001b[0;34m:\u001b[0m\u001b[0;34m\u001b[0m\u001b[0;34m\u001b[0m\u001b[0m\n\u001b[1;32m    661\u001b[0m         \u001b[0;32mif\u001b[0m \u001b[0;34m\"w\"\u001b[0m \u001b[0;32min\u001b[0m \u001b[0mmode\u001b[0m\u001b[0;34m:\u001b[0m\u001b[0;34m\u001b[0m\u001b[0;34m\u001b[0m\u001b[0m\n",
            "\u001b[0;32m/usr/local/lib/python3.10/dist-packages/torch/serialization.py\u001b[0m in \u001b[0;36m__init__\u001b[0;34m(self, name, mode)\u001b[0m\n\u001b[1;32m    638\u001b[0m \u001b[0;32mclass\u001b[0m \u001b[0m_open_file\u001b[0m\u001b[0;34m(\u001b[0m\u001b[0m_opener\u001b[0m\u001b[0;34m)\u001b[0m\u001b[0;34m:\u001b[0m\u001b[0;34m\u001b[0m\u001b[0;34m\u001b[0m\u001b[0m\n\u001b[1;32m    639\u001b[0m     \u001b[0;32mdef\u001b[0m \u001b[0m__init__\u001b[0m\u001b[0;34m(\u001b[0m\u001b[0mself\u001b[0m\u001b[0;34m,\u001b[0m \u001b[0mname\u001b[0m\u001b[0;34m,\u001b[0m \u001b[0mmode\u001b[0m\u001b[0;34m)\u001b[0m\u001b[0;34m:\u001b[0m\u001b[0;34m\u001b[0m\u001b[0;34m\u001b[0m\u001b[0m\n\u001b[0;32m--> 640\u001b[0;31m         \u001b[0msuper\u001b[0m\u001b[0;34m(\u001b[0m\u001b[0;34m)\u001b[0m\u001b[0;34m.\u001b[0m\u001b[0m__init__\u001b[0m\u001b[0;34m(\u001b[0m\u001b[0mopen\u001b[0m\u001b[0;34m(\u001b[0m\u001b[0mname\u001b[0m\u001b[0;34m,\u001b[0m \u001b[0mmode\u001b[0m\u001b[0;34m)\u001b[0m\u001b[0;34m)\u001b[0m\u001b[0;34m\u001b[0m\u001b[0;34m\u001b[0m\u001b[0m\n\u001b[0m\u001b[1;32m    641\u001b[0m \u001b[0;34m\u001b[0m\u001b[0m\n\u001b[1;32m    642\u001b[0m     \u001b[0;32mdef\u001b[0m \u001b[0m__exit__\u001b[0m\u001b[0;34m(\u001b[0m\u001b[0mself\u001b[0m\u001b[0;34m,\u001b[0m \u001b[0;34m*\u001b[0m\u001b[0margs\u001b[0m\u001b[0;34m)\u001b[0m\u001b[0;34m:\u001b[0m\u001b[0;34m\u001b[0m\u001b[0;34m\u001b[0m\u001b[0m\n",
            "\u001b[0;31mFileNotFoundError\u001b[0m: [Errno 2] No such file or directory: './drive/MyDrive/Codalab/Offensive Language Identification/Models/BERTForSequenceClassification_Multilingual_Tamil_v1'"
          ]
        }
      ]
    },
    {
      "cell_type": "code",
      "metadata": {
        "id": "sAaHpZdIzsnT"
      },
      "source": [
        "model.cuda()"
      ],
      "execution_count": null,
      "outputs": []
    },
    {
      "cell_type": "markdown",
      "metadata": {
        "id": "tF9cMcFsQcsN"
      },
      "source": [
        "## Making Predictions on Test Set"
      ]
    },
    {
      "cell_type": "code",
      "metadata": {
        "id": "xEiUHfwcQcsO"
      },
      "source": [
        "# test_df_path = join(dataset_dir,'tamil_offensive_full_test.csv')\n",
        "test_df = pd.read_csv('/content/drive/MyDrive/Colab Notebooks/Shared Tasl/test_data - test_data.csv')"
      ],
      "execution_count": null,
      "outputs": []
    },
    {
      "cell_type": "code",
      "metadata": {
        "id": "55swDrKUQcsP"
      },
      "source": [
        "test_df"
      ],
      "execution_count": null,
      "outputs": []
    },
    {
      "cell_type": "markdown",
      "metadata": {
        "id": "7jLPpljYQcsQ"
      },
      "source": [
        "## Loading `test_sentences`"
      ]
    },
    {
      "cell_type": "code",
      "metadata": {
        "id": "QEVoAhgIQcsR"
      },
      "source": [
        "test_sentences = test_df['text'].values\n",
        "test_ids = test_df.index.values"
      ],
      "execution_count": null,
      "outputs": []
    },
    {
      "cell_type": "code",
      "metadata": {
        "id": "slovGuCRThW1"
      },
      "source": [
        "test_ids"
      ],
      "execution_count": null,
      "outputs": []
    },
    {
      "cell_type": "code",
      "metadata": {
        "id": "gL7aCG2HTjv6"
      },
      "source": [
        "test_sentences"
      ],
      "execution_count": null,
      "outputs": []
    },
    {
      "cell_type": "code",
      "metadata": {
        "id": "b9dgO1m3QcsU"
      },
      "source": [
        "(py_inputs, py_attn_masks,py_ids) = make_smart_batches_on_test(test_sentences,test_ids, 16,tokenizer,max_input_length)"
      ],
      "execution_count": null,
      "outputs": []
    },
    {
      "cell_type": "markdown",
      "metadata": {
        "id": "vjsjqQpRQcsV"
      },
      "source": [
        "## Evaluating accuracy over test set"
      ]
    },
    {
      "cell_type": "code",
      "metadata": {
        "id": "rwkx-30AQcsV"
      },
      "source": [
        "y_ids,y_preds  = get_predictions_test(py_inputs, py_attn_masks,py_ids)\n"
      ],
      "execution_count": null,
      "outputs": []
    },
    {
      "cell_type": "code",
      "metadata": {
        "id": "pDM-cnDHQcsW"
      },
      "source": [
        "print(y_preds)"
      ],
      "execution_count": null,
      "outputs": []
    },
    {
      "cell_type": "code",
      "metadata": {
        "id": "kWWWjz7eUPc7"
      },
      "source": [
        "print(y_ids)"
      ],
      "execution_count": null,
      "outputs": []
    },
    {
      "cell_type": "code",
      "metadata": {
        "id": "u2ybbsAoQcsY"
      },
      "source": [
        "le.inverse_transform(y_preds)"
      ],
      "execution_count": null,
      "outputs": []
    },
    {
      "cell_type": "code",
      "metadata": {
        "id": "kSMb6sCLQcsZ"
      },
      "source": [
        "sns.countplot(y =le.inverse_transform(y_preds))"
      ],
      "execution_count": null,
      "outputs": []
    },
    {
      "cell_type": "code",
      "metadata": {
        "id": "4KXOXwH9U2MT"
      },
      "source": [
        "len(y_ids)"
      ],
      "execution_count": null,
      "outputs": []
    },
    {
      "cell_type": "code",
      "metadata": {
        "id": "9-fkBgOxU4bX"
      },
      "source": [
        "len(le.inverse_transform(y_preds))"
      ],
      "execution_count": null,
      "outputs": []
    },
    {
      "cell_type": "markdown",
      "metadata": {
        "id": "sWPDqogJrjIZ"
      },
      "source": [
        "## Creating Submission DataFrame"
      ]
    },
    {
      "cell_type": "code",
      "metadata": {
        "id": "o4Hb7RD1yHol"
      },
      "source": [
        "\n",
        "\n",
        "df_new = pd.DataFrame({\n",
        "    'id':y_ids,\n",
        "    'labels':le.inverse_transform(y_preds)\n",
        "})"
      ],
      "execution_count": null,
      "outputs": []
    },
    {
      "cell_type": "code",
      "metadata": {
        "id": "twQAkVzcn4Lg"
      },
      "source": [
        "\n",
        "test_df['id'] = test_df.index"
      ],
      "execution_count": null,
      "outputs": []
    },
    {
      "cell_type": "code",
      "metadata": {
        "id": "qov36eWmqawv"
      },
      "source": [
        "df_new"
      ],
      "execution_count": null,
      "outputs": []
    },
    {
      "cell_type": "code",
      "metadata": {
        "id": "z0CEApHmqdLr"
      },
      "source": [
        "test_df"
      ],
      "execution_count": null,
      "outputs": []
    },
    {
      "cell_type": "code",
      "metadata": {
        "id": "vxReWWmxn7Hj"
      },
      "source": [
        "df_f = pd.merge(test_df,df_new,on = 'id')\n",
        "df_f"
      ],
      "execution_count": null,
      "outputs": []
    },
    {
      "cell_type": "code",
      "metadata": {
        "id": "1kuASymYn9aV"
      },
      "source": [
        "df_f = df_f[['Pid','labels']]\n",
        "df_f"
      ],
      "execution_count": null,
      "outputs": []
    },
    {
      "cell_type": "markdown",
      "metadata": {
        "id": "p3FtBVTVroJi"
      },
      "source": [
        "## Saving Submission DataFrame"
      ]
    },
    {
      "cell_type": "code",
      "metadata": {
        "id": "SzoT0p9rqrO-"
      },
      "source": [
        "path = '/content/drive/MyDrive/Colab Notebooks/Shared Tasl'"
      ],
      "execution_count": null,
      "outputs": []
    },
    {
      "cell_type": "code",
      "metadata": {
        "id": "LZmgZFM4qi7F"
      },
      "source": [
        "df_f.to_csv(join(path,'submissin1.csv'),index=False)"
      ],
      "execution_count": null,
      "outputs": []
    },
    {
      "cell_type": "code",
      "metadata": {
        "id": "jW9g_qgMv7mq"
      },
      "source": [],
      "execution_count": null,
      "outputs": []
    }
  ]
}