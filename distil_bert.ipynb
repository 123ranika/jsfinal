{
  "cells": [
    {
      "cell_type": "markdown",
      "metadata": {
        "id": "view-in-github",
        "colab_type": "text"
      },
      "source": [
        "<a href=\"https://colab.research.google.com/github/123ranika/jsfinal/blob/main/distil_bert.ipynb\" target=\"_parent\"><img src=\"https://colab.research.google.com/assets/colab-badge.svg\" alt=\"Open In Colab\"/></a>"
      ]
    },
    {
      "cell_type": "markdown",
      "metadata": {
        "id": "elqe9PQrVH6P"
      },
      "source": [
        "### Performing checks for the resources available"
      ]
    },
    {
      "cell_type": "code",
      "execution_count": 3,
      "metadata": {
        "colab": {
          "base_uri": "https://localhost:8080/"
        },
        "id": "fSELLChxa5su",
        "outputId": "3957dc5f-ca19-4980-e731-e68cac18ab8d"
      },
      "outputs": [
        {
          "output_type": "stream",
          "name": "stdout",
          "text": [
            "There are 1 GPU(s) available.\n",
            "We will use the GPU: Tesla T4\n"
          ]
        }
      ],
      "source": [
        "import torch\n",
        "\n",
        "# If there's a GPU available...\n",
        "if torch.cuda.is_available():\n",
        "\n",
        "    # Tell PyTorch to use the GPU.\n",
        "    device = torch.device(\"cuda\")\n",
        "\n",
        "    print('There are %d GPU(s) available.' % torch.cuda.device_count())\n",
        "\n",
        "    print('We will use the GPU:', torch.cuda.get_device_name(0))\n",
        "\n",
        "# If not...\n",
        "else:\n",
        "    print('No GPU available, using the CPU instead.')\n",
        "    device = torch.device(\"cpu\")"
      ]
    },
    {
      "cell_type": "markdown",
      "metadata": {
        "id": "K-gbOgflVRxg"
      },
      "source": [
        "### Installing huggingface transformers library"
      ]
    },
    {
      "cell_type": "code",
      "execution_count": 4,
      "metadata": {
        "colab": {
          "base_uri": "https://localhost:8080/"
        },
        "id": "DbDuxKy0a9Zl",
        "outputId": "a3f7a317-0288-4b76-ed56-e7f3cec92c3e"
      },
      "outputs": [
        {
          "output_type": "stream",
          "name": "stdout",
          "text": [
            "Requirement already satisfied: transformers in /usr/local/lib/python3.10/dist-packages (4.44.2)\n",
            "Requirement already satisfied: filelock in /usr/local/lib/python3.10/dist-packages (from transformers) (3.16.1)\n",
            "Requirement already satisfied: huggingface-hub<1.0,>=0.23.2 in /usr/local/lib/python3.10/dist-packages (from transformers) (0.24.7)\n",
            "Requirement already satisfied: numpy>=1.17 in /usr/local/lib/python3.10/dist-packages (from transformers) (1.26.4)\n",
            "Requirement already satisfied: packaging>=20.0 in /usr/local/lib/python3.10/dist-packages (from transformers) (24.1)\n",
            "Requirement already satisfied: pyyaml>=5.1 in /usr/local/lib/python3.10/dist-packages (from transformers) (6.0.2)\n",
            "Requirement already satisfied: regex!=2019.12.17 in /usr/local/lib/python3.10/dist-packages (from transformers) (2024.9.11)\n",
            "Requirement already satisfied: requests in /usr/local/lib/python3.10/dist-packages (from transformers) (2.32.3)\n",
            "Requirement already satisfied: safetensors>=0.4.1 in /usr/local/lib/python3.10/dist-packages (from transformers) (0.4.5)\n",
            "Requirement already satisfied: tokenizers<0.20,>=0.19 in /usr/local/lib/python3.10/dist-packages (from transformers) (0.19.1)\n",
            "Requirement already satisfied: tqdm>=4.27 in /usr/local/lib/python3.10/dist-packages (from transformers) (4.66.5)\n",
            "Requirement already satisfied: fsspec>=2023.5.0 in /usr/local/lib/python3.10/dist-packages (from huggingface-hub<1.0,>=0.23.2->transformers) (2024.6.1)\n",
            "Requirement already satisfied: typing-extensions>=3.7.4.3 in /usr/local/lib/python3.10/dist-packages (from huggingface-hub<1.0,>=0.23.2->transformers) (4.12.2)\n",
            "Requirement already satisfied: charset-normalizer<4,>=2 in /usr/local/lib/python3.10/dist-packages (from requests->transformers) (3.4.0)\n",
            "Requirement already satisfied: idna<4,>=2.5 in /usr/local/lib/python3.10/dist-packages (from requests->transformers) (3.10)\n",
            "Requirement already satisfied: urllib3<3,>=1.21.1 in /usr/local/lib/python3.10/dist-packages (from requests->transformers) (2.2.3)\n",
            "Requirement already satisfied: certifi>=2017.4.17 in /usr/local/lib/python3.10/dist-packages (from requests->transformers) (2024.8.30)\n"
          ]
        }
      ],
      "source": [
        "!pip install transformers"
      ]
    },
    {
      "cell_type": "markdown",
      "metadata": {
        "id": "bPwaYLiRSNPC"
      },
      "source": [
        "## Importing necessary packages"
      ]
    },
    {
      "cell_type": "code",
      "execution_count": 5,
      "metadata": {
        "id": "0XdFrhr8SRG0"
      },
      "outputs": [],
      "source": [
        "import pandas as pd\n",
        "import numpy as np\n",
        "import random\n",
        "from sklearn.preprocessing import LabelEncoder\n",
        "from sklearn.utils.class_weight import compute_class_weight\n",
        "import time\n",
        "import datetime\n",
        "from sklearn.metrics import classification_report,confusion_matrix\n",
        "import random\n",
        "import time\n",
        "import torch.nn as nn\n",
        "from transformers import AutoModel , AutoModelForSequenceClassification, AutoConfig , AutoTokenizer , AdamW ,get_linear_schedule_with_warmup\n",
        "import torch\n",
        "import matplotlib.pyplot as plt\n",
        "import seaborn as sns\n",
        "from matplotlib import rc\n",
        "from matplotlib.ticker import MaxNLocator"
      ]
    },
    {
      "cell_type": "markdown",
      "metadata": {
        "id": "dROX3juhVCxC"
      },
      "source": [
        "## Setting some configuration values"
      ]
    },
    {
      "cell_type": "code",
      "execution_count": 6,
      "metadata": {
        "id": "Kzafv4BzVCC9"
      },
      "outputs": [],
      "source": [
        "# Use plot styling from seaborn.\n",
        "sns.set(style='darkgrid')\n",
        "\n",
        "# Increase the plot size and font size.\n",
        "sns.set(font_scale=1.5)\n",
        "plt.rcParams[\"figure.figsize\"] = (16,12)\n",
        "\n",
        "# Set the seed value all over the place to make this reproducible.\n",
        "seed_val = 42\n",
        "\n",
        "random.seed(seed_val)\n",
        "np.random.seed(seed_val)\n"
      ]
    },
    {
      "cell_type": "markdown",
      "metadata": {
        "id": "2v1AIN_OVX4t"
      },
      "source": [
        "## Importing drive into the colaboratory"
      ]
    },
    {
      "cell_type": "code",
      "execution_count": 7,
      "metadata": {
        "id": "Lofimyh2a_tp",
        "colab": {
          "base_uri": "https://localhost:8080/",
          "height": 319
        },
        "outputId": "09066dff-11ab-453e-9cac-c77e9b07aa35"
      },
      "outputs": [
        {
          "output_type": "error",
          "ename": "ValueError",
          "evalue": "mount failed",
          "traceback": [
            "\u001b[0;31m---------------------------------------------------------------------------\u001b[0m",
            "\u001b[0;31mValueError\u001b[0m                                Traceback (most recent call last)",
            "\u001b[0;32m<ipython-input-7-d5df0069828e>\u001b[0m in \u001b[0;36m<cell line: 2>\u001b[0;34m()\u001b[0m\n\u001b[1;32m      1\u001b[0m \u001b[0;32mfrom\u001b[0m \u001b[0mgoogle\u001b[0m\u001b[0;34m.\u001b[0m\u001b[0mcolab\u001b[0m \u001b[0;32mimport\u001b[0m \u001b[0mdrive\u001b[0m\u001b[0;34m\u001b[0m\u001b[0;34m\u001b[0m\u001b[0m\n\u001b[0;32m----> 2\u001b[0;31m \u001b[0mdrive\u001b[0m\u001b[0;34m.\u001b[0m\u001b[0mmount\u001b[0m\u001b[0;34m(\u001b[0m\u001b[0;34m'/content/drive'\u001b[0m\u001b[0;34m)\u001b[0m\u001b[0;34m\u001b[0m\u001b[0;34m\u001b[0m\u001b[0m\n\u001b[0m",
            "\u001b[0;32m/usr/local/lib/python3.10/dist-packages/google/colab/drive.py\u001b[0m in \u001b[0;36mmount\u001b[0;34m(mountpoint, force_remount, timeout_ms, readonly)\u001b[0m\n\u001b[1;32m     98\u001b[0m \u001b[0;32mdef\u001b[0m \u001b[0mmount\u001b[0m\u001b[0;34m(\u001b[0m\u001b[0mmountpoint\u001b[0m\u001b[0;34m,\u001b[0m \u001b[0mforce_remount\u001b[0m\u001b[0;34m=\u001b[0m\u001b[0;32mFalse\u001b[0m\u001b[0;34m,\u001b[0m \u001b[0mtimeout_ms\u001b[0m\u001b[0;34m=\u001b[0m\u001b[0;36m120000\u001b[0m\u001b[0;34m,\u001b[0m \u001b[0mreadonly\u001b[0m\u001b[0;34m=\u001b[0m\u001b[0;32mFalse\u001b[0m\u001b[0;34m)\u001b[0m\u001b[0;34m:\u001b[0m\u001b[0;34m\u001b[0m\u001b[0;34m\u001b[0m\u001b[0m\n\u001b[1;32m     99\u001b[0m   \u001b[0;34m\"\"\"Mount your Google Drive at the specified mountpoint path.\"\"\"\u001b[0m\u001b[0;34m\u001b[0m\u001b[0;34m\u001b[0m\u001b[0m\n\u001b[0;32m--> 100\u001b[0;31m   return _mount(\n\u001b[0m\u001b[1;32m    101\u001b[0m       \u001b[0mmountpoint\u001b[0m\u001b[0;34m,\u001b[0m\u001b[0;34m\u001b[0m\u001b[0;34m\u001b[0m\u001b[0m\n\u001b[1;32m    102\u001b[0m       \u001b[0mforce_remount\u001b[0m\u001b[0;34m=\u001b[0m\u001b[0mforce_remount\u001b[0m\u001b[0;34m,\u001b[0m\u001b[0;34m\u001b[0m\u001b[0;34m\u001b[0m\u001b[0m\n",
            "\u001b[0;32m/usr/local/lib/python3.10/dist-packages/google/colab/drive.py\u001b[0m in \u001b[0;36m_mount\u001b[0;34m(mountpoint, force_remount, timeout_ms, ephemeral, readonly)\u001b[0m\n\u001b[1;32m    275\u001b[0m             \u001b[0;34m'https://research.google.com/colaboratory/faq.html#drive-timeout'\u001b[0m\u001b[0;34m\u001b[0m\u001b[0;34m\u001b[0m\u001b[0m\n\u001b[1;32m    276\u001b[0m         )\n\u001b[0;32m--> 277\u001b[0;31m       \u001b[0;32mraise\u001b[0m \u001b[0mValueError\u001b[0m\u001b[0;34m(\u001b[0m\u001b[0;34m'mount failed'\u001b[0m \u001b[0;34m+\u001b[0m \u001b[0mextra_reason\u001b[0m\u001b[0;34m)\u001b[0m\u001b[0;34m\u001b[0m\u001b[0;34m\u001b[0m\u001b[0m\n\u001b[0m\u001b[1;32m    278\u001b[0m     \u001b[0;32melif\u001b[0m \u001b[0mcase\u001b[0m \u001b[0;34m==\u001b[0m \u001b[0;36m4\u001b[0m\u001b[0;34m:\u001b[0m\u001b[0;34m\u001b[0m\u001b[0;34m\u001b[0m\u001b[0m\n\u001b[1;32m    279\u001b[0m       \u001b[0;31m# Terminate the DriveFS binary before killing bash.\u001b[0m\u001b[0;34m\u001b[0m\u001b[0;34m\u001b[0m\u001b[0m\n",
            "\u001b[0;31mValueError\u001b[0m: mount failed"
          ]
        }
      ],
      "source": [
        "from google.colab import drive\n",
        "drive.mount('/content/drive')"
      ]
    },
    {
      "cell_type": "markdown",
      "metadata": {
        "id": "FUPkZxjLVjLK"
      },
      "source": [
        "## Loading training data"
      ]
    },
    {
      "cell_type": "code",
      "source": [
        "import pandas as pd\n",
        "\n",
        "# Attempt to read the file with ISO-8859-1 encoding\n",
        "data = pd.read_excel('/content/drive/MyDrive/MulticlassTransformer/DOoo/DataSetCollection.xlsx')\n"
      ],
      "metadata": {
        "id": "TuUwOEmLrAM8"
      },
      "execution_count": null,
      "outputs": []
    },
    {
      "cell_type": "code",
      "source": [
        "# Add an ID column starting from 1\n",
        "data['PID'] = range(1, len(data) + 1)"
      ],
      "metadata": {
        "id": "wON2DKD8rHv0"
      },
      "execution_count": null,
      "outputs": []
    },
    {
      "cell_type": "code",
      "source": [
        "data.head()"
      ],
      "metadata": {
        "colab": {
          "base_uri": "https://localhost:8080/",
          "height": 206
        },
        "id": "6gV0w5zyrVBc",
        "outputId": "d7eb8896-53e1-42eb-9064-00b9adf46701"
      },
      "execution_count": null,
      "outputs": [
        {
          "output_type": "execute_result",
          "data": {
            "text/plain": [
              "   PID                                               text            labels  \\\n",
              "0    1  মেধাবী শিক্ষার্থীরাই মা বাবাকে বিদ্যাস্রমে পাটাবে     Cyberbullying   \n",
              "1    2  চিরিয়া খানার এই অদ্ভুত প্রাণী গুলারে রাস্তায়...     Cyberbullying   \n",
              "2    3        শরীর বিক্রি করে পয়সা কামাই করে৷ আবার ভাব কি     Cyberbullying   \n",
              "3    4                              এটা কি আমাদের ধর্মজাল  Religious Hatred   \n",
              "4    5           বেডি আসার আগে দাঁত মাজতে ভুলে গেছে বুঝি।     Cyberbullying   \n",
              "\n",
              "  Unnamed: 3  \n",
              "0        NaN  \n",
              "1        NaN  \n",
              "2        NaN  \n",
              "3        NaN  \n",
              "4        NaN  "
            ],
            "text/html": [
              "\n",
              "  <div id=\"df-90fe2795-b4fa-4525-bb45-3d7c038ac628\" class=\"colab-df-container\">\n",
              "    <div>\n",
              "<style scoped>\n",
              "    .dataframe tbody tr th:only-of-type {\n",
              "        vertical-align: middle;\n",
              "    }\n",
              "\n",
              "    .dataframe tbody tr th {\n",
              "        vertical-align: top;\n",
              "    }\n",
              "\n",
              "    .dataframe thead th {\n",
              "        text-align: right;\n",
              "    }\n",
              "</style>\n",
              "<table border=\"1\" class=\"dataframe\">\n",
              "  <thead>\n",
              "    <tr style=\"text-align: right;\">\n",
              "      <th></th>\n",
              "      <th>PID</th>\n",
              "      <th>text</th>\n",
              "      <th>labels</th>\n",
              "      <th>Unnamed: 3</th>\n",
              "    </tr>\n",
              "  </thead>\n",
              "  <tbody>\n",
              "    <tr>\n",
              "      <th>0</th>\n",
              "      <td>1</td>\n",
              "      <td>মেধাবী শিক্ষার্থীরাই মা বাবাকে বিদ্যাস্রমে পাটাবে</td>\n",
              "      <td>Cyberbullying</td>\n",
              "      <td>NaN</td>\n",
              "    </tr>\n",
              "    <tr>\n",
              "      <th>1</th>\n",
              "      <td>2</td>\n",
              "      <td>চিরিয়া খানার এই অদ্ভুত প্রাণী গুলারে রাস্তায়...</td>\n",
              "      <td>Cyberbullying</td>\n",
              "      <td>NaN</td>\n",
              "    </tr>\n",
              "    <tr>\n",
              "      <th>2</th>\n",
              "      <td>3</td>\n",
              "      <td>শরীর বিক্রি করে পয়সা কামাই করে৷ আবার ভাব কি</td>\n",
              "      <td>Cyberbullying</td>\n",
              "      <td>NaN</td>\n",
              "    </tr>\n",
              "    <tr>\n",
              "      <th>3</th>\n",
              "      <td>4</td>\n",
              "      <td>এটা কি আমাদের ধর্মজাল</td>\n",
              "      <td>Religious Hatred</td>\n",
              "      <td>NaN</td>\n",
              "    </tr>\n",
              "    <tr>\n",
              "      <th>4</th>\n",
              "      <td>5</td>\n",
              "      <td>বেডি আসার আগে দাঁত মাজতে ভুলে গেছে বুঝি।</td>\n",
              "      <td>Cyberbullying</td>\n",
              "      <td>NaN</td>\n",
              "    </tr>\n",
              "  </tbody>\n",
              "</table>\n",
              "</div>\n",
              "    <div class=\"colab-df-buttons\">\n",
              "\n",
              "  <div class=\"colab-df-container\">\n",
              "    <button class=\"colab-df-convert\" onclick=\"convertToInteractive('df-90fe2795-b4fa-4525-bb45-3d7c038ac628')\"\n",
              "            title=\"Convert this dataframe to an interactive table.\"\n",
              "            style=\"display:none;\">\n",
              "\n",
              "  <svg xmlns=\"http://www.w3.org/2000/svg\" height=\"24px\" viewBox=\"0 -960 960 960\">\n",
              "    <path d=\"M120-120v-720h720v720H120Zm60-500h600v-160H180v160Zm220 220h160v-160H400v160Zm0 220h160v-160H400v160ZM180-400h160v-160H180v160Zm440 0h160v-160H620v160ZM180-180h160v-160H180v160Zm440 0h160v-160H620v160Z\"/>\n",
              "  </svg>\n",
              "    </button>\n",
              "\n",
              "  <style>\n",
              "    .colab-df-container {\n",
              "      display:flex;\n",
              "      gap: 12px;\n",
              "    }\n",
              "\n",
              "    .colab-df-convert {\n",
              "      background-color: #E8F0FE;\n",
              "      border: none;\n",
              "      border-radius: 50%;\n",
              "      cursor: pointer;\n",
              "      display: none;\n",
              "      fill: #1967D2;\n",
              "      height: 32px;\n",
              "      padding: 0 0 0 0;\n",
              "      width: 32px;\n",
              "    }\n",
              "\n",
              "    .colab-df-convert:hover {\n",
              "      background-color: #E2EBFA;\n",
              "      box-shadow: 0px 1px 2px rgba(60, 64, 67, 0.3), 0px 1px 3px 1px rgba(60, 64, 67, 0.15);\n",
              "      fill: #174EA6;\n",
              "    }\n",
              "\n",
              "    .colab-df-buttons div {\n",
              "      margin-bottom: 4px;\n",
              "    }\n",
              "\n",
              "    [theme=dark] .colab-df-convert {\n",
              "      background-color: #3B4455;\n",
              "      fill: #D2E3FC;\n",
              "    }\n",
              "\n",
              "    [theme=dark] .colab-df-convert:hover {\n",
              "      background-color: #434B5C;\n",
              "      box-shadow: 0px 1px 3px 1px rgba(0, 0, 0, 0.15);\n",
              "      filter: drop-shadow(0px 1px 2px rgba(0, 0, 0, 0.3));\n",
              "      fill: #FFFFFF;\n",
              "    }\n",
              "  </style>\n",
              "\n",
              "    <script>\n",
              "      const buttonEl =\n",
              "        document.querySelector('#df-90fe2795-b4fa-4525-bb45-3d7c038ac628 button.colab-df-convert');\n",
              "      buttonEl.style.display =\n",
              "        google.colab.kernel.accessAllowed ? 'block' : 'none';\n",
              "\n",
              "      async function convertToInteractive(key) {\n",
              "        const element = document.querySelector('#df-90fe2795-b4fa-4525-bb45-3d7c038ac628');\n",
              "        const dataTable =\n",
              "          await google.colab.kernel.invokeFunction('convertToInteractive',\n",
              "                                                    [key], {});\n",
              "        if (!dataTable) return;\n",
              "\n",
              "        const docLinkHtml = 'Like what you see? Visit the ' +\n",
              "          '<a target=\"_blank\" href=https://colab.research.google.com/notebooks/data_table.ipynb>data table notebook</a>'\n",
              "          + ' to learn more about interactive tables.';\n",
              "        element.innerHTML = '';\n",
              "        dataTable['output_type'] = 'display_data';\n",
              "        await google.colab.output.renderOutput(dataTable, element);\n",
              "        const docLink = document.createElement('div');\n",
              "        docLink.innerHTML = docLinkHtml;\n",
              "        element.appendChild(docLink);\n",
              "      }\n",
              "    </script>\n",
              "  </div>\n",
              "\n",
              "\n",
              "<div id=\"df-22ba7530-441b-4355-884a-8a5921bd0193\">\n",
              "  <button class=\"colab-df-quickchart\" onclick=\"quickchart('df-22ba7530-441b-4355-884a-8a5921bd0193')\"\n",
              "            title=\"Suggest charts\"\n",
              "            style=\"display:none;\">\n",
              "\n",
              "<svg xmlns=\"http://www.w3.org/2000/svg\" height=\"24px\"viewBox=\"0 0 24 24\"\n",
              "     width=\"24px\">\n",
              "    <g>\n",
              "        <path d=\"M19 3H5c-1.1 0-2 .9-2 2v14c0 1.1.9 2 2 2h14c1.1 0 2-.9 2-2V5c0-1.1-.9-2-2-2zM9 17H7v-7h2v7zm4 0h-2V7h2v10zm4 0h-2v-4h2v4z\"/>\n",
              "    </g>\n",
              "</svg>\n",
              "  </button>\n",
              "\n",
              "<style>\n",
              "  .colab-df-quickchart {\n",
              "      --bg-color: #E8F0FE;\n",
              "      --fill-color: #1967D2;\n",
              "      --hover-bg-color: #E2EBFA;\n",
              "      --hover-fill-color: #174EA6;\n",
              "      --disabled-fill-color: #AAA;\n",
              "      --disabled-bg-color: #DDD;\n",
              "  }\n",
              "\n",
              "  [theme=dark] .colab-df-quickchart {\n",
              "      --bg-color: #3B4455;\n",
              "      --fill-color: #D2E3FC;\n",
              "      --hover-bg-color: #434B5C;\n",
              "      --hover-fill-color: #FFFFFF;\n",
              "      --disabled-bg-color: #3B4455;\n",
              "      --disabled-fill-color: #666;\n",
              "  }\n",
              "\n",
              "  .colab-df-quickchart {\n",
              "    background-color: var(--bg-color);\n",
              "    border: none;\n",
              "    border-radius: 50%;\n",
              "    cursor: pointer;\n",
              "    display: none;\n",
              "    fill: var(--fill-color);\n",
              "    height: 32px;\n",
              "    padding: 0;\n",
              "    width: 32px;\n",
              "  }\n",
              "\n",
              "  .colab-df-quickchart:hover {\n",
              "    background-color: var(--hover-bg-color);\n",
              "    box-shadow: 0 1px 2px rgba(60, 64, 67, 0.3), 0 1px 3px 1px rgba(60, 64, 67, 0.15);\n",
              "    fill: var(--button-hover-fill-color);\n",
              "  }\n",
              "\n",
              "  .colab-df-quickchart-complete:disabled,\n",
              "  .colab-df-quickchart-complete:disabled:hover {\n",
              "    background-color: var(--disabled-bg-color);\n",
              "    fill: var(--disabled-fill-color);\n",
              "    box-shadow: none;\n",
              "  }\n",
              "\n",
              "  .colab-df-spinner {\n",
              "    border: 2px solid var(--fill-color);\n",
              "    border-color: transparent;\n",
              "    border-bottom-color: var(--fill-color);\n",
              "    animation:\n",
              "      spin 1s steps(1) infinite;\n",
              "  }\n",
              "\n",
              "  @keyframes spin {\n",
              "    0% {\n",
              "      border-color: transparent;\n",
              "      border-bottom-color: var(--fill-color);\n",
              "      border-left-color: var(--fill-color);\n",
              "    }\n",
              "    20% {\n",
              "      border-color: transparent;\n",
              "      border-left-color: var(--fill-color);\n",
              "      border-top-color: var(--fill-color);\n",
              "    }\n",
              "    30% {\n",
              "      border-color: transparent;\n",
              "      border-left-color: var(--fill-color);\n",
              "      border-top-color: var(--fill-color);\n",
              "      border-right-color: var(--fill-color);\n",
              "    }\n",
              "    40% {\n",
              "      border-color: transparent;\n",
              "      border-right-color: var(--fill-color);\n",
              "      border-top-color: var(--fill-color);\n",
              "    }\n",
              "    60% {\n",
              "      border-color: transparent;\n",
              "      border-right-color: var(--fill-color);\n",
              "    }\n",
              "    80% {\n",
              "      border-color: transparent;\n",
              "      border-right-color: var(--fill-color);\n",
              "      border-bottom-color: var(--fill-color);\n",
              "    }\n",
              "    90% {\n",
              "      border-color: transparent;\n",
              "      border-bottom-color: var(--fill-color);\n",
              "    }\n",
              "  }\n",
              "</style>\n",
              "\n",
              "  <script>\n",
              "    async function quickchart(key) {\n",
              "      const quickchartButtonEl =\n",
              "        document.querySelector('#' + key + ' button');\n",
              "      quickchartButtonEl.disabled = true;  // To prevent multiple clicks.\n",
              "      quickchartButtonEl.classList.add('colab-df-spinner');\n",
              "      try {\n",
              "        const charts = await google.colab.kernel.invokeFunction(\n",
              "            'suggestCharts', [key], {});\n",
              "      } catch (error) {\n",
              "        console.error('Error during call to suggestCharts:', error);\n",
              "      }\n",
              "      quickchartButtonEl.classList.remove('colab-df-spinner');\n",
              "      quickchartButtonEl.classList.add('colab-df-quickchart-complete');\n",
              "    }\n",
              "    (() => {\n",
              "      let quickchartButtonEl =\n",
              "        document.querySelector('#df-22ba7530-441b-4355-884a-8a5921bd0193 button');\n",
              "      quickchartButtonEl.style.display =\n",
              "        google.colab.kernel.accessAllowed ? 'block' : 'none';\n",
              "    })();\n",
              "  </script>\n",
              "</div>\n",
              "\n",
              "    </div>\n",
              "  </div>\n"
            ],
            "application/vnd.google.colaboratory.intrinsic+json": {
              "type": "dataframe",
              "variable_name": "data",
              "summary": "{\n  \"name\": \"data\",\n  \"rows\": 9250,\n  \"fields\": [\n    {\n      \"column\": \"PID\",\n      \"properties\": {\n        \"dtype\": \"number\",\n        \"std\": 2670,\n        \"min\": 1,\n        \"max\": 9250,\n        \"num_unique_values\": 9250,\n        \"samples\": [\n          587,\n          2474,\n          7146\n        ],\n        \"semantic_type\": \"\",\n        \"description\": \"\"\n      }\n    },\n    {\n      \"column\": \"text\",\n      \"properties\": {\n        \"dtype\": \"string\",\n        \"num_unique_values\": 8896,\n        \"samples\": [\n          \"\\u09a4\\u09cb\\u09a6\\u09c7\\u09b0 \\u09a7\\u09b0\\u09cd\\u09ae \\u09ae\\u09be\\u09a8\\u09c7 \\u09b8\\u09ac \\u09b8\\u09a8\\u09cd\\u09a4\\u09cd\\u09b0\\u09be\\u09b8\\u09c0\\u0964\",\n          \"\\u09ac\\u09b0\\u09cd\\u09a4\\u09ae\\u09be\\u09a8 \\u09b8\\u09cd\\u09ac\\u09c8\\u09b0\\u09b6\\u09be\\u09b8\\u0995 \\u0995\\u09cb\\u099f\\u09be \\u09b8\\u09b0\\u0995\\u09be\\u09b0 \\u0995\\u09c7 \\u098f\\u0987 \\u09b8\\u09ac\\u09c7\\u09b0 \\u09a6\\u09be\\u09df \\u09a8\\u09bf\\u09a4\\u09c7 \\u09b9\\u09ac\\u09c7\\u0964\",\n          \"\\u09ae\\u09be \\u0998\\u09c1\\u09b0\\u09c7 \\u0997\\u09cb\\u09b2\\u09bf \\u0997\\u09cb\\u09b2\\u09bf \\u09ae\\u09c7\\u09af\\u09bc\\u09c7 \\u09b9\\u09af\\u09bc\\u09c7\\u099b\\u09c7 \\u0986\\u09a8\\u09be\\u09b0\\u0995\\u09b2\\u09bf\"\n        ],\n        \"semantic_type\": \"\",\n        \"description\": \"\"\n      }\n    },\n    {\n      \"column\": \"labels\",\n      \"properties\": {\n        \"dtype\": \"category\",\n        \"num_unique_values\": 6,\n        \"samples\": [\n          \"Cyberbullying\",\n          \"Religious Hatred\",\n          \"Racism\"\n        ],\n        \"semantic_type\": \"\",\n        \"description\": \"\"\n      }\n    },\n    {\n      \"column\": \"Unnamed: 3\",\n      \"properties\": {\n        \"dtype\": \"category\",\n        \"num_unique_values\": 1,\n        \"samples\": [\n          \" \"\n        ],\n        \"semantic_type\": \"\",\n        \"description\": \"\"\n      }\n    }\n  ]\n}"
            }
          },
          "metadata": {},
          "execution_count": 199
        }
      ]
    },
    {
      "cell_type": "code",
      "source": [
        "import pandas as pd\n",
        "\n",
        "# Function to rename a single column\n",
        "def change_column_name(df, old_name, new_name):\n",
        "    df = df.rename(columns={old_name: new_name})\n",
        "    return df\n",
        "\n",
        "# Assuming df is your DataFrame\n",
        "data = change_column_name(data, old_name=\"Label\", new_name=\"labels\")\n",
        "data = change_column_name(data, old_name=\"Comments\", new_name=\"text\")\n",
        "data.head() # Display the first few rows of the DataFrame\n",
        "#text\n",
        "\n",
        "\n",
        "# Move the ID column to the first position\n",
        "cols = ['PID'] + [col for col in data.columns if col != 'PID']\n",
        "data = data[cols]\n",
        "\n",
        "data.head()"
      ],
      "metadata": {
        "colab": {
          "base_uri": "https://localhost:8080/",
          "height": 206
        },
        "id": "iNn7M6D0rnsE",
        "outputId": "cca679d2-0a90-44f6-ac71-986bfae33360"
      },
      "execution_count": null,
      "outputs": [
        {
          "output_type": "execute_result",
          "data": {
            "text/plain": [
              "   PID                                               text            labels  \\\n",
              "0    1  মেধাবী শিক্ষার্থীরাই মা বাবাকে বিদ্যাস্রমে পাটাবে     Cyberbullying   \n",
              "1    2  চিরিয়া খানার এই অদ্ভুত প্রাণী গুলারে রাস্তায়...     Cyberbullying   \n",
              "2    3        শরীর বিক্রি করে পয়সা কামাই করে৷ আবার ভাব কি     Cyberbullying   \n",
              "3    4                              এটা কি আমাদের ধর্মজাল  Religious Hatred   \n",
              "4    5           বেডি আসার আগে দাঁত মাজতে ভুলে গেছে বুঝি।     Cyberbullying   \n",
              "\n",
              "  Unnamed: 3  \n",
              "0        NaN  \n",
              "1        NaN  \n",
              "2        NaN  \n",
              "3        NaN  \n",
              "4        NaN  "
            ],
            "text/html": [
              "\n",
              "  <div id=\"df-797e7d9e-0b25-4e15-9097-e4868b240f8c\" class=\"colab-df-container\">\n",
              "    <div>\n",
              "<style scoped>\n",
              "    .dataframe tbody tr th:only-of-type {\n",
              "        vertical-align: middle;\n",
              "    }\n",
              "\n",
              "    .dataframe tbody tr th {\n",
              "        vertical-align: top;\n",
              "    }\n",
              "\n",
              "    .dataframe thead th {\n",
              "        text-align: right;\n",
              "    }\n",
              "</style>\n",
              "<table border=\"1\" class=\"dataframe\">\n",
              "  <thead>\n",
              "    <tr style=\"text-align: right;\">\n",
              "      <th></th>\n",
              "      <th>PID</th>\n",
              "      <th>text</th>\n",
              "      <th>labels</th>\n",
              "      <th>Unnamed: 3</th>\n",
              "    </tr>\n",
              "  </thead>\n",
              "  <tbody>\n",
              "    <tr>\n",
              "      <th>0</th>\n",
              "      <td>1</td>\n",
              "      <td>মেধাবী শিক্ষার্থীরাই মা বাবাকে বিদ্যাস্রমে পাটাবে</td>\n",
              "      <td>Cyberbullying</td>\n",
              "      <td>NaN</td>\n",
              "    </tr>\n",
              "    <tr>\n",
              "      <th>1</th>\n",
              "      <td>2</td>\n",
              "      <td>চিরিয়া খানার এই অদ্ভুত প্রাণী গুলারে রাস্তায়...</td>\n",
              "      <td>Cyberbullying</td>\n",
              "      <td>NaN</td>\n",
              "    </tr>\n",
              "    <tr>\n",
              "      <th>2</th>\n",
              "      <td>3</td>\n",
              "      <td>শরীর বিক্রি করে পয়সা কামাই করে৷ আবার ভাব কি</td>\n",
              "      <td>Cyberbullying</td>\n",
              "      <td>NaN</td>\n",
              "    </tr>\n",
              "    <tr>\n",
              "      <th>3</th>\n",
              "      <td>4</td>\n",
              "      <td>এটা কি আমাদের ধর্মজাল</td>\n",
              "      <td>Religious Hatred</td>\n",
              "      <td>NaN</td>\n",
              "    </tr>\n",
              "    <tr>\n",
              "      <th>4</th>\n",
              "      <td>5</td>\n",
              "      <td>বেডি আসার আগে দাঁত মাজতে ভুলে গেছে বুঝি।</td>\n",
              "      <td>Cyberbullying</td>\n",
              "      <td>NaN</td>\n",
              "    </tr>\n",
              "  </tbody>\n",
              "</table>\n",
              "</div>\n",
              "    <div class=\"colab-df-buttons\">\n",
              "\n",
              "  <div class=\"colab-df-container\">\n",
              "    <button class=\"colab-df-convert\" onclick=\"convertToInteractive('df-797e7d9e-0b25-4e15-9097-e4868b240f8c')\"\n",
              "            title=\"Convert this dataframe to an interactive table.\"\n",
              "            style=\"display:none;\">\n",
              "\n",
              "  <svg xmlns=\"http://www.w3.org/2000/svg\" height=\"24px\" viewBox=\"0 -960 960 960\">\n",
              "    <path d=\"M120-120v-720h720v720H120Zm60-500h600v-160H180v160Zm220 220h160v-160H400v160Zm0 220h160v-160H400v160ZM180-400h160v-160H180v160Zm440 0h160v-160H620v160ZM180-180h160v-160H180v160Zm440 0h160v-160H620v160Z\"/>\n",
              "  </svg>\n",
              "    </button>\n",
              "\n",
              "  <style>\n",
              "    .colab-df-container {\n",
              "      display:flex;\n",
              "      gap: 12px;\n",
              "    }\n",
              "\n",
              "    .colab-df-convert {\n",
              "      background-color: #E8F0FE;\n",
              "      border: none;\n",
              "      border-radius: 50%;\n",
              "      cursor: pointer;\n",
              "      display: none;\n",
              "      fill: #1967D2;\n",
              "      height: 32px;\n",
              "      padding: 0 0 0 0;\n",
              "      width: 32px;\n",
              "    }\n",
              "\n",
              "    .colab-df-convert:hover {\n",
              "      background-color: #E2EBFA;\n",
              "      box-shadow: 0px 1px 2px rgba(60, 64, 67, 0.3), 0px 1px 3px 1px rgba(60, 64, 67, 0.15);\n",
              "      fill: #174EA6;\n",
              "    }\n",
              "\n",
              "    .colab-df-buttons div {\n",
              "      margin-bottom: 4px;\n",
              "    }\n",
              "\n",
              "    [theme=dark] .colab-df-convert {\n",
              "      background-color: #3B4455;\n",
              "      fill: #D2E3FC;\n",
              "    }\n",
              "\n",
              "    [theme=dark] .colab-df-convert:hover {\n",
              "      background-color: #434B5C;\n",
              "      box-shadow: 0px 1px 3px 1px rgba(0, 0, 0, 0.15);\n",
              "      filter: drop-shadow(0px 1px 2px rgba(0, 0, 0, 0.3));\n",
              "      fill: #FFFFFF;\n",
              "    }\n",
              "  </style>\n",
              "\n",
              "    <script>\n",
              "      const buttonEl =\n",
              "        document.querySelector('#df-797e7d9e-0b25-4e15-9097-e4868b240f8c button.colab-df-convert');\n",
              "      buttonEl.style.display =\n",
              "        google.colab.kernel.accessAllowed ? 'block' : 'none';\n",
              "\n",
              "      async function convertToInteractive(key) {\n",
              "        const element = document.querySelector('#df-797e7d9e-0b25-4e15-9097-e4868b240f8c');\n",
              "        const dataTable =\n",
              "          await google.colab.kernel.invokeFunction('convertToInteractive',\n",
              "                                                    [key], {});\n",
              "        if (!dataTable) return;\n",
              "\n",
              "        const docLinkHtml = 'Like what you see? Visit the ' +\n",
              "          '<a target=\"_blank\" href=https://colab.research.google.com/notebooks/data_table.ipynb>data table notebook</a>'\n",
              "          + ' to learn more about interactive tables.';\n",
              "        element.innerHTML = '';\n",
              "        dataTable['output_type'] = 'display_data';\n",
              "        await google.colab.output.renderOutput(dataTable, element);\n",
              "        const docLink = document.createElement('div');\n",
              "        docLink.innerHTML = docLinkHtml;\n",
              "        element.appendChild(docLink);\n",
              "      }\n",
              "    </script>\n",
              "  </div>\n",
              "\n",
              "\n",
              "<div id=\"df-58df00a0-82ea-42a5-8583-a7850caa0afb\">\n",
              "  <button class=\"colab-df-quickchart\" onclick=\"quickchart('df-58df00a0-82ea-42a5-8583-a7850caa0afb')\"\n",
              "            title=\"Suggest charts\"\n",
              "            style=\"display:none;\">\n",
              "\n",
              "<svg xmlns=\"http://www.w3.org/2000/svg\" height=\"24px\"viewBox=\"0 0 24 24\"\n",
              "     width=\"24px\">\n",
              "    <g>\n",
              "        <path d=\"M19 3H5c-1.1 0-2 .9-2 2v14c0 1.1.9 2 2 2h14c1.1 0 2-.9 2-2V5c0-1.1-.9-2-2-2zM9 17H7v-7h2v7zm4 0h-2V7h2v10zm4 0h-2v-4h2v4z\"/>\n",
              "    </g>\n",
              "</svg>\n",
              "  </button>\n",
              "\n",
              "<style>\n",
              "  .colab-df-quickchart {\n",
              "      --bg-color: #E8F0FE;\n",
              "      --fill-color: #1967D2;\n",
              "      --hover-bg-color: #E2EBFA;\n",
              "      --hover-fill-color: #174EA6;\n",
              "      --disabled-fill-color: #AAA;\n",
              "      --disabled-bg-color: #DDD;\n",
              "  }\n",
              "\n",
              "  [theme=dark] .colab-df-quickchart {\n",
              "      --bg-color: #3B4455;\n",
              "      --fill-color: #D2E3FC;\n",
              "      --hover-bg-color: #434B5C;\n",
              "      --hover-fill-color: #FFFFFF;\n",
              "      --disabled-bg-color: #3B4455;\n",
              "      --disabled-fill-color: #666;\n",
              "  }\n",
              "\n",
              "  .colab-df-quickchart {\n",
              "    background-color: var(--bg-color);\n",
              "    border: none;\n",
              "    border-radius: 50%;\n",
              "    cursor: pointer;\n",
              "    display: none;\n",
              "    fill: var(--fill-color);\n",
              "    height: 32px;\n",
              "    padding: 0;\n",
              "    width: 32px;\n",
              "  }\n",
              "\n",
              "  .colab-df-quickchart:hover {\n",
              "    background-color: var(--hover-bg-color);\n",
              "    box-shadow: 0 1px 2px rgba(60, 64, 67, 0.3), 0 1px 3px 1px rgba(60, 64, 67, 0.15);\n",
              "    fill: var(--button-hover-fill-color);\n",
              "  }\n",
              "\n",
              "  .colab-df-quickchart-complete:disabled,\n",
              "  .colab-df-quickchart-complete:disabled:hover {\n",
              "    background-color: var(--disabled-bg-color);\n",
              "    fill: var(--disabled-fill-color);\n",
              "    box-shadow: none;\n",
              "  }\n",
              "\n",
              "  .colab-df-spinner {\n",
              "    border: 2px solid var(--fill-color);\n",
              "    border-color: transparent;\n",
              "    border-bottom-color: var(--fill-color);\n",
              "    animation:\n",
              "      spin 1s steps(1) infinite;\n",
              "  }\n",
              "\n",
              "  @keyframes spin {\n",
              "    0% {\n",
              "      border-color: transparent;\n",
              "      border-bottom-color: var(--fill-color);\n",
              "      border-left-color: var(--fill-color);\n",
              "    }\n",
              "    20% {\n",
              "      border-color: transparent;\n",
              "      border-left-color: var(--fill-color);\n",
              "      border-top-color: var(--fill-color);\n",
              "    }\n",
              "    30% {\n",
              "      border-color: transparent;\n",
              "      border-left-color: var(--fill-color);\n",
              "      border-top-color: var(--fill-color);\n",
              "      border-right-color: var(--fill-color);\n",
              "    }\n",
              "    40% {\n",
              "      border-color: transparent;\n",
              "      border-right-color: var(--fill-color);\n",
              "      border-top-color: var(--fill-color);\n",
              "    }\n",
              "    60% {\n",
              "      border-color: transparent;\n",
              "      border-right-color: var(--fill-color);\n",
              "    }\n",
              "    80% {\n",
              "      border-color: transparent;\n",
              "      border-right-color: var(--fill-color);\n",
              "      border-bottom-color: var(--fill-color);\n",
              "    }\n",
              "    90% {\n",
              "      border-color: transparent;\n",
              "      border-bottom-color: var(--fill-color);\n",
              "    }\n",
              "  }\n",
              "</style>\n",
              "\n",
              "  <script>\n",
              "    async function quickchart(key) {\n",
              "      const quickchartButtonEl =\n",
              "        document.querySelector('#' + key + ' button');\n",
              "      quickchartButtonEl.disabled = true;  // To prevent multiple clicks.\n",
              "      quickchartButtonEl.classList.add('colab-df-spinner');\n",
              "      try {\n",
              "        const charts = await google.colab.kernel.invokeFunction(\n",
              "            'suggestCharts', [key], {});\n",
              "      } catch (error) {\n",
              "        console.error('Error during call to suggestCharts:', error);\n",
              "      }\n",
              "      quickchartButtonEl.classList.remove('colab-df-spinner');\n",
              "      quickchartButtonEl.classList.add('colab-df-quickchart-complete');\n",
              "    }\n",
              "    (() => {\n",
              "      let quickchartButtonEl =\n",
              "        document.querySelector('#df-58df00a0-82ea-42a5-8583-a7850caa0afb button');\n",
              "      quickchartButtonEl.style.display =\n",
              "        google.colab.kernel.accessAllowed ? 'block' : 'none';\n",
              "    })();\n",
              "  </script>\n",
              "</div>\n",
              "\n",
              "    </div>\n",
              "  </div>\n"
            ],
            "application/vnd.google.colaboratory.intrinsic+json": {
              "type": "dataframe",
              "variable_name": "data",
              "summary": "{\n  \"name\": \"data\",\n  \"rows\": 9250,\n  \"fields\": [\n    {\n      \"column\": \"PID\",\n      \"properties\": {\n        \"dtype\": \"number\",\n        \"std\": 2670,\n        \"min\": 1,\n        \"max\": 9250,\n        \"num_unique_values\": 9250,\n        \"samples\": [\n          587,\n          2474,\n          7146\n        ],\n        \"semantic_type\": \"\",\n        \"description\": \"\"\n      }\n    },\n    {\n      \"column\": \"text\",\n      \"properties\": {\n        \"dtype\": \"string\",\n        \"num_unique_values\": 8896,\n        \"samples\": [\n          \"\\u09a4\\u09cb\\u09a6\\u09c7\\u09b0 \\u09a7\\u09b0\\u09cd\\u09ae \\u09ae\\u09be\\u09a8\\u09c7 \\u09b8\\u09ac \\u09b8\\u09a8\\u09cd\\u09a4\\u09cd\\u09b0\\u09be\\u09b8\\u09c0\\u0964\",\n          \"\\u09ac\\u09b0\\u09cd\\u09a4\\u09ae\\u09be\\u09a8 \\u09b8\\u09cd\\u09ac\\u09c8\\u09b0\\u09b6\\u09be\\u09b8\\u0995 \\u0995\\u09cb\\u099f\\u09be \\u09b8\\u09b0\\u0995\\u09be\\u09b0 \\u0995\\u09c7 \\u098f\\u0987 \\u09b8\\u09ac\\u09c7\\u09b0 \\u09a6\\u09be\\u09df \\u09a8\\u09bf\\u09a4\\u09c7 \\u09b9\\u09ac\\u09c7\\u0964\",\n          \"\\u09ae\\u09be \\u0998\\u09c1\\u09b0\\u09c7 \\u0997\\u09cb\\u09b2\\u09bf \\u0997\\u09cb\\u09b2\\u09bf \\u09ae\\u09c7\\u09af\\u09bc\\u09c7 \\u09b9\\u09af\\u09bc\\u09c7\\u099b\\u09c7 \\u0986\\u09a8\\u09be\\u09b0\\u0995\\u09b2\\u09bf\"\n        ],\n        \"semantic_type\": \"\",\n        \"description\": \"\"\n      }\n    },\n    {\n      \"column\": \"labels\",\n      \"properties\": {\n        \"dtype\": \"category\",\n        \"num_unique_values\": 6,\n        \"samples\": [\n          \"Cyberbullying\",\n          \"Religious Hatred\",\n          \"Racism\"\n        ],\n        \"semantic_type\": \"\",\n        \"description\": \"\"\n      }\n    },\n    {\n      \"column\": \"Unnamed: 3\",\n      \"properties\": {\n        \"dtype\": \"category\",\n        \"num_unique_values\": 1,\n        \"samples\": [\n          \" \"\n        ],\n        \"semantic_type\": \"\",\n        \"description\": \"\"\n      }\n    }\n  ]\n}"
            }
          },
          "metadata": {},
          "execution_count": 200
        }
      ]
    },
    {
      "cell_type": "code",
      "execution_count": null,
      "metadata": {
        "colab": {
          "base_uri": "https://localhost:8080/"
        },
        "id": "joone3H4bINR",
        "outputId": "0a769c26-2a0e-4ff3-c425-e0515b1b0a72"
      },
      "outputs": [
        {
          "output_type": "stream",
          "name": "stdout",
          "text": [
            "Number of training sentences: 9,250\n",
            "\n",
            "       PID                                               text  \\\n",
            "586    587                          হুংকার গারে গুঁজে দিয়েছে   \n",
            "2473  2474                                  বাহ চুদির ভাই বাহ   \n",
            "7145  7146    বউয়ের শাড়ী খুলেও যেন খুলছে না...কী একটা অবস্থা    \n",
            "3542  3543                              আপা আমারে দেখতে পারেন   \n",
            "3063  3064                         স্যার কমেন্টের সবই রাজাকার   \n",
            "1145  1146                মেয়েটার এক্সপ্রেশন বলে দেয় ও আনাড়ি,   \n",
            "6144  6145                       কাওয়ালির কাছে তোমরা ফ্লপ...   \n",
            "8840  8841                           এই খানকিরে দেখলে বমি আসে   \n",
            "620    621  ফারিন অনেক মজার কিন্তু তার নাটক দেখলে বুঝা যায় না   \n",
            "6065  6066                       প্রশাসন কি দায়িত্ব পালন করছে   \n",
            "\n",
            "                     labels  \n",
            "586                 Sarcasm  \n",
            "2473          Cyberbullying  \n",
            "7145  Gender Discrimination  \n",
            "3542                Sarcasm  \n",
            "3063              Political  \n",
            "1145                Sarcasm  \n",
            "6144                Sarcasm  \n",
            "8840  Gender Discrimination  \n",
            "620                 Sarcasm  \n",
            "6065              Political  \n"
          ]
        }
      ],
      "source": [
        "\n",
        "\n",
        "# Keep only the specified three columns\n",
        "# Replace 'column1', 'column2', 'column3' with your actual column names\n",
        "data = data[['PID', 'text', 'labels']]\n",
        "\n",
        "# Report the number of sentences\n",
        "print('Number of training sentences: {:,}\\n'.format(data.shape[0]))\n",
        "\n",
        "# Display 10 random rows from the data\n",
        "print(data.sample(10))\n"
      ]
    },
    {
      "cell_type": "code",
      "execution_count": null,
      "metadata": {
        "id": "hCC1mJq8pXxF"
      },
      "outputs": [],
      "source": [
        "import pandas as pd\n",
        "from sklearn.model_selection import train_test_split\n",
        "\n",
        "# # Read the file with ISO-8859-1 encoding\n",
        "# train_df = pd.read_csv('/content/drive/MyDrive/Colab Notebooks/Nazir Sir/spam - spam.csv', encoding='ISO-8859-1')\n",
        "\n",
        "# First, split the data into training and temp (test + validation)\n",
        "train_df, temp_df = train_test_split(data, test_size=0.2, random_state=42)\n",
        "\n",
        "# Then split temp_data into test and validation sets (50% each of temp_data, so 15% of the total for each)\n",
        "test_df, val_df = train_test_split(temp_df, test_size=0.5, random_state=42)"
      ]
    },
    {
      "cell_type": "code",
      "execution_count": null,
      "metadata": {
        "colab": {
          "base_uri": "https://localhost:8080/",
          "height": 424
        },
        "id": "GNakCSLC7cIb",
        "outputId": "94f014fd-2507-4aba-f3bc-cfaae4a01e73"
      },
      "outputs": [
        {
          "output_type": "execute_result",
          "data": {
            "text/plain": [
              "       PID                                               text  \\\n",
              "8329  8330            আবার কবে শুরু হবে কুকুরমালাও খানকি মালা   \n",
              "2301  2302                   মুক্তিযুদ্ধা ছাড়া বাকিরা রাজাকার   \n",
              "7672  7673                       তোর ধর্মে কিছু নেই, সব বাজে।   \n",
              "1701  1702                          মিরাজের ভিটামিনের পাওয়ার   \n",
              "2518  2519        শকুনের দৃষ্টি পড়েছে মুক্তি যোদ্ধা কোটার উপর   \n",
              "...    ...                                                ...   \n",
              "5734  5735                                         কুত্তা লীগ   \n",
              "5191  5192          এখন নাচতে শুরু করেছে পরে বাঁচতে শুরু করবে   \n",
              "5390  5391            পাগোল যদি মাঠে থাকে তাহলে বিবাহ হবেনানে   \n",
              "860    861                                       অতি টিপার ফল   \n",
              "7270  7271  পাশে কুকুর টা দৌড়াদৌড়ি করে কেন, মনে হচ্ছে ওর...   \n",
              "\n",
              "                labels  \n",
              "8329     Cyberbullying  \n",
              "2301         Political  \n",
              "7672  Religious Hatred  \n",
              "1701           Sarcasm  \n",
              "2518         Political  \n",
              "...                ...  \n",
              "5734     Cyberbullying  \n",
              "5191           Sarcasm  \n",
              "5390           Sarcasm  \n",
              "860      Cyberbullying  \n",
              "7270           Sarcasm  \n",
              "\n",
              "[7400 rows x 3 columns]"
            ],
            "text/html": [
              "\n",
              "  <div id=\"df-d4e2b271-24c0-45de-b96f-7395be447989\" class=\"colab-df-container\">\n",
              "    <div>\n",
              "<style scoped>\n",
              "    .dataframe tbody tr th:only-of-type {\n",
              "        vertical-align: middle;\n",
              "    }\n",
              "\n",
              "    .dataframe tbody tr th {\n",
              "        vertical-align: top;\n",
              "    }\n",
              "\n",
              "    .dataframe thead th {\n",
              "        text-align: right;\n",
              "    }\n",
              "</style>\n",
              "<table border=\"1\" class=\"dataframe\">\n",
              "  <thead>\n",
              "    <tr style=\"text-align: right;\">\n",
              "      <th></th>\n",
              "      <th>PID</th>\n",
              "      <th>text</th>\n",
              "      <th>labels</th>\n",
              "    </tr>\n",
              "  </thead>\n",
              "  <tbody>\n",
              "    <tr>\n",
              "      <th>8329</th>\n",
              "      <td>8330</td>\n",
              "      <td>আবার কবে শুরু হবে কুকুরমালাও খানকি মালা</td>\n",
              "      <td>Cyberbullying</td>\n",
              "    </tr>\n",
              "    <tr>\n",
              "      <th>2301</th>\n",
              "      <td>2302</td>\n",
              "      <td>মুক্তিযুদ্ধা ছাড়া বাকিরা রাজাকার</td>\n",
              "      <td>Political</td>\n",
              "    </tr>\n",
              "    <tr>\n",
              "      <th>7672</th>\n",
              "      <td>7673</td>\n",
              "      <td>তোর ধর্মে কিছু নেই, সব বাজে।</td>\n",
              "      <td>Religious Hatred</td>\n",
              "    </tr>\n",
              "    <tr>\n",
              "      <th>1701</th>\n",
              "      <td>1702</td>\n",
              "      <td>মিরাজের ভিটামিনের পাওয়ার</td>\n",
              "      <td>Sarcasm</td>\n",
              "    </tr>\n",
              "    <tr>\n",
              "      <th>2518</th>\n",
              "      <td>2519</td>\n",
              "      <td>শকুনের দৃষ্টি পড়েছে মুক্তি যোদ্ধা কোটার উপর</td>\n",
              "      <td>Political</td>\n",
              "    </tr>\n",
              "    <tr>\n",
              "      <th>...</th>\n",
              "      <td>...</td>\n",
              "      <td>...</td>\n",
              "      <td>...</td>\n",
              "    </tr>\n",
              "    <tr>\n",
              "      <th>5734</th>\n",
              "      <td>5735</td>\n",
              "      <td>কুত্তা লীগ</td>\n",
              "      <td>Cyberbullying</td>\n",
              "    </tr>\n",
              "    <tr>\n",
              "      <th>5191</th>\n",
              "      <td>5192</td>\n",
              "      <td>এখন নাচতে শুরু করেছে পরে বাঁচতে শুরু করবে</td>\n",
              "      <td>Sarcasm</td>\n",
              "    </tr>\n",
              "    <tr>\n",
              "      <th>5390</th>\n",
              "      <td>5391</td>\n",
              "      <td>পাগোল যদি মাঠে থাকে তাহলে বিবাহ হবেনানে</td>\n",
              "      <td>Sarcasm</td>\n",
              "    </tr>\n",
              "    <tr>\n",
              "      <th>860</th>\n",
              "      <td>861</td>\n",
              "      <td>অতি টিপার ফল</td>\n",
              "      <td>Cyberbullying</td>\n",
              "    </tr>\n",
              "    <tr>\n",
              "      <th>7270</th>\n",
              "      <td>7271</td>\n",
              "      <td>পাশে কুকুর টা দৌড়াদৌড়ি করে কেন, মনে হচ্ছে ওর...</td>\n",
              "      <td>Sarcasm</td>\n",
              "    </tr>\n",
              "  </tbody>\n",
              "</table>\n",
              "<p>7400 rows × 3 columns</p>\n",
              "</div>\n",
              "    <div class=\"colab-df-buttons\">\n",
              "\n",
              "  <div class=\"colab-df-container\">\n",
              "    <button class=\"colab-df-convert\" onclick=\"convertToInteractive('df-d4e2b271-24c0-45de-b96f-7395be447989')\"\n",
              "            title=\"Convert this dataframe to an interactive table.\"\n",
              "            style=\"display:none;\">\n",
              "\n",
              "  <svg xmlns=\"http://www.w3.org/2000/svg\" height=\"24px\" viewBox=\"0 -960 960 960\">\n",
              "    <path d=\"M120-120v-720h720v720H120Zm60-500h600v-160H180v160Zm220 220h160v-160H400v160Zm0 220h160v-160H400v160ZM180-400h160v-160H180v160Zm440 0h160v-160H620v160ZM180-180h160v-160H180v160Zm440 0h160v-160H620v160Z\"/>\n",
              "  </svg>\n",
              "    </button>\n",
              "\n",
              "  <style>\n",
              "    .colab-df-container {\n",
              "      display:flex;\n",
              "      gap: 12px;\n",
              "    }\n",
              "\n",
              "    .colab-df-convert {\n",
              "      background-color: #E8F0FE;\n",
              "      border: none;\n",
              "      border-radius: 50%;\n",
              "      cursor: pointer;\n",
              "      display: none;\n",
              "      fill: #1967D2;\n",
              "      height: 32px;\n",
              "      padding: 0 0 0 0;\n",
              "      width: 32px;\n",
              "    }\n",
              "\n",
              "    .colab-df-convert:hover {\n",
              "      background-color: #E2EBFA;\n",
              "      box-shadow: 0px 1px 2px rgba(60, 64, 67, 0.3), 0px 1px 3px 1px rgba(60, 64, 67, 0.15);\n",
              "      fill: #174EA6;\n",
              "    }\n",
              "\n",
              "    .colab-df-buttons div {\n",
              "      margin-bottom: 4px;\n",
              "    }\n",
              "\n",
              "    [theme=dark] .colab-df-convert {\n",
              "      background-color: #3B4455;\n",
              "      fill: #D2E3FC;\n",
              "    }\n",
              "\n",
              "    [theme=dark] .colab-df-convert:hover {\n",
              "      background-color: #434B5C;\n",
              "      box-shadow: 0px 1px 3px 1px rgba(0, 0, 0, 0.15);\n",
              "      filter: drop-shadow(0px 1px 2px rgba(0, 0, 0, 0.3));\n",
              "      fill: #FFFFFF;\n",
              "    }\n",
              "  </style>\n",
              "\n",
              "    <script>\n",
              "      const buttonEl =\n",
              "        document.querySelector('#df-d4e2b271-24c0-45de-b96f-7395be447989 button.colab-df-convert');\n",
              "      buttonEl.style.display =\n",
              "        google.colab.kernel.accessAllowed ? 'block' : 'none';\n",
              "\n",
              "      async function convertToInteractive(key) {\n",
              "        const element = document.querySelector('#df-d4e2b271-24c0-45de-b96f-7395be447989');\n",
              "        const dataTable =\n",
              "          await google.colab.kernel.invokeFunction('convertToInteractive',\n",
              "                                                    [key], {});\n",
              "        if (!dataTable) return;\n",
              "\n",
              "        const docLinkHtml = 'Like what you see? Visit the ' +\n",
              "          '<a target=\"_blank\" href=https://colab.research.google.com/notebooks/data_table.ipynb>data table notebook</a>'\n",
              "          + ' to learn more about interactive tables.';\n",
              "        element.innerHTML = '';\n",
              "        dataTable['output_type'] = 'display_data';\n",
              "        await google.colab.output.renderOutput(dataTable, element);\n",
              "        const docLink = document.createElement('div');\n",
              "        docLink.innerHTML = docLinkHtml;\n",
              "        element.appendChild(docLink);\n",
              "      }\n",
              "    </script>\n",
              "  </div>\n",
              "\n",
              "\n",
              "<div id=\"df-5c376f20-e03e-442f-8bf6-3f79a1f3aa4b\">\n",
              "  <button class=\"colab-df-quickchart\" onclick=\"quickchart('df-5c376f20-e03e-442f-8bf6-3f79a1f3aa4b')\"\n",
              "            title=\"Suggest charts\"\n",
              "            style=\"display:none;\">\n",
              "\n",
              "<svg xmlns=\"http://www.w3.org/2000/svg\" height=\"24px\"viewBox=\"0 0 24 24\"\n",
              "     width=\"24px\">\n",
              "    <g>\n",
              "        <path d=\"M19 3H5c-1.1 0-2 .9-2 2v14c0 1.1.9 2 2 2h14c1.1 0 2-.9 2-2V5c0-1.1-.9-2-2-2zM9 17H7v-7h2v7zm4 0h-2V7h2v10zm4 0h-2v-4h2v4z\"/>\n",
              "    </g>\n",
              "</svg>\n",
              "  </button>\n",
              "\n",
              "<style>\n",
              "  .colab-df-quickchart {\n",
              "      --bg-color: #E8F0FE;\n",
              "      --fill-color: #1967D2;\n",
              "      --hover-bg-color: #E2EBFA;\n",
              "      --hover-fill-color: #174EA6;\n",
              "      --disabled-fill-color: #AAA;\n",
              "      --disabled-bg-color: #DDD;\n",
              "  }\n",
              "\n",
              "  [theme=dark] .colab-df-quickchart {\n",
              "      --bg-color: #3B4455;\n",
              "      --fill-color: #D2E3FC;\n",
              "      --hover-bg-color: #434B5C;\n",
              "      --hover-fill-color: #FFFFFF;\n",
              "      --disabled-bg-color: #3B4455;\n",
              "      --disabled-fill-color: #666;\n",
              "  }\n",
              "\n",
              "  .colab-df-quickchart {\n",
              "    background-color: var(--bg-color);\n",
              "    border: none;\n",
              "    border-radius: 50%;\n",
              "    cursor: pointer;\n",
              "    display: none;\n",
              "    fill: var(--fill-color);\n",
              "    height: 32px;\n",
              "    padding: 0;\n",
              "    width: 32px;\n",
              "  }\n",
              "\n",
              "  .colab-df-quickchart:hover {\n",
              "    background-color: var(--hover-bg-color);\n",
              "    box-shadow: 0 1px 2px rgba(60, 64, 67, 0.3), 0 1px 3px 1px rgba(60, 64, 67, 0.15);\n",
              "    fill: var(--button-hover-fill-color);\n",
              "  }\n",
              "\n",
              "  .colab-df-quickchart-complete:disabled,\n",
              "  .colab-df-quickchart-complete:disabled:hover {\n",
              "    background-color: var(--disabled-bg-color);\n",
              "    fill: var(--disabled-fill-color);\n",
              "    box-shadow: none;\n",
              "  }\n",
              "\n",
              "  .colab-df-spinner {\n",
              "    border: 2px solid var(--fill-color);\n",
              "    border-color: transparent;\n",
              "    border-bottom-color: var(--fill-color);\n",
              "    animation:\n",
              "      spin 1s steps(1) infinite;\n",
              "  }\n",
              "\n",
              "  @keyframes spin {\n",
              "    0% {\n",
              "      border-color: transparent;\n",
              "      border-bottom-color: var(--fill-color);\n",
              "      border-left-color: var(--fill-color);\n",
              "    }\n",
              "    20% {\n",
              "      border-color: transparent;\n",
              "      border-left-color: var(--fill-color);\n",
              "      border-top-color: var(--fill-color);\n",
              "    }\n",
              "    30% {\n",
              "      border-color: transparent;\n",
              "      border-left-color: var(--fill-color);\n",
              "      border-top-color: var(--fill-color);\n",
              "      border-right-color: var(--fill-color);\n",
              "    }\n",
              "    40% {\n",
              "      border-color: transparent;\n",
              "      border-right-color: var(--fill-color);\n",
              "      border-top-color: var(--fill-color);\n",
              "    }\n",
              "    60% {\n",
              "      border-color: transparent;\n",
              "      border-right-color: var(--fill-color);\n",
              "    }\n",
              "    80% {\n",
              "      border-color: transparent;\n",
              "      border-right-color: var(--fill-color);\n",
              "      border-bottom-color: var(--fill-color);\n",
              "    }\n",
              "    90% {\n",
              "      border-color: transparent;\n",
              "      border-bottom-color: var(--fill-color);\n",
              "    }\n",
              "  }\n",
              "</style>\n",
              "\n",
              "  <script>\n",
              "    async function quickchart(key) {\n",
              "      const quickchartButtonEl =\n",
              "        document.querySelector('#' + key + ' button');\n",
              "      quickchartButtonEl.disabled = true;  // To prevent multiple clicks.\n",
              "      quickchartButtonEl.classList.add('colab-df-spinner');\n",
              "      try {\n",
              "        const charts = await google.colab.kernel.invokeFunction(\n",
              "            'suggestCharts', [key], {});\n",
              "      } catch (error) {\n",
              "        console.error('Error during call to suggestCharts:', error);\n",
              "      }\n",
              "      quickchartButtonEl.classList.remove('colab-df-spinner');\n",
              "      quickchartButtonEl.classList.add('colab-df-quickchart-complete');\n",
              "    }\n",
              "    (() => {\n",
              "      let quickchartButtonEl =\n",
              "        document.querySelector('#df-5c376f20-e03e-442f-8bf6-3f79a1f3aa4b button');\n",
              "      quickchartButtonEl.style.display =\n",
              "        google.colab.kernel.accessAllowed ? 'block' : 'none';\n",
              "    })();\n",
              "  </script>\n",
              "</div>\n",
              "\n",
              "  <div id=\"id_5636c2b8-07e5-4df7-b49b-b2656072ff6a\">\n",
              "    <style>\n",
              "      .colab-df-generate {\n",
              "        background-color: #E8F0FE;\n",
              "        border: none;\n",
              "        border-radius: 50%;\n",
              "        cursor: pointer;\n",
              "        display: none;\n",
              "        fill: #1967D2;\n",
              "        height: 32px;\n",
              "        padding: 0 0 0 0;\n",
              "        width: 32px;\n",
              "      }\n",
              "\n",
              "      .colab-df-generate:hover {\n",
              "        background-color: #E2EBFA;\n",
              "        box-shadow: 0px 1px 2px rgba(60, 64, 67, 0.3), 0px 1px 3px 1px rgba(60, 64, 67, 0.15);\n",
              "        fill: #174EA6;\n",
              "      }\n",
              "\n",
              "      [theme=dark] .colab-df-generate {\n",
              "        background-color: #3B4455;\n",
              "        fill: #D2E3FC;\n",
              "      }\n",
              "\n",
              "      [theme=dark] .colab-df-generate:hover {\n",
              "        background-color: #434B5C;\n",
              "        box-shadow: 0px 1px 3px 1px rgba(0, 0, 0, 0.15);\n",
              "        filter: drop-shadow(0px 1px 2px rgba(0, 0, 0, 0.3));\n",
              "        fill: #FFFFFF;\n",
              "      }\n",
              "    </style>\n",
              "    <button class=\"colab-df-generate\" onclick=\"generateWithVariable('train_df')\"\n",
              "            title=\"Generate code using this dataframe.\"\n",
              "            style=\"display:none;\">\n",
              "\n",
              "  <svg xmlns=\"http://www.w3.org/2000/svg\" height=\"24px\"viewBox=\"0 0 24 24\"\n",
              "       width=\"24px\">\n",
              "    <path d=\"M7,19H8.4L18.45,9,17,7.55,7,17.6ZM5,21V16.75L18.45,3.32a2,2,0,0,1,2.83,0l1.4,1.43a1.91,1.91,0,0,1,.58,1.4,1.91,1.91,0,0,1-.58,1.4L9.25,21ZM18.45,9,17,7.55Zm-12,3A5.31,5.31,0,0,0,4.9,8.1,5.31,5.31,0,0,0,1,6.5,5.31,5.31,0,0,0,4.9,4.9,5.31,5.31,0,0,0,6.5,1,5.31,5.31,0,0,0,8.1,4.9,5.31,5.31,0,0,0,12,6.5,5.46,5.46,0,0,0,6.5,12Z\"/>\n",
              "  </svg>\n",
              "    </button>\n",
              "    <script>\n",
              "      (() => {\n",
              "      const buttonEl =\n",
              "        document.querySelector('#id_5636c2b8-07e5-4df7-b49b-b2656072ff6a button.colab-df-generate');\n",
              "      buttonEl.style.display =\n",
              "        google.colab.kernel.accessAllowed ? 'block' : 'none';\n",
              "\n",
              "      buttonEl.onclick = () => {\n",
              "        google.colab.notebook.generateWithVariable('train_df');\n",
              "      }\n",
              "      })();\n",
              "    </script>\n",
              "  </div>\n",
              "\n",
              "    </div>\n",
              "  </div>\n"
            ],
            "application/vnd.google.colaboratory.intrinsic+json": {
              "type": "dataframe",
              "variable_name": "train_df",
              "summary": "{\n  \"name\": \"train_df\",\n  \"rows\": 7400,\n  \"fields\": [\n    {\n      \"column\": \"PID\",\n      \"properties\": {\n        \"dtype\": \"number\",\n        \"std\": 2675,\n        \"min\": 2,\n        \"max\": 9250,\n        \"num_unique_values\": 7400,\n        \"samples\": [\n          3538,\n          2832,\n          2569\n        ],\n        \"semantic_type\": \"\",\n        \"description\": \"\"\n      }\n    },\n    {\n      \"column\": \"text\",\n      \"properties\": {\n        \"dtype\": \"string\",\n        \"num_unique_values\": 7154,\n        \"samples\": [\n          \"\\u098f\\u09b0\\u09be \\u09b6\\u09bf\\u09b9\\u09cd\\u09ae\\u09bf\\u09a4 \\u09a8\\u09be\\u09ae\\u09c7\\u09b0 \\u0995\\u09b2\\u0982\",\n          \"\\u0987\\u09b8\\u09b2\\u09be\\u09ae \\u0995\\u09bf \\u09b8\\u09b9\\u09be\\u09ac\\u09b8\\u09cd\\u09a5\\u09be\\u09a8\\u09c7 \\u09ac\\u09bf\\u09b6\\u09cd\\u09ac\\u09be\\u09b8 \\u0995\\u09b0\\u09c7\\u0964\",\n          \"\\u0985\\u09a8\\u09c7\\u0995 \\u09a6\\u09bf\\u09a8 \\u09a7\\u09b0\\u09c7 \\u098f\\u0995 \\u09a1\\u09be\\u09df\\u09b2\\u0997 \\u09b6\\u09c1\\u09a8\\u09c7 \\u0986\\u09b8\\u099b\\u09bf\\u0964 \\u0986\\u09b0\\u0993 \\u09ed \\u09af\\u09c1\\u0997\\u09c7\\u0993 \\u09a6\\u0996\\u09b2\\u09c7 \\u09a8\\u09bf\\u09a4\\u09c7 \\u09aa\\u09be\\u09b0\\u09ac\\u09c7 \\u0995\\u09bf\\u09a8\\u09be \\u09b8\\u09a8\\u09cd\\u09a6\\u09c7\\u09b9 \"\n        ],\n        \"semantic_type\": \"\",\n        \"description\": \"\"\n      }\n    },\n    {\n      \"column\": \"labels\",\n      \"properties\": {\n        \"dtype\": \"category\",\n        \"num_unique_values\": 6,\n        \"samples\": [\n          \"Cyberbullying\",\n          \"Political\",\n          \"Racism\"\n        ],\n        \"semantic_type\": \"\",\n        \"description\": \"\"\n      }\n    }\n  ]\n}"
            }
          },
          "metadata": {},
          "execution_count": 203
        }
      ],
      "source": [
        "train_df"
      ]
    },
    {
      "cell_type": "code",
      "execution_count": null,
      "metadata": {
        "colab": {
          "base_uri": "https://localhost:8080/",
          "height": 424
        },
        "id": "MZPkGEWupgZL",
        "outputId": "29219c5a-3804-49d1-a831-cc12e16ec28c"
      },
      "outputs": [
        {
          "output_type": "execute_result",
          "data": {
            "text/plain": [
              "       PID                                               text  \\\n",
              "7345  7346  গণ বিবাহতে আপা ও ছিলো। আপারে দেখতে অনেক কিউট ল...   \n",
              "8290  8291               পোলার গুষ্টিরে কুমিল্লার মানুষে করছে   \n",
              "1126  1127        তোর বাপের সাথে সংসার থাকলে ভেঙ্গে তো যাবেই!   \n",
              "2275  2276                ঘুমাইলাম কাম শেষ হইলে আমারে ডাক দিস   \n",
              "9215  9216                    জয় বাংলা তোর নানীর পুটকি সামলা   \n",
              "...    ...                                                ...   \n",
              "7695  7696                           তুই একটা হারামির বাচ্চা।   \n",
              "4993  4994           বিবিসি তখন ধর্মহীনতার প্রতি উৎসাহিত করছে   \n",
              "9248  9249                     মিম এখন টয়লেটেমিম এখন টয়লেটে   \n",
              "2698  2699             সরকার কেগদি থেকে রাস্তায় নামার আন্দোলন   \n",
              "4279  4280                       মাশরাফির Ponde ব্যথা নাকি। ?   \n",
              "\n",
              "                     labels  \n",
              "7345  Gender Discrimination  \n",
              "8290                 Racism  \n",
              "1126          Cyberbullying  \n",
              "2275                Sarcasm  \n",
              "9215  Gender Discrimination  \n",
              "...                     ...  \n",
              "7695          Cyberbullying  \n",
              "4993          Cyberbullying  \n",
              "9248  Gender Discrimination  \n",
              "2698              Political  \n",
              "4279          Cyberbullying  \n",
              "\n",
              "[925 rows x 3 columns]"
            ],
            "text/html": [
              "\n",
              "  <div id=\"df-35fe66bd-39e8-4347-9a3d-459719e7366c\" class=\"colab-df-container\">\n",
              "    <div>\n",
              "<style scoped>\n",
              "    .dataframe tbody tr th:only-of-type {\n",
              "        vertical-align: middle;\n",
              "    }\n",
              "\n",
              "    .dataframe tbody tr th {\n",
              "        vertical-align: top;\n",
              "    }\n",
              "\n",
              "    .dataframe thead th {\n",
              "        text-align: right;\n",
              "    }\n",
              "</style>\n",
              "<table border=\"1\" class=\"dataframe\">\n",
              "  <thead>\n",
              "    <tr style=\"text-align: right;\">\n",
              "      <th></th>\n",
              "      <th>PID</th>\n",
              "      <th>text</th>\n",
              "      <th>labels</th>\n",
              "    </tr>\n",
              "  </thead>\n",
              "  <tbody>\n",
              "    <tr>\n",
              "      <th>7345</th>\n",
              "      <td>7346</td>\n",
              "      <td>গণ বিবাহতে আপা ও ছিলো। আপারে দেখতে অনেক কিউট ল...</td>\n",
              "      <td>Gender Discrimination</td>\n",
              "    </tr>\n",
              "    <tr>\n",
              "      <th>8290</th>\n",
              "      <td>8291</td>\n",
              "      <td>পোলার গুষ্টিরে কুমিল্লার মানুষে করছে</td>\n",
              "      <td>Racism</td>\n",
              "    </tr>\n",
              "    <tr>\n",
              "      <th>1126</th>\n",
              "      <td>1127</td>\n",
              "      <td>তোর বাপের সাথে সংসার থাকলে ভেঙ্গে তো যাবেই!</td>\n",
              "      <td>Cyberbullying</td>\n",
              "    </tr>\n",
              "    <tr>\n",
              "      <th>2275</th>\n",
              "      <td>2276</td>\n",
              "      <td>ঘুমাইলাম কাম শেষ হইলে আমারে ডাক দিস</td>\n",
              "      <td>Sarcasm</td>\n",
              "    </tr>\n",
              "    <tr>\n",
              "      <th>9215</th>\n",
              "      <td>9216</td>\n",
              "      <td>জয় বাংলা তোর নানীর পুটকি সামলা</td>\n",
              "      <td>Gender Discrimination</td>\n",
              "    </tr>\n",
              "    <tr>\n",
              "      <th>...</th>\n",
              "      <td>...</td>\n",
              "      <td>...</td>\n",
              "      <td>...</td>\n",
              "    </tr>\n",
              "    <tr>\n",
              "      <th>7695</th>\n",
              "      <td>7696</td>\n",
              "      <td>তুই একটা হারামির বাচ্চা।</td>\n",
              "      <td>Cyberbullying</td>\n",
              "    </tr>\n",
              "    <tr>\n",
              "      <th>4993</th>\n",
              "      <td>4994</td>\n",
              "      <td>বিবিসি তখন ধর্মহীনতার প্রতি উৎসাহিত করছে</td>\n",
              "      <td>Cyberbullying</td>\n",
              "    </tr>\n",
              "    <tr>\n",
              "      <th>9248</th>\n",
              "      <td>9249</td>\n",
              "      <td>মিম এখন টয়লেটেমিম এখন টয়লেটে</td>\n",
              "      <td>Gender Discrimination</td>\n",
              "    </tr>\n",
              "    <tr>\n",
              "      <th>2698</th>\n",
              "      <td>2699</td>\n",
              "      <td>সরকার কেগদি থেকে রাস্তায় নামার আন্দোলন</td>\n",
              "      <td>Political</td>\n",
              "    </tr>\n",
              "    <tr>\n",
              "      <th>4279</th>\n",
              "      <td>4280</td>\n",
              "      <td>মাশরাফির Ponde ব্যথা নাকি। ?</td>\n",
              "      <td>Cyberbullying</td>\n",
              "    </tr>\n",
              "  </tbody>\n",
              "</table>\n",
              "<p>925 rows × 3 columns</p>\n",
              "</div>\n",
              "    <div class=\"colab-df-buttons\">\n",
              "\n",
              "  <div class=\"colab-df-container\">\n",
              "    <button class=\"colab-df-convert\" onclick=\"convertToInteractive('df-35fe66bd-39e8-4347-9a3d-459719e7366c')\"\n",
              "            title=\"Convert this dataframe to an interactive table.\"\n",
              "            style=\"display:none;\">\n",
              "\n",
              "  <svg xmlns=\"http://www.w3.org/2000/svg\" height=\"24px\" viewBox=\"0 -960 960 960\">\n",
              "    <path d=\"M120-120v-720h720v720H120Zm60-500h600v-160H180v160Zm220 220h160v-160H400v160Zm0 220h160v-160H400v160ZM180-400h160v-160H180v160Zm440 0h160v-160H620v160ZM180-180h160v-160H180v160Zm440 0h160v-160H620v160Z\"/>\n",
              "  </svg>\n",
              "    </button>\n",
              "\n",
              "  <style>\n",
              "    .colab-df-container {\n",
              "      display:flex;\n",
              "      gap: 12px;\n",
              "    }\n",
              "\n",
              "    .colab-df-convert {\n",
              "      background-color: #E8F0FE;\n",
              "      border: none;\n",
              "      border-radius: 50%;\n",
              "      cursor: pointer;\n",
              "      display: none;\n",
              "      fill: #1967D2;\n",
              "      height: 32px;\n",
              "      padding: 0 0 0 0;\n",
              "      width: 32px;\n",
              "    }\n",
              "\n",
              "    .colab-df-convert:hover {\n",
              "      background-color: #E2EBFA;\n",
              "      box-shadow: 0px 1px 2px rgba(60, 64, 67, 0.3), 0px 1px 3px 1px rgba(60, 64, 67, 0.15);\n",
              "      fill: #174EA6;\n",
              "    }\n",
              "\n",
              "    .colab-df-buttons div {\n",
              "      margin-bottom: 4px;\n",
              "    }\n",
              "\n",
              "    [theme=dark] .colab-df-convert {\n",
              "      background-color: #3B4455;\n",
              "      fill: #D2E3FC;\n",
              "    }\n",
              "\n",
              "    [theme=dark] .colab-df-convert:hover {\n",
              "      background-color: #434B5C;\n",
              "      box-shadow: 0px 1px 3px 1px rgba(0, 0, 0, 0.15);\n",
              "      filter: drop-shadow(0px 1px 2px rgba(0, 0, 0, 0.3));\n",
              "      fill: #FFFFFF;\n",
              "    }\n",
              "  </style>\n",
              "\n",
              "    <script>\n",
              "      const buttonEl =\n",
              "        document.querySelector('#df-35fe66bd-39e8-4347-9a3d-459719e7366c button.colab-df-convert');\n",
              "      buttonEl.style.display =\n",
              "        google.colab.kernel.accessAllowed ? 'block' : 'none';\n",
              "\n",
              "      async function convertToInteractive(key) {\n",
              "        const element = document.querySelector('#df-35fe66bd-39e8-4347-9a3d-459719e7366c');\n",
              "        const dataTable =\n",
              "          await google.colab.kernel.invokeFunction('convertToInteractive',\n",
              "                                                    [key], {});\n",
              "        if (!dataTable) return;\n",
              "\n",
              "        const docLinkHtml = 'Like what you see? Visit the ' +\n",
              "          '<a target=\"_blank\" href=https://colab.research.google.com/notebooks/data_table.ipynb>data table notebook</a>'\n",
              "          + ' to learn more about interactive tables.';\n",
              "        element.innerHTML = '';\n",
              "        dataTable['output_type'] = 'display_data';\n",
              "        await google.colab.output.renderOutput(dataTable, element);\n",
              "        const docLink = document.createElement('div');\n",
              "        docLink.innerHTML = docLinkHtml;\n",
              "        element.appendChild(docLink);\n",
              "      }\n",
              "    </script>\n",
              "  </div>\n",
              "\n",
              "\n",
              "<div id=\"df-5ff97df2-f26a-4562-9392-26e8ae8997af\">\n",
              "  <button class=\"colab-df-quickchart\" onclick=\"quickchart('df-5ff97df2-f26a-4562-9392-26e8ae8997af')\"\n",
              "            title=\"Suggest charts\"\n",
              "            style=\"display:none;\">\n",
              "\n",
              "<svg xmlns=\"http://www.w3.org/2000/svg\" height=\"24px\"viewBox=\"0 0 24 24\"\n",
              "     width=\"24px\">\n",
              "    <g>\n",
              "        <path d=\"M19 3H5c-1.1 0-2 .9-2 2v14c0 1.1.9 2 2 2h14c1.1 0 2-.9 2-2V5c0-1.1-.9-2-2-2zM9 17H7v-7h2v7zm4 0h-2V7h2v10zm4 0h-2v-4h2v4z\"/>\n",
              "    </g>\n",
              "</svg>\n",
              "  </button>\n",
              "\n",
              "<style>\n",
              "  .colab-df-quickchart {\n",
              "      --bg-color: #E8F0FE;\n",
              "      --fill-color: #1967D2;\n",
              "      --hover-bg-color: #E2EBFA;\n",
              "      --hover-fill-color: #174EA6;\n",
              "      --disabled-fill-color: #AAA;\n",
              "      --disabled-bg-color: #DDD;\n",
              "  }\n",
              "\n",
              "  [theme=dark] .colab-df-quickchart {\n",
              "      --bg-color: #3B4455;\n",
              "      --fill-color: #D2E3FC;\n",
              "      --hover-bg-color: #434B5C;\n",
              "      --hover-fill-color: #FFFFFF;\n",
              "      --disabled-bg-color: #3B4455;\n",
              "      --disabled-fill-color: #666;\n",
              "  }\n",
              "\n",
              "  .colab-df-quickchart {\n",
              "    background-color: var(--bg-color);\n",
              "    border: none;\n",
              "    border-radius: 50%;\n",
              "    cursor: pointer;\n",
              "    display: none;\n",
              "    fill: var(--fill-color);\n",
              "    height: 32px;\n",
              "    padding: 0;\n",
              "    width: 32px;\n",
              "  }\n",
              "\n",
              "  .colab-df-quickchart:hover {\n",
              "    background-color: var(--hover-bg-color);\n",
              "    box-shadow: 0 1px 2px rgba(60, 64, 67, 0.3), 0 1px 3px 1px rgba(60, 64, 67, 0.15);\n",
              "    fill: var(--button-hover-fill-color);\n",
              "  }\n",
              "\n",
              "  .colab-df-quickchart-complete:disabled,\n",
              "  .colab-df-quickchart-complete:disabled:hover {\n",
              "    background-color: var(--disabled-bg-color);\n",
              "    fill: var(--disabled-fill-color);\n",
              "    box-shadow: none;\n",
              "  }\n",
              "\n",
              "  .colab-df-spinner {\n",
              "    border: 2px solid var(--fill-color);\n",
              "    border-color: transparent;\n",
              "    border-bottom-color: var(--fill-color);\n",
              "    animation:\n",
              "      spin 1s steps(1) infinite;\n",
              "  }\n",
              "\n",
              "  @keyframes spin {\n",
              "    0% {\n",
              "      border-color: transparent;\n",
              "      border-bottom-color: var(--fill-color);\n",
              "      border-left-color: var(--fill-color);\n",
              "    }\n",
              "    20% {\n",
              "      border-color: transparent;\n",
              "      border-left-color: var(--fill-color);\n",
              "      border-top-color: var(--fill-color);\n",
              "    }\n",
              "    30% {\n",
              "      border-color: transparent;\n",
              "      border-left-color: var(--fill-color);\n",
              "      border-top-color: var(--fill-color);\n",
              "      border-right-color: var(--fill-color);\n",
              "    }\n",
              "    40% {\n",
              "      border-color: transparent;\n",
              "      border-right-color: var(--fill-color);\n",
              "      border-top-color: var(--fill-color);\n",
              "    }\n",
              "    60% {\n",
              "      border-color: transparent;\n",
              "      border-right-color: var(--fill-color);\n",
              "    }\n",
              "    80% {\n",
              "      border-color: transparent;\n",
              "      border-right-color: var(--fill-color);\n",
              "      border-bottom-color: var(--fill-color);\n",
              "    }\n",
              "    90% {\n",
              "      border-color: transparent;\n",
              "      border-bottom-color: var(--fill-color);\n",
              "    }\n",
              "  }\n",
              "</style>\n",
              "\n",
              "  <script>\n",
              "    async function quickchart(key) {\n",
              "      const quickchartButtonEl =\n",
              "        document.querySelector('#' + key + ' button');\n",
              "      quickchartButtonEl.disabled = true;  // To prevent multiple clicks.\n",
              "      quickchartButtonEl.classList.add('colab-df-spinner');\n",
              "      try {\n",
              "        const charts = await google.colab.kernel.invokeFunction(\n",
              "            'suggestCharts', [key], {});\n",
              "      } catch (error) {\n",
              "        console.error('Error during call to suggestCharts:', error);\n",
              "      }\n",
              "      quickchartButtonEl.classList.remove('colab-df-spinner');\n",
              "      quickchartButtonEl.classList.add('colab-df-quickchart-complete');\n",
              "    }\n",
              "    (() => {\n",
              "      let quickchartButtonEl =\n",
              "        document.querySelector('#df-5ff97df2-f26a-4562-9392-26e8ae8997af button');\n",
              "      quickchartButtonEl.style.display =\n",
              "        google.colab.kernel.accessAllowed ? 'block' : 'none';\n",
              "    })();\n",
              "  </script>\n",
              "</div>\n",
              "\n",
              "  <div id=\"id_e1c6a8d4-0324-4cec-a1fc-2f3e22c346d3\">\n",
              "    <style>\n",
              "      .colab-df-generate {\n",
              "        background-color: #E8F0FE;\n",
              "        border: none;\n",
              "        border-radius: 50%;\n",
              "        cursor: pointer;\n",
              "        display: none;\n",
              "        fill: #1967D2;\n",
              "        height: 32px;\n",
              "        padding: 0 0 0 0;\n",
              "        width: 32px;\n",
              "      }\n",
              "\n",
              "      .colab-df-generate:hover {\n",
              "        background-color: #E2EBFA;\n",
              "        box-shadow: 0px 1px 2px rgba(60, 64, 67, 0.3), 0px 1px 3px 1px rgba(60, 64, 67, 0.15);\n",
              "        fill: #174EA6;\n",
              "      }\n",
              "\n",
              "      [theme=dark] .colab-df-generate {\n",
              "        background-color: #3B4455;\n",
              "        fill: #D2E3FC;\n",
              "      }\n",
              "\n",
              "      [theme=dark] .colab-df-generate:hover {\n",
              "        background-color: #434B5C;\n",
              "        box-shadow: 0px 1px 3px 1px rgba(0, 0, 0, 0.15);\n",
              "        filter: drop-shadow(0px 1px 2px rgba(0, 0, 0, 0.3));\n",
              "        fill: #FFFFFF;\n",
              "      }\n",
              "    </style>\n",
              "    <button class=\"colab-df-generate\" onclick=\"generateWithVariable('test_df')\"\n",
              "            title=\"Generate code using this dataframe.\"\n",
              "            style=\"display:none;\">\n",
              "\n",
              "  <svg xmlns=\"http://www.w3.org/2000/svg\" height=\"24px\"viewBox=\"0 0 24 24\"\n",
              "       width=\"24px\">\n",
              "    <path d=\"M7,19H8.4L18.45,9,17,7.55,7,17.6ZM5,21V16.75L18.45,3.32a2,2,0,0,1,2.83,0l1.4,1.43a1.91,1.91,0,0,1,.58,1.4,1.91,1.91,0,0,1-.58,1.4L9.25,21ZM18.45,9,17,7.55Zm-12,3A5.31,5.31,0,0,0,4.9,8.1,5.31,5.31,0,0,0,1,6.5,5.31,5.31,0,0,0,4.9,4.9,5.31,5.31,0,0,0,6.5,1,5.31,5.31,0,0,0,8.1,4.9,5.31,5.31,0,0,0,12,6.5,5.46,5.46,0,0,0,6.5,12Z\"/>\n",
              "  </svg>\n",
              "    </button>\n",
              "    <script>\n",
              "      (() => {\n",
              "      const buttonEl =\n",
              "        document.querySelector('#id_e1c6a8d4-0324-4cec-a1fc-2f3e22c346d3 button.colab-df-generate');\n",
              "      buttonEl.style.display =\n",
              "        google.colab.kernel.accessAllowed ? 'block' : 'none';\n",
              "\n",
              "      buttonEl.onclick = () => {\n",
              "        google.colab.notebook.generateWithVariable('test_df');\n",
              "      }\n",
              "      })();\n",
              "    </script>\n",
              "  </div>\n",
              "\n",
              "    </div>\n",
              "  </div>\n"
            ],
            "application/vnd.google.colaboratory.intrinsic+json": {
              "type": "dataframe",
              "variable_name": "test_df",
              "summary": "{\n  \"name\": \"test_df\",\n  \"rows\": 925,\n  \"fields\": [\n    {\n      \"column\": \"PID\",\n      \"properties\": {\n        \"dtype\": \"number\",\n        \"std\": 2614,\n        \"min\": 15,\n        \"max\": 9249,\n        \"num_unique_values\": 925,\n        \"samples\": [\n          2866,\n          8453,\n          2247\n        ],\n        \"semantic_type\": \"\",\n        \"description\": \"\"\n      }\n    },\n    {\n      \"column\": \"text\",\n      \"properties\": {\n        \"dtype\": \"string\",\n        \"num_unique_values\": 922,\n        \"samples\": [\n          \"\\u099a\\u09bf\\u09dc\\u09bf\\u09df\\u09be\\u0996\\u09be\\u09a8\\u09be \\u09aa\\u09cd\\u09b0\\u09be\\u09a3\\u09c0 \\u09b9\\u09bf\\u09b8\\u09c7\\u09ac\\u09c7 \\u09ac\\u09a8\\u09cd\\u09a6\\u09bf \\u0995\\u09b0\\u09be \\u09b9\\u09cb\\u0995\\u0964\",\n          \"\\u09aa\\u099a\\u09be \\u09ad\\u09be\\u09a4 \\u0996\\u09be\\u0987 \\u09ac\\u09be\\u09b9 \\u0995\\u09bf \\u0997\\u09b0\\u09cd\\u09ac\\u09c7\\u09b0 \\u09ac\\u09cd\\u09af\\u09be\\u09aa\\u09be\\u09b0\",\n          \"\\u09a4\\u09cb\\u09a6\\u09c7\\u09b0 \\u09a7\\u09b0\\u09cd\\u09ae \\u09ae\\u09be\\u09a8\\u09c7 \\u09b6\\u09c1\\u09a7\\u09c1 \\u09a8\\u09cb\\u0982\\u09b0\\u09be\\u09ae\\u09bf\\u0964\"\n        ],\n        \"semantic_type\": \"\",\n        \"description\": \"\"\n      }\n    },\n    {\n      \"column\": \"labels\",\n      \"properties\": {\n        \"dtype\": \"category\",\n        \"num_unique_values\": 6,\n        \"samples\": [\n          \"Gender Discrimination\",\n          \"Racism\",\n          \"Political\"\n        ],\n        \"semantic_type\": \"\",\n        \"description\": \"\"\n      }\n    }\n  ]\n}"
            }
          },
          "metadata": {},
          "execution_count": 204
        }
      ],
      "source": [
        "test_df"
      ]
    },
    {
      "cell_type": "code",
      "execution_count": null,
      "metadata": {
        "colab": {
          "base_uri": "https://localhost:8080/",
          "height": 424
        },
        "id": "NsbTHqkBpqc1",
        "outputId": "6fce2407-583b-4841-c3ee-c4f797340069"
      },
      "outputs": [
        {
          "output_type": "execute_result",
          "data": {
            "text/plain": [
              "       PID                                               text  \\\n",
              "1038  1039                   আমাগোরে গার্ড স্যারেই কাপায় দিছে   \n",
              "7831  7832                তোর জাতি সবসময় সমস্যার সৃষ্টি করে।   \n",
              "5563  5564                        যু্দ্ধ করবো ভারতের বিরুদ্ধে   \n",
              "1595  1596  এ হুজুরের পামু কোন জায়গায় খানকির পোলার কানসা...   \n",
              "2906  2907                          এতেরে ডিম থেরাপি দিতে হবে   \n",
              "...    ...                                                ...   \n",
              "7078  7079  ভারতীয় এনিমেল... \\nপাপা পাপা পাপা পাপা পাপা পা...   \n",
              "8782  8783                   মাগি তুরে কুত্তা দিয়া চুদান উচিত   \n",
              "4680  4681  ফতোয়া দেওয়া স্বৈরাচারের মতোই তো বর্তমানদের আচরণ   \n",
              "2680  2681   আল্লাহ পাক তাহাকে জান্নাতুল টুঙ্গিপাড়া দান করুন   \n",
              "5231  5232  হিন্দু, মুসলিম, বৌদ্ধ,খৃস্টান,শিখ,ইহুদি দিয়েতো...   \n",
              "\n",
              "                     labels  \n",
              "1038                Sarcasm  \n",
              "7831                 Racism  \n",
              "5563              Political  \n",
              "1595          Cyberbullying  \n",
              "2906                Sarcasm  \n",
              "...                     ...  \n",
              "7078  Gender Discrimination  \n",
              "8782          Cyberbullying  \n",
              "4680              Political  \n",
              "2680                Sarcasm  \n",
              "5231       Religious Hatred  \n",
              "\n",
              "[925 rows x 3 columns]"
            ],
            "text/html": [
              "\n",
              "  <div id=\"df-04443f9a-7e1f-462f-a3ea-f2cfaaa8c8c6\" class=\"colab-df-container\">\n",
              "    <div>\n",
              "<style scoped>\n",
              "    .dataframe tbody tr th:only-of-type {\n",
              "        vertical-align: middle;\n",
              "    }\n",
              "\n",
              "    .dataframe tbody tr th {\n",
              "        vertical-align: top;\n",
              "    }\n",
              "\n",
              "    .dataframe thead th {\n",
              "        text-align: right;\n",
              "    }\n",
              "</style>\n",
              "<table border=\"1\" class=\"dataframe\">\n",
              "  <thead>\n",
              "    <tr style=\"text-align: right;\">\n",
              "      <th></th>\n",
              "      <th>PID</th>\n",
              "      <th>text</th>\n",
              "      <th>labels</th>\n",
              "    </tr>\n",
              "  </thead>\n",
              "  <tbody>\n",
              "    <tr>\n",
              "      <th>1038</th>\n",
              "      <td>1039</td>\n",
              "      <td>আমাগোরে গার্ড স্যারেই কাপায় দিছে</td>\n",
              "      <td>Sarcasm</td>\n",
              "    </tr>\n",
              "    <tr>\n",
              "      <th>7831</th>\n",
              "      <td>7832</td>\n",
              "      <td>তোর জাতি সবসময় সমস্যার সৃষ্টি করে।</td>\n",
              "      <td>Racism</td>\n",
              "    </tr>\n",
              "    <tr>\n",
              "      <th>5563</th>\n",
              "      <td>5564</td>\n",
              "      <td>যু্দ্ধ করবো ভারতের বিরুদ্ধে</td>\n",
              "      <td>Political</td>\n",
              "    </tr>\n",
              "    <tr>\n",
              "      <th>1595</th>\n",
              "      <td>1596</td>\n",
              "      <td>এ হুজুরের পামু কোন জায়গায় খানকির পোলার কানসা...</td>\n",
              "      <td>Cyberbullying</td>\n",
              "    </tr>\n",
              "    <tr>\n",
              "      <th>2906</th>\n",
              "      <td>2907</td>\n",
              "      <td>এতেরে ডিম থেরাপি দিতে হবে</td>\n",
              "      <td>Sarcasm</td>\n",
              "    </tr>\n",
              "    <tr>\n",
              "      <th>...</th>\n",
              "      <td>...</td>\n",
              "      <td>...</td>\n",
              "      <td>...</td>\n",
              "    </tr>\n",
              "    <tr>\n",
              "      <th>7078</th>\n",
              "      <td>7079</td>\n",
              "      <td>ভারতীয় এনিমেল... \\nপাপা পাপা পাপা পাপা পাপা পা...</td>\n",
              "      <td>Gender Discrimination</td>\n",
              "    </tr>\n",
              "    <tr>\n",
              "      <th>8782</th>\n",
              "      <td>8783</td>\n",
              "      <td>মাগি তুরে কুত্তা দিয়া চুদান উচিত</td>\n",
              "      <td>Cyberbullying</td>\n",
              "    </tr>\n",
              "    <tr>\n",
              "      <th>4680</th>\n",
              "      <td>4681</td>\n",
              "      <td>ফতোয়া দেওয়া স্বৈরাচারের মতোই তো বর্তমানদের আচরণ</td>\n",
              "      <td>Political</td>\n",
              "    </tr>\n",
              "    <tr>\n",
              "      <th>2680</th>\n",
              "      <td>2681</td>\n",
              "      <td>আল্লাহ পাক তাহাকে জান্নাতুল টুঙ্গিপাড়া দান করুন</td>\n",
              "      <td>Sarcasm</td>\n",
              "    </tr>\n",
              "    <tr>\n",
              "      <th>5231</th>\n",
              "      <td>5232</td>\n",
              "      <td>হিন্দু, মুসলিম, বৌদ্ধ,খৃস্টান,শিখ,ইহুদি দিয়েতো...</td>\n",
              "      <td>Religious Hatred</td>\n",
              "    </tr>\n",
              "  </tbody>\n",
              "</table>\n",
              "<p>925 rows × 3 columns</p>\n",
              "</div>\n",
              "    <div class=\"colab-df-buttons\">\n",
              "\n",
              "  <div class=\"colab-df-container\">\n",
              "    <button class=\"colab-df-convert\" onclick=\"convertToInteractive('df-04443f9a-7e1f-462f-a3ea-f2cfaaa8c8c6')\"\n",
              "            title=\"Convert this dataframe to an interactive table.\"\n",
              "            style=\"display:none;\">\n",
              "\n",
              "  <svg xmlns=\"http://www.w3.org/2000/svg\" height=\"24px\" viewBox=\"0 -960 960 960\">\n",
              "    <path d=\"M120-120v-720h720v720H120Zm60-500h600v-160H180v160Zm220 220h160v-160H400v160Zm0 220h160v-160H400v160ZM180-400h160v-160H180v160Zm440 0h160v-160H620v160ZM180-180h160v-160H180v160Zm440 0h160v-160H620v160Z\"/>\n",
              "  </svg>\n",
              "    </button>\n",
              "\n",
              "  <style>\n",
              "    .colab-df-container {\n",
              "      display:flex;\n",
              "      gap: 12px;\n",
              "    }\n",
              "\n",
              "    .colab-df-convert {\n",
              "      background-color: #E8F0FE;\n",
              "      border: none;\n",
              "      border-radius: 50%;\n",
              "      cursor: pointer;\n",
              "      display: none;\n",
              "      fill: #1967D2;\n",
              "      height: 32px;\n",
              "      padding: 0 0 0 0;\n",
              "      width: 32px;\n",
              "    }\n",
              "\n",
              "    .colab-df-convert:hover {\n",
              "      background-color: #E2EBFA;\n",
              "      box-shadow: 0px 1px 2px rgba(60, 64, 67, 0.3), 0px 1px 3px 1px rgba(60, 64, 67, 0.15);\n",
              "      fill: #174EA6;\n",
              "    }\n",
              "\n",
              "    .colab-df-buttons div {\n",
              "      margin-bottom: 4px;\n",
              "    }\n",
              "\n",
              "    [theme=dark] .colab-df-convert {\n",
              "      background-color: #3B4455;\n",
              "      fill: #D2E3FC;\n",
              "    }\n",
              "\n",
              "    [theme=dark] .colab-df-convert:hover {\n",
              "      background-color: #434B5C;\n",
              "      box-shadow: 0px 1px 3px 1px rgba(0, 0, 0, 0.15);\n",
              "      filter: drop-shadow(0px 1px 2px rgba(0, 0, 0, 0.3));\n",
              "      fill: #FFFFFF;\n",
              "    }\n",
              "  </style>\n",
              "\n",
              "    <script>\n",
              "      const buttonEl =\n",
              "        document.querySelector('#df-04443f9a-7e1f-462f-a3ea-f2cfaaa8c8c6 button.colab-df-convert');\n",
              "      buttonEl.style.display =\n",
              "        google.colab.kernel.accessAllowed ? 'block' : 'none';\n",
              "\n",
              "      async function convertToInteractive(key) {\n",
              "        const element = document.querySelector('#df-04443f9a-7e1f-462f-a3ea-f2cfaaa8c8c6');\n",
              "        const dataTable =\n",
              "          await google.colab.kernel.invokeFunction('convertToInteractive',\n",
              "                                                    [key], {});\n",
              "        if (!dataTable) return;\n",
              "\n",
              "        const docLinkHtml = 'Like what you see? Visit the ' +\n",
              "          '<a target=\"_blank\" href=https://colab.research.google.com/notebooks/data_table.ipynb>data table notebook</a>'\n",
              "          + ' to learn more about interactive tables.';\n",
              "        element.innerHTML = '';\n",
              "        dataTable['output_type'] = 'display_data';\n",
              "        await google.colab.output.renderOutput(dataTable, element);\n",
              "        const docLink = document.createElement('div');\n",
              "        docLink.innerHTML = docLinkHtml;\n",
              "        element.appendChild(docLink);\n",
              "      }\n",
              "    </script>\n",
              "  </div>\n",
              "\n",
              "\n",
              "<div id=\"df-331295f3-85d6-4528-a4e1-d82442314477\">\n",
              "  <button class=\"colab-df-quickchart\" onclick=\"quickchart('df-331295f3-85d6-4528-a4e1-d82442314477')\"\n",
              "            title=\"Suggest charts\"\n",
              "            style=\"display:none;\">\n",
              "\n",
              "<svg xmlns=\"http://www.w3.org/2000/svg\" height=\"24px\"viewBox=\"0 0 24 24\"\n",
              "     width=\"24px\">\n",
              "    <g>\n",
              "        <path d=\"M19 3H5c-1.1 0-2 .9-2 2v14c0 1.1.9 2 2 2h14c1.1 0 2-.9 2-2V5c0-1.1-.9-2-2-2zM9 17H7v-7h2v7zm4 0h-2V7h2v10zm4 0h-2v-4h2v4z\"/>\n",
              "    </g>\n",
              "</svg>\n",
              "  </button>\n",
              "\n",
              "<style>\n",
              "  .colab-df-quickchart {\n",
              "      --bg-color: #E8F0FE;\n",
              "      --fill-color: #1967D2;\n",
              "      --hover-bg-color: #E2EBFA;\n",
              "      --hover-fill-color: #174EA6;\n",
              "      --disabled-fill-color: #AAA;\n",
              "      --disabled-bg-color: #DDD;\n",
              "  }\n",
              "\n",
              "  [theme=dark] .colab-df-quickchart {\n",
              "      --bg-color: #3B4455;\n",
              "      --fill-color: #D2E3FC;\n",
              "      --hover-bg-color: #434B5C;\n",
              "      --hover-fill-color: #FFFFFF;\n",
              "      --disabled-bg-color: #3B4455;\n",
              "      --disabled-fill-color: #666;\n",
              "  }\n",
              "\n",
              "  .colab-df-quickchart {\n",
              "    background-color: var(--bg-color);\n",
              "    border: none;\n",
              "    border-radius: 50%;\n",
              "    cursor: pointer;\n",
              "    display: none;\n",
              "    fill: var(--fill-color);\n",
              "    height: 32px;\n",
              "    padding: 0;\n",
              "    width: 32px;\n",
              "  }\n",
              "\n",
              "  .colab-df-quickchart:hover {\n",
              "    background-color: var(--hover-bg-color);\n",
              "    box-shadow: 0 1px 2px rgba(60, 64, 67, 0.3), 0 1px 3px 1px rgba(60, 64, 67, 0.15);\n",
              "    fill: var(--button-hover-fill-color);\n",
              "  }\n",
              "\n",
              "  .colab-df-quickchart-complete:disabled,\n",
              "  .colab-df-quickchart-complete:disabled:hover {\n",
              "    background-color: var(--disabled-bg-color);\n",
              "    fill: var(--disabled-fill-color);\n",
              "    box-shadow: none;\n",
              "  }\n",
              "\n",
              "  .colab-df-spinner {\n",
              "    border: 2px solid var(--fill-color);\n",
              "    border-color: transparent;\n",
              "    border-bottom-color: var(--fill-color);\n",
              "    animation:\n",
              "      spin 1s steps(1) infinite;\n",
              "  }\n",
              "\n",
              "  @keyframes spin {\n",
              "    0% {\n",
              "      border-color: transparent;\n",
              "      border-bottom-color: var(--fill-color);\n",
              "      border-left-color: var(--fill-color);\n",
              "    }\n",
              "    20% {\n",
              "      border-color: transparent;\n",
              "      border-left-color: var(--fill-color);\n",
              "      border-top-color: var(--fill-color);\n",
              "    }\n",
              "    30% {\n",
              "      border-color: transparent;\n",
              "      border-left-color: var(--fill-color);\n",
              "      border-top-color: var(--fill-color);\n",
              "      border-right-color: var(--fill-color);\n",
              "    }\n",
              "    40% {\n",
              "      border-color: transparent;\n",
              "      border-right-color: var(--fill-color);\n",
              "      border-top-color: var(--fill-color);\n",
              "    }\n",
              "    60% {\n",
              "      border-color: transparent;\n",
              "      border-right-color: var(--fill-color);\n",
              "    }\n",
              "    80% {\n",
              "      border-color: transparent;\n",
              "      border-right-color: var(--fill-color);\n",
              "      border-bottom-color: var(--fill-color);\n",
              "    }\n",
              "    90% {\n",
              "      border-color: transparent;\n",
              "      border-bottom-color: var(--fill-color);\n",
              "    }\n",
              "  }\n",
              "</style>\n",
              "\n",
              "  <script>\n",
              "    async function quickchart(key) {\n",
              "      const quickchartButtonEl =\n",
              "        document.querySelector('#' + key + ' button');\n",
              "      quickchartButtonEl.disabled = true;  // To prevent multiple clicks.\n",
              "      quickchartButtonEl.classList.add('colab-df-spinner');\n",
              "      try {\n",
              "        const charts = await google.colab.kernel.invokeFunction(\n",
              "            'suggestCharts', [key], {});\n",
              "      } catch (error) {\n",
              "        console.error('Error during call to suggestCharts:', error);\n",
              "      }\n",
              "      quickchartButtonEl.classList.remove('colab-df-spinner');\n",
              "      quickchartButtonEl.classList.add('colab-df-quickchart-complete');\n",
              "    }\n",
              "    (() => {\n",
              "      let quickchartButtonEl =\n",
              "        document.querySelector('#df-331295f3-85d6-4528-a4e1-d82442314477 button');\n",
              "      quickchartButtonEl.style.display =\n",
              "        google.colab.kernel.accessAllowed ? 'block' : 'none';\n",
              "    })();\n",
              "  </script>\n",
              "</div>\n",
              "\n",
              "  <div id=\"id_652250ce-f82d-4ecd-a4f9-88c9e0fa3ce1\">\n",
              "    <style>\n",
              "      .colab-df-generate {\n",
              "        background-color: #E8F0FE;\n",
              "        border: none;\n",
              "        border-radius: 50%;\n",
              "        cursor: pointer;\n",
              "        display: none;\n",
              "        fill: #1967D2;\n",
              "        height: 32px;\n",
              "        padding: 0 0 0 0;\n",
              "        width: 32px;\n",
              "      }\n",
              "\n",
              "      .colab-df-generate:hover {\n",
              "        background-color: #E2EBFA;\n",
              "        box-shadow: 0px 1px 2px rgba(60, 64, 67, 0.3), 0px 1px 3px 1px rgba(60, 64, 67, 0.15);\n",
              "        fill: #174EA6;\n",
              "      }\n",
              "\n",
              "      [theme=dark] .colab-df-generate {\n",
              "        background-color: #3B4455;\n",
              "        fill: #D2E3FC;\n",
              "      }\n",
              "\n",
              "      [theme=dark] .colab-df-generate:hover {\n",
              "        background-color: #434B5C;\n",
              "        box-shadow: 0px 1px 3px 1px rgba(0, 0, 0, 0.15);\n",
              "        filter: drop-shadow(0px 1px 2px rgba(0, 0, 0, 0.3));\n",
              "        fill: #FFFFFF;\n",
              "      }\n",
              "    </style>\n",
              "    <button class=\"colab-df-generate\" onclick=\"generateWithVariable('val_df')\"\n",
              "            title=\"Generate code using this dataframe.\"\n",
              "            style=\"display:none;\">\n",
              "\n",
              "  <svg xmlns=\"http://www.w3.org/2000/svg\" height=\"24px\"viewBox=\"0 0 24 24\"\n",
              "       width=\"24px\">\n",
              "    <path d=\"M7,19H8.4L18.45,9,17,7.55,7,17.6ZM5,21V16.75L18.45,3.32a2,2,0,0,1,2.83,0l1.4,1.43a1.91,1.91,0,0,1,.58,1.4,1.91,1.91,0,0,1-.58,1.4L9.25,21ZM18.45,9,17,7.55Zm-12,3A5.31,5.31,0,0,0,4.9,8.1,5.31,5.31,0,0,0,1,6.5,5.31,5.31,0,0,0,4.9,4.9,5.31,5.31,0,0,0,6.5,1,5.31,5.31,0,0,0,8.1,4.9,5.31,5.31,0,0,0,12,6.5,5.46,5.46,0,0,0,6.5,12Z\"/>\n",
              "  </svg>\n",
              "    </button>\n",
              "    <script>\n",
              "      (() => {\n",
              "      const buttonEl =\n",
              "        document.querySelector('#id_652250ce-f82d-4ecd-a4f9-88c9e0fa3ce1 button.colab-df-generate');\n",
              "      buttonEl.style.display =\n",
              "        google.colab.kernel.accessAllowed ? 'block' : 'none';\n",
              "\n",
              "      buttonEl.onclick = () => {\n",
              "        google.colab.notebook.generateWithVariable('val_df');\n",
              "      }\n",
              "      })();\n",
              "    </script>\n",
              "  </div>\n",
              "\n",
              "    </div>\n",
              "  </div>\n"
            ],
            "application/vnd.google.colaboratory.intrinsic+json": {
              "type": "dataframe",
              "variable_name": "val_df",
              "summary": "{\n  \"name\": \"val_df\",\n  \"rows\": 925,\n  \"fields\": [\n    {\n      \"column\": \"PID\",\n      \"properties\": {\n        \"dtype\": \"number\",\n        \"std\": 2685,\n        \"min\": 1,\n        \"max\": 9241,\n        \"num_unique_values\": 925,\n        \"samples\": [\n          2437,\n          1019,\n          5264\n        ],\n        \"semantic_type\": \"\",\n        \"description\": \"\"\n      }\n    },\n    {\n      \"column\": \"text\",\n      \"properties\": {\n        \"dtype\": \"string\",\n        \"num_unique_values\": 920,\n        \"samples\": [\n          \"\\u09b9\\u09bf\\u09a8\\u09cd\\u09a6\\u09c1 \\u09a7\\u09b0\\u09cd\\u09ae \\u09b9\\u0987\\u09b2 \\u0985\\u09b6\\u09cd\\u09b2\\u09c0\\u09b2 \\u09ac\\u09c7\\u09b9\\u09be\\u09df\\u09be\\u09aa\\u09a8\\u09be \\u09a7\\u09b0\\u09cd\\u09ae\",\n          \"\\u0986\\u0995\\u09be\\u09b6 \\u09ad\\u09b0\\u09be \\u09a4\\u09be\\u09b0\\u09be,,,, \\u0987\\u09a1\\u09c7\\u09a8 \\u0995\\u09b2\\u09c7\\u099c \\u09b8\\u09c7\\u09b0\\u09be\\u0964\",\n          \"\\u09ad\\u09be\\u09b0\\u09a4\\u09c7\\u09b0 \\u09a6\\u09be\\u09b2\\u09be\\u09b2 \\u09ae\\u09c1\\u0995\\u09cd\\u09a4 \\u09ac\\u09be\\u0982\\u09b2\\u09be\\u09a6\\u09c7\\u09b6 \\u099a\\u09be\\u0987\"\n        ],\n        \"semantic_type\": \"\",\n        \"description\": \"\"\n      }\n    },\n    {\n      \"column\": \"labels\",\n      \"properties\": {\n        \"dtype\": \"category\",\n        \"num_unique_values\": 6,\n        \"samples\": [\n          \"Sarcasm\",\n          \"Racism\",\n          \"Gender Discrimination\"\n        ],\n        \"semantic_type\": \"\",\n        \"description\": \"\"\n      }\n    }\n  ]\n}"
            }
          },
          "metadata": {},
          "execution_count": 205
        }
      ],
      "source": [
        "val_df"
      ]
    },
    {
      "cell_type": "code",
      "execution_count": null,
      "metadata": {
        "colab": {
          "base_uri": "https://localhost:8080/",
          "height": 304
        },
        "id": "w4VW351225YK",
        "outputId": "5b85241e-c5df-4d59-b967-297b66364532"
      },
      "outputs": [
        {
          "output_type": "execute_result",
          "data": {
            "text/plain": [
              "labels\n",
              "Cyberbullying            2002\n",
              "Sarcasm                  1888\n",
              "Political                 971\n",
              "Religious Hatred          882\n",
              "Gender Discrimination     801\n",
              "Racism                    792\n",
              "Name: count, dtype: int64"
            ],
            "text/html": [
              "<div>\n",
              "<style scoped>\n",
              "    .dataframe tbody tr th:only-of-type {\n",
              "        vertical-align: middle;\n",
              "    }\n",
              "\n",
              "    .dataframe tbody tr th {\n",
              "        vertical-align: top;\n",
              "    }\n",
              "\n",
              "    .dataframe thead th {\n",
              "        text-align: right;\n",
              "    }\n",
              "</style>\n",
              "<table border=\"1\" class=\"dataframe\">\n",
              "  <thead>\n",
              "    <tr style=\"text-align: right;\">\n",
              "      <th></th>\n",
              "      <th>count</th>\n",
              "    </tr>\n",
              "    <tr>\n",
              "      <th>labels</th>\n",
              "      <th></th>\n",
              "    </tr>\n",
              "  </thead>\n",
              "  <tbody>\n",
              "    <tr>\n",
              "      <th>Cyberbullying</th>\n",
              "      <td>2002</td>\n",
              "    </tr>\n",
              "    <tr>\n",
              "      <th>Sarcasm</th>\n",
              "      <td>1888</td>\n",
              "    </tr>\n",
              "    <tr>\n",
              "      <th>Political</th>\n",
              "      <td>971</td>\n",
              "    </tr>\n",
              "    <tr>\n",
              "      <th>Religious Hatred</th>\n",
              "      <td>882</td>\n",
              "    </tr>\n",
              "    <tr>\n",
              "      <th>Gender Discrimination</th>\n",
              "      <td>801</td>\n",
              "    </tr>\n",
              "    <tr>\n",
              "      <th>Racism</th>\n",
              "      <td>792</td>\n",
              "    </tr>\n",
              "  </tbody>\n",
              "</table>\n",
              "</div><br><label><b>dtype:</b> int64</label>"
            ]
          },
          "metadata": {},
          "execution_count": 206
        }
      ],
      "source": [
        "train_df['labels'].value_counts()"
      ]
    },
    {
      "cell_type": "code",
      "execution_count": null,
      "metadata": {
        "id": "OQn_iSz0pfX8"
      },
      "outputs": [],
      "source": []
    },
    {
      "cell_type": "code",
      "execution_count": null,
      "metadata": {
        "id": "ooOv9QZtnLIF"
      },
      "outputs": [],
      "source": [
        "\n",
        "le = LabelEncoder()\n",
        "train_df['labels'] = le.fit_transform(train_df['labels'])"
      ]
    },
    {
      "cell_type": "code",
      "execution_count": null,
      "metadata": {
        "colab": {
          "base_uri": "https://localhost:8080/",
          "height": 335
        },
        "id": "a89Bf4LpnigU",
        "outputId": "f4690b0e-1033-4a7f-c1aa-292ba61f5996"
      },
      "outputs": [
        {
          "output_type": "execute_result",
          "data": {
            "text/plain": [
              "labels\n",
              "0    2002\n",
              "5    1888\n",
              "2     971\n",
              "4     882\n",
              "1     801\n",
              "3     792\n",
              "6      64\n",
              "Name: count, dtype: int64"
            ],
            "text/html": [
              "<div>\n",
              "<style scoped>\n",
              "    .dataframe tbody tr th:only-of-type {\n",
              "        vertical-align: middle;\n",
              "    }\n",
              "\n",
              "    .dataframe tbody tr th {\n",
              "        vertical-align: top;\n",
              "    }\n",
              "\n",
              "    .dataframe thead th {\n",
              "        text-align: right;\n",
              "    }\n",
              "</style>\n",
              "<table border=\"1\" class=\"dataframe\">\n",
              "  <thead>\n",
              "    <tr style=\"text-align: right;\">\n",
              "      <th></th>\n",
              "      <th>count</th>\n",
              "    </tr>\n",
              "    <tr>\n",
              "      <th>labels</th>\n",
              "      <th></th>\n",
              "    </tr>\n",
              "  </thead>\n",
              "  <tbody>\n",
              "    <tr>\n",
              "      <th>0</th>\n",
              "      <td>2002</td>\n",
              "    </tr>\n",
              "    <tr>\n",
              "      <th>5</th>\n",
              "      <td>1888</td>\n",
              "    </tr>\n",
              "    <tr>\n",
              "      <th>2</th>\n",
              "      <td>971</td>\n",
              "    </tr>\n",
              "    <tr>\n",
              "      <th>4</th>\n",
              "      <td>882</td>\n",
              "    </tr>\n",
              "    <tr>\n",
              "      <th>1</th>\n",
              "      <td>801</td>\n",
              "    </tr>\n",
              "    <tr>\n",
              "      <th>3</th>\n",
              "      <td>792</td>\n",
              "    </tr>\n",
              "    <tr>\n",
              "      <th>6</th>\n",
              "      <td>64</td>\n",
              "    </tr>\n",
              "  </tbody>\n",
              "</table>\n",
              "</div><br><label><b>dtype:</b> int64</label>"
            ]
          },
          "metadata": {},
          "execution_count": 208
        }
      ],
      "source": [
        "train_df['labels'].value_counts()"
      ]
    },
    {
      "cell_type": "markdown",
      "metadata": {
        "id": "bvNeR4lTVnK0"
      },
      "source": [
        "### Loading `train_sentences` and `train_labels`"
      ]
    },
    {
      "cell_type": "code",
      "execution_count": null,
      "metadata": {
        "id": "EufQZx2dbKMT"
      },
      "outputs": [],
      "source": [
        "# Get the lists of sentences and their labels.\n",
        "train_sentences = train_df['text'].values\n",
        "train_labels = train_df['labels'].values"
      ]
    },
    {
      "cell_type": "markdown",
      "metadata": {
        "id": "wnZSg5f7ZWs_"
      },
      "source": [
        "## Saving Class Names"
      ]
    },
    {
      "cell_type": "code",
      "source": [
        "data.labels.unique()"
      ],
      "metadata": {
        "colab": {
          "base_uri": "https://localhost:8080/"
        },
        "id": "smtyCmRqsi-d",
        "outputId": "88dbf29b-5a8a-4665-ccdb-a4242e79f799"
      },
      "execution_count": null,
      "outputs": [
        {
          "output_type": "execute_result",
          "data": {
            "text/plain": [
              "array(['Cyberbullying', 'Religious Hatred', 'Gender Discrimination',\n",
              "       'Sarcasm', 'Political', 'Racism', nan], dtype=object)"
            ]
          },
          "metadata": {},
          "execution_count": 210
        }
      ]
    },
    {
      "cell_type": "code",
      "execution_count": null,
      "metadata": {
        "id": "83tTT-wbZa1o"
      },
      "outputs": [],
      "source": [
        "class_names = [\n",
        "            'Cyberbullying', 'Religious Hatred', 'Gender Discrimination', 'Sarcasm', 'Political', 'Racism'\n",
        "]"
      ]
    },
    {
      "cell_type": "markdown",
      "metadata": {
        "id": "ToUbAgZ9ap63"
      },
      "source": [
        "## Loading the validation data"
      ]
    },
    {
      "cell_type": "code",
      "execution_count": null,
      "metadata": {
        "id": "-CgK81lGDPKC"
      },
      "outputs": [],
      "source": [
        "val_df['labels'] = le.transform(val_df['labels'])"
      ]
    },
    {
      "cell_type": "code",
      "execution_count": null,
      "metadata": {
        "colab": {
          "base_uri": "https://localhost:8080/",
          "height": 335
        },
        "id": "Yfgn-E6JDZQZ",
        "outputId": "2afb12dc-5809-4991-dc93-b1a5bca32a68"
      },
      "outputs": [
        {
          "output_type": "execute_result",
          "data": {
            "text/plain": [
              "labels\n",
              "0    228\n",
              "5    211\n",
              "2    153\n",
              "4    116\n",
              "1    111\n",
              "3     99\n",
              "6      7\n",
              "Name: count, dtype: int64"
            ],
            "text/html": [
              "<div>\n",
              "<style scoped>\n",
              "    .dataframe tbody tr th:only-of-type {\n",
              "        vertical-align: middle;\n",
              "    }\n",
              "\n",
              "    .dataframe tbody tr th {\n",
              "        vertical-align: top;\n",
              "    }\n",
              "\n",
              "    .dataframe thead th {\n",
              "        text-align: right;\n",
              "    }\n",
              "</style>\n",
              "<table border=\"1\" class=\"dataframe\">\n",
              "  <thead>\n",
              "    <tr style=\"text-align: right;\">\n",
              "      <th></th>\n",
              "      <th>count</th>\n",
              "    </tr>\n",
              "    <tr>\n",
              "      <th>labels</th>\n",
              "      <th></th>\n",
              "    </tr>\n",
              "  </thead>\n",
              "  <tbody>\n",
              "    <tr>\n",
              "      <th>0</th>\n",
              "      <td>228</td>\n",
              "    </tr>\n",
              "    <tr>\n",
              "      <th>5</th>\n",
              "      <td>211</td>\n",
              "    </tr>\n",
              "    <tr>\n",
              "      <th>2</th>\n",
              "      <td>153</td>\n",
              "    </tr>\n",
              "    <tr>\n",
              "      <th>4</th>\n",
              "      <td>116</td>\n",
              "    </tr>\n",
              "    <tr>\n",
              "      <th>1</th>\n",
              "      <td>111</td>\n",
              "    </tr>\n",
              "    <tr>\n",
              "      <th>3</th>\n",
              "      <td>99</td>\n",
              "    </tr>\n",
              "    <tr>\n",
              "      <th>6</th>\n",
              "      <td>7</td>\n",
              "    </tr>\n",
              "  </tbody>\n",
              "</table>\n",
              "</div><br><label><b>dtype:</b> int64</label>"
            ]
          },
          "metadata": {},
          "execution_count": 213
        }
      ],
      "source": [
        "\n",
        "val_df['labels'].value_counts()"
      ]
    },
    {
      "cell_type": "markdown",
      "metadata": {
        "id": "DMdNNVqrDCuN"
      },
      "source": [
        "### Loading `val_sentences` and `val_labels`"
      ]
    },
    {
      "cell_type": "code",
      "execution_count": null,
      "metadata": {
        "id": "LvGhjUkaDCuO"
      },
      "outputs": [],
      "source": [
        "# Get the lists of sentences and their labels.\n",
        "val_sentences = val_df['text'].values\n",
        "val_labels = val_df['labels'].values"
      ]
    },
    {
      "cell_type": "code",
      "execution_count": null,
      "metadata": {
        "colab": {
          "base_uri": "https://localhost:8080/"
        },
        "id": "fCYTtWipswfd",
        "outputId": "97341036-540f-4fef-bea9-986fb554b001"
      },
      "outputs": [
        {
          "output_type": "execute_result",
          "data": {
            "text/plain": [
              "array([5, 3, 2, 0, 5, 4, 3, 0, 1, 0, 4, 4, 3, 4, 5, 3, 5, 1, 0, 1, 3, 0,\n",
              "       3, 1, 0, 0, 0, 5, 2, 1, 4, 1, 1, 4, 5, 2, 0, 0, 0, 5, 2, 5, 5, 1,\n",
              "       5, 5, 3, 0, 5, 0, 4, 3, 1, 0, 3, 0, 5, 0, 5, 2, 5, 0, 3, 2, 3, 5,\n",
              "       5, 2, 2, 4, 5, 5, 5, 5, 3, 1, 5, 4, 4, 5, 0, 0, 4, 1, 3, 4, 2, 2,\n",
              "       0, 2, 4, 0, 5, 2, 0, 3, 5, 4, 5, 2, 0, 0, 0, 0, 0, 5, 0, 5, 0, 0,\n",
              "       2, 4, 2, 5, 4, 3, 0, 4, 3, 2, 2, 4, 5, 5, 0, 0, 0, 5, 2, 4, 1, 2,\n",
              "       1, 5, 5, 2, 0, 4, 5, 0, 2, 0, 3, 4, 0, 1, 5, 0, 5, 0, 0, 0, 5, 1,\n",
              "       5, 1, 5, 5, 0, 2, 3, 0, 0, 2, 0, 1, 0, 0, 1, 4, 5, 5, 2, 2, 0, 0,\n",
              "       3, 1, 1, 4, 0, 6, 1, 5, 5, 2, 2, 4, 0, 5, 0, 2, 5, 1, 0, 0, 0, 2,\n",
              "       3, 2, 5, 0, 0, 5, 3, 1, 2, 5, 5, 2, 5, 1, 5, 5, 0, 5, 0, 0, 5, 0,\n",
              "       5, 2, 3, 4, 0, 1, 1, 0, 2, 1, 0, 4, 0, 0, 0, 2, 2, 1, 1, 1, 2, 0,\n",
              "       3, 5, 0, 0, 5, 1, 5, 2, 1, 2, 2, 2, 0, 2, 3, 3, 3, 2, 0, 2, 3, 1,\n",
              "       3, 0, 0, 1, 5, 5, 3, 5, 3, 4, 0, 0, 5, 0, 5, 4, 2, 1, 0, 0, 0, 3,\n",
              "       5, 2, 1, 4, 2, 2, 2, 3, 5, 0, 5, 5, 1, 4, 3, 0, 4, 0, 2, 1, 0, 4,\n",
              "       0, 2, 5, 0, 5, 2, 1, 1, 5, 2, 2, 1, 4, 4, 4, 5, 4, 5, 2, 5, 4, 0,\n",
              "       1, 3, 2, 0, 1, 5, 4, 5, 3, 4, 1, 4, 0, 6, 1, 0, 3, 2, 3, 3, 0, 0,\n",
              "       2, 0, 0, 0, 0, 2, 2, 0, 5, 5, 1, 2, 4, 6, 0, 0, 1, 2, 5, 0, 5, 3,\n",
              "       5, 0, 5, 3, 5, 5, 3, 3, 0, 2, 0, 5, 4, 0, 5, 4, 5, 5, 4, 2, 5, 0,\n",
              "       5, 0, 0, 2, 0, 5, 0, 5, 0, 4, 0, 1, 2, 1, 0, 1, 0, 5, 6, 3, 4, 0,\n",
              "       2, 2, 0, 1, 5, 0, 1, 5, 0, 4, 3, 4, 5, 1, 5, 5, 3, 0, 3, 3, 1, 1,\n",
              "       3, 2, 1, 1, 5, 2, 0, 1, 1, 3, 5, 5, 5, 2, 0, 5, 5, 1, 5, 4, 5, 0,\n",
              "       4, 0, 2, 0, 0, 5, 4, 2, 4, 2, 0, 0, 0, 0, 0, 2, 2, 5, 1, 0, 3, 1,\n",
              "       5, 0, 2, 4, 2, 1, 5, 0, 2, 5, 5, 2, 5, 0, 3, 3, 5, 0, 3, 1, 0, 0,\n",
              "       1, 5, 3, 2, 0, 2, 0, 1, 1, 0, 4, 3, 4, 1, 2, 2, 2, 5, 2, 3, 0, 2,\n",
              "       5, 3, 2, 4, 0, 2, 0, 5, 5, 0, 4, 5, 1, 2, 0, 3, 4, 3, 5, 0, 0, 0,\n",
              "       5, 4, 4, 4, 0, 5, 3, 4, 0, 1, 0, 5, 4, 0, 5, 1, 3, 1, 2, 4, 0, 2,\n",
              "       1, 0, 4, 2, 1, 2, 5, 2, 2, 0, 2, 5, 0, 2, 1, 4, 5, 4, 0, 0, 5, 3,\n",
              "       4, 5, 3, 0, 1, 2, 3, 5, 1, 1, 3, 1, 1, 3, 0, 2, 2, 3, 3, 4, 4, 4,\n",
              "       5, 2, 0, 2, 5, 5, 5, 5, 3, 1, 1, 5, 5, 0, 0, 2, 0, 5, 0, 4, 5, 2,\n",
              "       0, 4, 0, 3, 5, 4, 4, 2, 5, 4, 5, 5, 5, 5, 5, 5, 5, 0, 2, 3, 4, 5,\n",
              "       5, 3, 4, 2, 2, 4, 2, 2, 2, 5, 2, 4, 5, 4, 1, 0, 0, 3, 4, 2, 5, 5,\n",
              "       2, 0, 0, 4, 4, 1, 3, 0, 1, 1, 0, 2, 0, 3, 3, 4, 1, 5, 2, 0, 0, 4,\n",
              "       2, 3, 3, 0, 2, 2, 1, 0, 3, 1, 3, 0, 5, 4, 0, 4, 3, 2, 5, 5, 0, 3,\n",
              "       4, 3, 5, 4, 0, 5, 2, 0, 3, 4, 0, 6, 0, 4, 2, 4, 5, 0, 3, 5, 1, 2,\n",
              "       3, 0, 2, 5, 3, 3, 2, 1, 5, 0, 0, 0, 0, 5, 0, 4, 2, 4, 1, 2, 4, 2,\n",
              "       0, 0, 5, 0, 0, 5, 2, 1, 3, 2, 0, 4, 5, 4, 4, 5, 5, 0, 4, 1, 2, 4,\n",
              "       0, 1, 0, 5, 5, 2, 2, 5, 1, 0, 5, 5, 0, 3, 5, 2, 0, 5, 1, 5, 2, 0,\n",
              "       6, 4, 2, 5, 0, 4, 1, 1, 4, 2, 1, 0, 5, 5, 5, 1, 4, 5, 2, 2, 4, 3,\n",
              "       4, 2, 4, 5, 2, 5, 0, 3, 2, 5, 1, 5, 0, 4, 5, 5, 1, 5, 5, 0, 1, 5,\n",
              "       0, 5, 5, 5, 0, 1, 1, 2, 3, 1, 5, 2, 3, 2, 6, 4, 0, 0, 1, 0, 0, 0,\n",
              "       5, 3, 4, 2, 5, 5, 5, 4, 2, 4, 0, 4, 2, 5, 5, 5, 0, 1, 2, 0, 5, 4,\n",
              "       2, 1, 3, 3, 5, 0, 0, 0, 5, 0, 3, 0, 3, 5, 0, 5, 0, 2, 1, 0, 2, 5,\n",
              "       4])"
            ]
          },
          "metadata": {},
          "execution_count": 215
        }
      ],
      "source": [
        "val_labels"
      ]
    },
    {
      "cell_type": "markdown",
      "metadata": {
        "id": "z_WjMTuibsrf"
      },
      "source": [
        "## Helper Functions"
      ]
    },
    {
      "cell_type": "markdown",
      "metadata": {
        "id": "Bef28eHNV-_d"
      },
      "source": [
        "#### 1) Update Interval Function"
      ]
    },
    {
      "cell_type": "code",
      "execution_count": null,
      "metadata": {
        "id": "lBK0ujfEbMir"
      },
      "outputs": [],
      "source": [
        "def good_update_interval(total_iters, num_desired_updates):\n",
        "    '''\n",
        "    This function will try to pick an intelligent progress update interval\n",
        "    based on the magnitude of the total iterations.\n",
        "\n",
        "    Parameters:\n",
        "      `total_iters` - The number of iterations in the for-loop.\n",
        "      `num_desired_updates` - How many times we want to see an update over the\n",
        "                              course of the for-loop.\n",
        "    '''\n",
        "    # Divide the total iterations by the desired number of updates. Most likely\n",
        "    # this will be some ugly number.\n",
        "    exact_interval = total_iters / num_desired_updates\n",
        "\n",
        "    # The `round` function has the ability to round down a number to, e.g., the\n",
        "    # nearest thousandth: round(exact_interval, -3)\n",
        "    #\n",
        "    # To determine the magnitude to round to, find the magnitude of the total,\n",
        "    # and then go one magnitude below that.\n",
        "\n",
        "    # Get the order of magnitude of the total.\n",
        "    order_of_mag = len(str(total_iters)) - 1\n",
        "\n",
        "    # Our update interval should be rounded to an order of magnitude smaller.\n",
        "    round_mag = order_of_mag - 1\n",
        "\n",
        "    # Round down and cast to an int.\n",
        "    update_interval = int(round(exact_interval, -round_mag))\n",
        "\n",
        "    # Don't allow the interval to be zero!\n",
        "    if update_interval == 0:\n",
        "        update_interval = 1\n",
        "\n",
        "    return update_interval"
      ]
    },
    {
      "cell_type": "markdown",
      "metadata": {
        "id": "eMGycwGAWFyO"
      },
      "source": [
        "#### 2) Format time function"
      ]
    },
    {
      "cell_type": "code",
      "execution_count": null,
      "metadata": {
        "id": "c9zVyNQLm-3q"
      },
      "outputs": [],
      "source": [
        "def format_time(elapsed):\n",
        "    '''\n",
        "    Takes a time in seconds and returns a string hh:mm:ss\n",
        "    '''\n",
        "    # Round to the nearest second.\n",
        "    elapsed_rounded = int(round((elapsed)))\n",
        "\n",
        "    # Format as hh:mm:ss\n",
        "    return str(datetime.timedelta(seconds=elapsed_rounded))\n"
      ]
    },
    {
      "cell_type": "markdown",
      "metadata": {
        "id": "EBAo04ENWw3n"
      },
      "source": [
        "#### 3) Make Smart Batches function"
      ]
    },
    {
      "cell_type": "code",
      "execution_count": null,
      "metadata": {
        "id": "nof-AUeoiZc2"
      },
      "outputs": [],
      "source": [
        "def make_smart_batches(text_samples, labels, batch_size,tokenizer,max_input_length):\n",
        "    '''\n",
        "    This function combines all of the required steps to prepare batches.\n",
        "    '''\n",
        "\n",
        "    print('Creating Smart Batches from {:,} examples with batch size {:,}...\\n'.format(len(text_samples), batch_size))\n",
        "\n",
        "    # =========================\n",
        "    #   Tokenize & Truncate\n",
        "    # =========================\n",
        "\n",
        "    full_input_ids = []\n",
        "\n",
        "    # Tokenize all training examples\n",
        "    print('Tokenizing {:,} samples...'.format(len(labels)))\n",
        "\n",
        "    # Choose an interval on which to print progress updates.\n",
        "    update_interval = good_update_interval(total_iters=len(labels), num_desired_updates=10)\n",
        "\n",
        "    # For each training example...\n",
        "    for text in text_samples:\n",
        "\n",
        "        # Report progress.\n",
        "        if ((len(full_input_ids) % update_interval) == 0):\n",
        "            print('  Tokenized {:,} samples.'.format(len(full_input_ids)))\n",
        "\n",
        "        # Tokenize the sample.\n",
        "        input_ids = tokenizer.encode(text=text,              # Text to encode.\n",
        "                                    add_special_tokens=True, # Do add specials.\n",
        "                                    max_length=max_input_length,\n",
        "                                    truncation=True,         # Do Truncate!\n",
        "                                    padding=False)           # DO NOT pad.\n",
        "\n",
        "        # Add the tokenized result to our list.\n",
        "        full_input_ids.append(input_ids)\n",
        "\n",
        "    print('DONE.')\n",
        "    print('{:>10,} samples\\n'.format(len(full_input_ids)))\n",
        "\n",
        "    # =========================\n",
        "    #      Select Batches\n",
        "    # =========================\n",
        "\n",
        "    # Sort the two lists together by the length of the input sequence.\n",
        "    samples = sorted(zip(full_input_ids, labels), key=lambda x: len(x[0]))\n",
        "\n",
        "    print('{:>10,} samples after sorting\\n'.format(len(samples)))\n",
        "\n",
        "    import random\n",
        "\n",
        "    # List of batches that we'll construct.\n",
        "    batch_ordered_sentences = []\n",
        "    batch_ordered_labels = []\n",
        "\n",
        "    print('Creating batches of size {:}...'.format(batch_size))\n",
        "\n",
        "    # Choose an interval on which to print progress updates.\n",
        "    update_interval = good_update_interval(total_iters=len(samples), num_desired_updates=10)\n",
        "\n",
        "    # Loop over all of the input samples...\n",
        "    while len(samples) > 0:\n",
        "\n",
        "        # Report progress.\n",
        "        if ((len(batch_ordered_sentences) % update_interval) == 0 \\\n",
        "            and not len(batch_ordered_sentences) == 0):\n",
        "            print('  Selected {:,} batches.'.format(len(batch_ordered_sentences)))\n",
        "\n",
        "        # `to_take` is our actual batch size. It will be `batch_size` until\n",
        "        # we get to the last batch, which may be smaller.\n",
        "        to_take = min(batch_size, len(samples))\n",
        "\n",
        "        # Pick a random index in the list of remaining samples to start\n",
        "        # our batch at.\n",
        "        select = random.randint(0, len(samples) - to_take)\n",
        "\n",
        "        # Select a contiguous batch of samples starting at `select`.\n",
        "        #print(\"Selecting batch from {:} to {:}\".format(select, select+to_take))\n",
        "        batch = samples[select:(select + to_take)]\n",
        "\n",
        "        #print(\"Batch length:\", len(batch))\n",
        "\n",
        "        # Each sample is a tuple--split them apart to create a separate list of\n",
        "        # sequences and a list of labels for this batch.\n",
        "        batch_ordered_sentences.append([s[0] for s in batch])\n",
        "        batch_ordered_labels.append([s[1] for s in batch])\n",
        "\n",
        "        # Remove these samples from the list.\n",
        "        del samples[select:select + to_take]\n",
        "\n",
        "    print('\\n  DONE - Selected {:,} batches.\\n'.format(len(batch_ordered_sentences)))\n",
        "\n",
        "    # =========================\n",
        "    #        Add Padding\n",
        "    # =========================\n",
        "\n",
        "    print('Padding out sequences within each batch...')\n",
        "\n",
        "    py_inputs = []\n",
        "    py_attn_masks = []\n",
        "    py_labels = []\n",
        "\n",
        "    # For each batch...\n",
        "    for (batch_inputs, batch_labels) in zip(batch_ordered_sentences, batch_ordered_labels):\n",
        "\n",
        "        # New version of the batch, this time with padded sequences and now with\n",
        "        # attention masks defined.\n",
        "        batch_padded_inputs = []\n",
        "        batch_attn_masks = []\n",
        "\n",
        "        # First, find the longest sample in the batch.\n",
        "        # Note that the sequences do currently include the special tokens!\n",
        "        max_size = max([len(sen) for sen in batch_inputs])\n",
        "\n",
        "        # For each input in this batch...\n",
        "        for sen in batch_inputs:\n",
        "\n",
        "            # How many pad tokens do we need to add?\n",
        "            num_pads = max_size - len(sen)\n",
        "\n",
        "            # Add `num_pads` padding tokens to the end of the sequence.\n",
        "            padded_input = sen + [tokenizer.pad_token_id]*num_pads\n",
        "\n",
        "            # Define the attention mask--it's just a `1` for every real token\n",
        "            # and a `0` for every padding token.\n",
        "            attn_mask = [1] * len(sen) + [0] * num_pads\n",
        "\n",
        "            # Add the padded results to the batch.\n",
        "            batch_padded_inputs.append(padded_input)\n",
        "            batch_attn_masks.append(attn_mask)\n",
        "\n",
        "        # Our batch has been padded, so we need to save this updated batch.\n",
        "        # We also need the inputs to be PyTorch tensors, so we'll do that here.\n",
        "        # Todo - Michael's code specified \"dtype=torch.long\"\n",
        "        py_inputs.append(torch.tensor(batch_padded_inputs))\n",
        "        py_attn_masks.append(torch.tensor(batch_attn_masks))\n",
        "        py_labels.append(torch.tensor(batch_labels))\n",
        "\n",
        "    print('  DONE.')\n",
        "\n",
        "    # Return the smart-batched dataset!\n",
        "    return (py_inputs, py_attn_masks, py_labels)\n"
      ]
    },
    {
      "cell_type": "code",
      "execution_count": null,
      "metadata": {
        "id": "ggH8AkAEaV9N"
      },
      "outputs": [],
      "source": [
        "def make_smart_batches_on_test(text_samples, text_ids, batch_size,tokenizer,max_input_length):\n",
        "    '''\n",
        "    This function combines all of the required steps to prepare batches.\n",
        "    '''\n",
        "\n",
        "    print('Creating Smart Batches from {:,} examples with batch size {:,}...\\n'.format(len(text_samples), batch_size))\n",
        "\n",
        "    # =========================\n",
        "    #   Tokenize & Truncate\n",
        "    # =========================\n",
        "\n",
        "    full_input_ids = []\n",
        "\n",
        "    # Tokenize all training examples\n",
        "    print('Tokenizing {:,} samples...'.format(len(text_samples)))\n",
        "\n",
        "    # Choose an interval on which to print progress updates.\n",
        "    update_interval = good_update_interval(total_iters=len(text_samples), num_desired_updates=10)\n",
        "\n",
        "    # For each training example...\n",
        "    for text in text_samples:\n",
        "\n",
        "        # Report progress.\n",
        "        if ((len(full_input_ids) % update_interval) == 0):\n",
        "            print('  Tokenized {:,} samples.'.format(len(full_input_ids)))\n",
        "\n",
        "        # Tokenize the sample.\n",
        "        input_ids = tokenizer.encode(text=text,              # Text to encode.\n",
        "                                    add_special_tokens=True, # Do add specials.\n",
        "                                    max_length=max_input_length,\n",
        "                                    truncation=True,         # Do Truncate!\n",
        "                                    padding=False)           # DO NOT pad.\n",
        "\n",
        "        # Add the tokenized result to our list.\n",
        "        full_input_ids.append(input_ids)\n",
        "\n",
        "    print('DONE.')\n",
        "    print('{:>10,} samples\\n'.format(len(full_input_ids)))\n",
        "\n",
        "    # =========================\n",
        "    #      Select Batches\n",
        "    # =========================\n",
        "\n",
        "    # Sort the two lists together by the length of the input sequence.\n",
        "    samples = sorted(zip(full_input_ids, text_ids), key=lambda x: len(x[0]))\n",
        "\n",
        "    print('{:>10,} samples after sorting\\n'.format(len(samples)))\n",
        "\n",
        "    import random\n",
        "\n",
        "    # List of batches that we'll construct.\n",
        "    batch_ordered_sentences = []\n",
        "    batch_ordered_ids = []\n",
        "\n",
        "    print('Creating batches of size {:}...'.format(batch_size))\n",
        "\n",
        "    # Choose an interval on which to print progress updates.\n",
        "    update_interval = good_update_interval(total_iters=len(samples), num_desired_updates=10)\n",
        "\n",
        "    # Loop over all of the input samples...\n",
        "    while len(samples) > 0:\n",
        "\n",
        "        # Report progress.\n",
        "        if ((len(batch_ordered_sentences) % update_interval) == 0 \\\n",
        "            and not len(batch_ordered_sentences) == 0):\n",
        "            print('  Selected {:,} batches.'.format(len(batch_ordered_sentences)))\n",
        "\n",
        "        # `to_take` is our actual batch size. It will be `batch_size` until\n",
        "        # we get to the last batch, which may be smaller.\n",
        "        to_take = min(batch_size, len(samples))\n",
        "\n",
        "        # Pick a random index in the list of remaining samples to start\n",
        "        # our batch at.\n",
        "        select = random.randint(0, len(samples) - to_take)\n",
        "\n",
        "        # Select a contiguous batch of samples starting at `select`.\n",
        "        #print(\"Selecting batch from {:} to {:}\".format(select, select+to_take))\n",
        "        batch = samples[select:(select + to_take)]\n",
        "\n",
        "        #print(\"Batch length:\", len(batch))\n",
        "\n",
        "        # Each sample is a tuple--split them apart to create a separate list of\n",
        "        # sequences and a list of labels for this batch.\n",
        "        batch_ordered_sentences.append([s[0] for s in batch])\n",
        "        batch_ordered_ids.append([s[1] for s in batch])\n",
        "\n",
        "        # Remove these samples from the list.\n",
        "        del samples[select:select + to_take]\n",
        "\n",
        "    print('\\n  DONE - Selected {:,} batches.\\n'.format(len(batch_ordered_sentences)))\n",
        "\n",
        "    # =========================\n",
        "    #        Add Padding\n",
        "    # =========================\n",
        "\n",
        "    print('Padding out sequences within each batch...')\n",
        "\n",
        "    py_inputs = []\n",
        "    py_attn_masks = []\n",
        "    py_ids = []\n",
        "\n",
        "    # For each batch...\n",
        "    for (batch_inputs, batch_ids) in zip(batch_ordered_sentences, batch_ordered_ids):\n",
        "\n",
        "        # New version of the batch, this time with padded sequences and now with\n",
        "        # attention masks defined.\n",
        "        batch_padded_inputs = []\n",
        "        batch_attn_masks = []\n",
        "\n",
        "        # First, find the longest sample in the batch.\n",
        "        # Note that the sequences do currently include the special tokens!\n",
        "        max_size = max([len(sen) for sen in batch_inputs])\n",
        "\n",
        "        # For each input in this batch...\n",
        "        for sen in batch_inputs:\n",
        "\n",
        "            # How many pad tokens do we need to add?\n",
        "            num_pads = max_size - len(sen)\n",
        "\n",
        "            # Add `num_pads` padding tokens to the end of the sequence.\n",
        "            padded_input = sen + [tokenizer.pad_token_id]*num_pads\n",
        "\n",
        "            # Define the attention mask--it's just a `1` for every real token\n",
        "            # and a `0` for every padding token.\n",
        "            attn_mask = [1] * len(sen) + [0] * num_pads\n",
        "\n",
        "            # Add the padded results to the batch.\n",
        "            batch_padded_inputs.append(padded_input)\n",
        "            batch_attn_masks.append(attn_mask)\n",
        "\n",
        "        # Our batch has been padded, so we need to save this updated batch.\n",
        "        # We also need the inputs to be PyTorch tensors, so we'll do that here.\n",
        "        # Todo - Michael's code specified \"dtype=torch.long\"\n",
        "        py_inputs.append(torch.tensor(batch_padded_inputs))\n",
        "        py_attn_masks.append(torch.tensor(batch_attn_masks))\n",
        "        py_ids.append(torch.tensor(batch_ids))\n",
        "\n",
        "    print('  DONE.')\n",
        "\n",
        "    # Return the smart-batched dataset!\n",
        "    return (py_inputs, py_attn_masks, py_ids)\n"
      ]
    },
    {
      "cell_type": "markdown",
      "metadata": {
        "id": "x6EHYpUbz8fo"
      },
      "source": [
        "#### 4) Function for calculating accuracy per class"
      ]
    },
    {
      "cell_type": "code",
      "execution_count": null,
      "metadata": {
        "id": "Knuw_DOei8RO"
      },
      "outputs": [],
      "source": [
        "def accuracy_per_class(preds, labels , label_dict):\n",
        "\n",
        "    preds_flat = np.argmax(preds, axis=1).flatten()\n",
        "    labels_flat = labels.flatten()\n",
        "\n",
        "    for label in np.unique(labels_flat):\n",
        "        y_preds = preds_flat[labels_flat==label]\n",
        "        y_true = labels_flat[labels_flat==label]\n",
        "        print(f'Class: {label_dict[label]}')\n",
        "        print(f'Accuracy: {round(100*len(y_preds[y_preds==label])/len(y_true) , 2)}\\n')"
      ]
    },
    {
      "cell_type": "markdown",
      "metadata": {
        "id": "sOWk_8lpWO17"
      },
      "source": [
        "### 5) Function for plotting training history"
      ]
    },
    {
      "cell_type": "code",
      "execution_count": null,
      "metadata": {
        "id": "R7-FAyfnWM65"
      },
      "outputs": [],
      "source": [
        "def plot_training_history(history):\n",
        "  fig, (ax1, ax2) = plt.subplots(1, 2, figsize=(18, 6))\n",
        "\n",
        "  ax1.plot(history['train_loss'], label='train loss')\n",
        "  ax1.plot(history['val_loss'], label='validation loss')\n",
        "\n",
        "  ax1.xaxis.set_major_locator(MaxNLocator(integer=True))\n",
        "  ax1.set_ylim([-0.05, 1.05])\n",
        "  ax1.legend()\n",
        "  ax1.set_ylabel('Loss')\n",
        "  ax1.set_xlabel('Epoch')\n",
        "\n",
        "  ax2.plot(history['train_acc'], label='train accuracy')\n",
        "  ax2.plot(history['val_acc'], label='validation accuracy')\n",
        "\n",
        "  ax2.xaxis.set_major_locator(MaxNLocator(integer=True))\n",
        "  ax2.set_ylim([-0.05, 1.05])\n",
        "  ax2.legend()\n",
        "\n",
        "  ax2.set_ylabel('Accuracy')\n",
        "  ax2.set_xlabel('Epoch')\n",
        "\n",
        "  fig.suptitle('Training history')"
      ]
    },
    {
      "cell_type": "markdown",
      "metadata": {
        "id": "A7QOTORh_JHa"
      },
      "source": [
        "### 6) Function to check accuracy"
      ]
    },
    {
      "cell_type": "code",
      "execution_count": null,
      "metadata": {
        "id": "yzRDobQ6MwaR"
      },
      "outputs": [],
      "source": [
        "def check_accuracy(predictions,true_labels):\n",
        "  # Combine the results across the batches.\n",
        "  predictions = np.concatenate(predictions, axis=0)\n",
        "  true_labels = np.concatenate(true_labels, axis=0)\n",
        "\n",
        "  # Choose the label with the highest score as our prediction.\n",
        "  preds = np.argmax(predictions, axis=1).flatten()\n",
        "\n",
        "  # Calculate simple flat accuracy -- number correct over total number.\n",
        "  accuracy = (preds == true_labels).mean()\n",
        "\n",
        "  return accuracy"
      ]
    },
    {
      "cell_type": "markdown",
      "metadata": {
        "id": "D7TtFkV5_Olz"
      },
      "source": [
        "### 7) Function to evaluate model"
      ]
    },
    {
      "cell_type": "code",
      "execution_count": null,
      "metadata": {
        "id": "TSBNdYHYMA7Q"
      },
      "outputs": [],
      "source": [
        "def eval_model(model,py_inputs, py_attn_masks, py_labels):\n",
        "# Prediction on test set\n",
        "  t0 = time.time()\n",
        "\n",
        "  print('Doing validation on {:,} sentences...'.format(len(py_labels)))\n",
        "\n",
        "  # Put model in evaluation mode\n",
        "  model.eval()\n",
        "\n",
        "  # Tracking variables\n",
        "  predictions , true_labels = [], []\n",
        "\n",
        "  # Choose an interval on which to print progress updates.\n",
        "  update_interval = good_update_interval(total_iters=len(py_inputs), num_desired_updates=10)\n",
        "\n",
        "  # Measure elapsed time.\n",
        "  t0 = time.time()\n",
        "  total_val_loss = 0\n",
        "\n",
        "  # Put model in evaluation mode\n",
        "  model.eval()\n",
        "\n",
        "  # For each batch of training data...\n",
        "  for step in range(0, len(py_inputs)):\n",
        "\n",
        "      # Progress update every 100 batches.\n",
        "      if step % update_interval == 0 and not step == 0:\n",
        "          # Calculate elapsed time in minutes.\n",
        "          elapsed = format_time(time.time() - t0)\n",
        "\n",
        "          # Calculate the time remaining based on our progress.\n",
        "          steps_per_sec = (time.time() - t0) / step\n",
        "          remaining_sec = steps_per_sec * (len(py_inputs) - step)\n",
        "          remaining = format_time(remaining_sec)\n",
        "\n",
        "          # Report progress.\n",
        "          print('  Batch {:>7,}  of  {:>7,}.    Elapsed: {:}.  Remaining: {:}'.format(step, len(py_inputs), elapsed, remaining))\n",
        "\n",
        "      # Copy the batch to the GPU.\n",
        "      b_input_ids = py_inputs[step].to(device)\n",
        "      b_input_mask = py_attn_masks[step].to(device)\n",
        "      b_labels = py_labels[step].to(device)\n",
        "\n",
        "      # Telling the model not to compute or store gradients, saving memory and\n",
        "      # speeding up prediction\n",
        "      with torch.no_grad():\n",
        "        output = model(b_input_ids,\n",
        "                           #  token_type_ids=None,\n",
        "                             attention_mask=b_input_mask,\n",
        "                             labels=b_labels)\n",
        "\n",
        "\n",
        "      logits = output.logits\n",
        "      loss = output.loss\n",
        "      # Move logits and labels to CPU\n",
        "      logits = logits.detach().cpu().numpy()\n",
        "      label_ids = b_labels.to('cpu').numpy()\n",
        "\n",
        "      # Store predictions and true labels\n",
        "      predictions.append(logits)\n",
        "      true_labels.append(label_ids)\n",
        "\n",
        "      total_val_loss += loss.item()\n",
        "\n",
        "  val_accuracy = check_accuracy(predictions,true_labels)\n",
        "\n",
        "  validation_time = format_time(time.time() - t0)\n",
        "\n",
        "  # Calculate the average loss over all of the batches.\n",
        "  avg_val_loss = total_val_loss / len(py_inputs)\n",
        "\n",
        "\n",
        "  # print('Accuracy: {:.3f}'.format(val_accuracy))\n",
        "  return (avg_val_loss,val_accuracy,validation_time)\n"
      ]
    },
    {
      "cell_type": "markdown",
      "metadata": {
        "id": "Lrt_FyJIbC8j"
      },
      "source": [
        "### 8) Function for making predictions on our test dataset"
      ]
    },
    {
      "cell_type": "code",
      "execution_count": null,
      "metadata": {
        "id": "eylCkH2Zipq5"
      },
      "outputs": [],
      "source": [
        "def get_predictions(py_inputs, py_attn_masks, py_labels):\n",
        "\n",
        "  print('Predicting labels for {:,} test batches...'.format(len(py_labels)))\n",
        "\n",
        "  # Put model in evaluation mode\n",
        "  model.eval()\n",
        "\n",
        "  # Tracking variables\n",
        "  predictions , true_labels = [], []\n",
        "\n",
        "  # Choose an interval on which to print progress updates.\n",
        "  update_interval = good_update_interval(total_iters=len(py_inputs), num_desired_updates=10)\n",
        "\n",
        "  # Measure elapsed time.\n",
        "  t0 = time.time()\n",
        "\n",
        "  # Put model in evaluation mode\n",
        "  model.eval()\n",
        "\n",
        "  # For each batch of training data...\n",
        "  for step in range(0, len(py_inputs)):\n",
        "\n",
        "      # Progress update every 100 batches.\n",
        "      if step % update_interval == 0 and not step == 0:\n",
        "          # Calculate elapsed time in minutes.\n",
        "          elapsed = format_time(time.time() - t0)\n",
        "\n",
        "          # Calculate the time remaining based on our progress.\n",
        "          steps_per_sec = (time.time() - t0) / step\n",
        "          remaining_sec = steps_per_sec * (len(py_inputs) - step)\n",
        "          remaining = format_time(remaining_sec)\n",
        "\n",
        "          # Report progress.\n",
        "          print('  Batch {:>7,}  of  {:>7,}.    Elapsed: {:}.  Remaining: {:}'.format(step, len(py_inputs), elapsed, remaining))\n",
        "\n",
        "      # Copy the batch to the GPU.\n",
        "      b_input_ids = py_inputs[step].to(device)\n",
        "      b_input_mask = py_attn_masks[step].to(device)\n",
        "      b_labels = py_labels[step].to(device)\n",
        "\n",
        "      # Telling the model not to compute or store gradients, saving memory and\n",
        "      # speeding up prediction\n",
        "      with torch.no_grad():\n",
        "          # Forward pass, calculate logit predictions\n",
        "          outputs = model(b_input_ids, b_input_mask)\n",
        "\n",
        "      logits = outputs.logits\n",
        "\n",
        "      # Move logits and labels to CPU\n",
        "      logits = logits.detach().cpu().numpy()\n",
        "      label_ids = b_labels.to('cpu').numpy()\n",
        "\n",
        "      # Store predictions and true labels\n",
        "      predictions.append(logits)\n",
        "      true_labels.append(label_ids)\n",
        "      # Combine the results across the batches.\n",
        "  predictions = np.concatenate(predictions, axis=0)\n",
        "  true_labels = np.concatenate(true_labels, axis=0)\n",
        "\n",
        "      # Choose the label with the highest score as our prediction.\n",
        "  preds = np.argmax(predictions, axis=1).flatten()\n",
        "\n",
        "  return (preds,true_labels)"
      ]
    },
    {
      "cell_type": "markdown",
      "metadata": {
        "id": "eiRNCS-EbZmy"
      },
      "source": [
        "### 9) Function for making predictions on test dataset(without labels)"
      ]
    },
    {
      "cell_type": "code",
      "execution_count": null,
      "metadata": {
        "id": "RIuwhVSmZvkd"
      },
      "outputs": [],
      "source": [
        "def get_predictions_test(py_inputs, py_attn_masks,py_ids):\n",
        "\n",
        "  print('Predicting labels for {:,} test batches...'.format(len(py_inputs)))\n",
        "\n",
        "  # Put model in evaluation mode\n",
        "  model.eval()\n",
        "\n",
        "  # Tracking variables\n",
        "  predictions , true_labels ,ids = [], [] , []\n",
        "\n",
        "  # Choose an interval on which to print progress updates.\n",
        "  update_interval = good_update_interval(total_iters=len(py_inputs), num_desired_updates=10)\n",
        "\n",
        "  # Measure elapsed time.\n",
        "  t0 = time.time()\n",
        "\n",
        "  # Put model in evaluation mode\n",
        "  model.eval()\n",
        "\n",
        "  # For each batch of training data...\n",
        "  for step in range(0, len(py_inputs)):\n",
        "\n",
        "      # Progress update every 100 batches.\n",
        "      if step % update_interval == 0 and not step == 0:\n",
        "          # Calculate elapsed time in minutes.\n",
        "          elapsed = format_time(time.time() - t0)\n",
        "\n",
        "          # Calculate the time remaining based on our progress.\n",
        "          steps_per_sec = (time.time() - t0) / step\n",
        "          remaining_sec = steps_per_sec * (len(py_inputs) - step)\n",
        "          remaining = format_time(remaining_sec)\n",
        "\n",
        "          # Report progress.\n",
        "          print('  Batch {:>7,}  of  {:>7,}.    Elapsed: {:}.  Remaining: {:}'.format(step, len(py_inputs), elapsed, remaining))\n",
        "\n",
        "      # Copy the batch to the GPU.\n",
        "      b_input_ids = py_inputs[step].to(device)\n",
        "      b_input_mask = py_attn_masks[step].to(device)\n",
        "      b_ids = py_ids[step].to(device)\n",
        "\n",
        "      # Telling the model not to compute or store gradients, saving memory and\n",
        "      # speeding up prediction\n",
        "      with torch.no_grad():\n",
        "          # Forward pass, calculate logit predictions\n",
        "          outputs = model(b_input_ids, b_input_mask)\n",
        "\n",
        "      logits = outputs.logits\n",
        "\n",
        "      # Move logits and labels to CPU\n",
        "      logits = logits.detach().cpu().numpy()\n",
        "      b_ids = b_ids.detach().cpu().numpy()\n",
        "      # Store predictions\n",
        "      predictions.append(logits)\n",
        "      ids.append(b_ids)\n",
        "      # Combine the results across the batches.\n",
        "  predictions = np.concatenate(predictions, axis=0)\n",
        "  ids = np.concatenate(ids,axis=0)\n",
        "  # Choose the label with the highest score as our prediction.\n",
        "  preds = np.argmax(predictions, axis=1).flatten()\n",
        "\n",
        "  return ids,preds"
      ]
    },
    {
      "cell_type": "markdown",
      "metadata": {
        "id": "4IM8r_ddYZZS"
      },
      "source": [
        "### 10) Confusion Matrix Helper Function"
      ]
    },
    {
      "cell_type": "code",
      "execution_count": null,
      "metadata": {
        "id": "DqNaS8SrBox5"
      },
      "outputs": [],
      "source": [
        "def show_confusion_matrix(confusion_matrix, class_names):\n",
        "\n",
        "  cm = confusion_matrix.copy()\n",
        "\n",
        "  cell_counts = cm.flatten()\n",
        "\n",
        "  cm_row_norm = cm / cm.sum(axis=1)[:, np.newaxis]\n",
        "\n",
        "  row_percentages = [\"{0:.2f}\".format(value) for value in cm_row_norm.flatten()]\n",
        "\n",
        "  cell_labels = [f\"{cnt}\\n{per}\" for cnt, per in zip(cell_counts, row_percentages)]\n",
        "  cell_labels = np.asarray(cell_labels).reshape(cm.shape[0], cm.shape[1])\n",
        "\n",
        "  df_cm = pd.DataFrame(cm_row_norm, index=class_names, columns=class_names)\n",
        "\n",
        "  hmap = sns.heatmap(df_cm, annot=cell_labels, fmt=\"\", cmap=\"Blues\")\n",
        "  hmap.yaxis.set_ticklabels(hmap.yaxis.get_ticklabels(), rotation=0, ha='right')\n",
        "  hmap.xaxis.set_ticklabels(hmap.xaxis.get_ticklabels(), rotation=30, ha='right')\n",
        "  plt.ylabel('True Sign')\n",
        "  plt.xlabel('Predicted Sign');"
      ]
    },
    {
      "cell_type": "markdown",
      "metadata": {
        "id": "OVs3Jb3Vb89i"
      },
      "source": [
        "## Smart Batching of the training data"
      ]
    },
    {
      "cell_type": "code",
      "execution_count": null,
      "metadata": {
        "colab": {
          "base_uri": "https://localhost:8080/"
        },
        "id": "fIlwEvcMb4pb",
        "outputId": "ea60ac3f-4d87-422c-b4ed-b6195ac01db4"
      },
      "outputs": [
        {
          "output_type": "stream",
          "name": "stdout",
          "text": [
            "Loading distilbert/distilbert-base-uncased tokenizer...\n"
          ]
        },
        {
          "output_type": "stream",
          "name": "stderr",
          "text": [
            "/usr/local/lib/python3.10/dist-packages/transformers/tokenization_utils_base.py:1601: FutureWarning: `clean_up_tokenization_spaces` was not set. It will be set to `True` by default. This behavior will be depracted in transformers v4.45, and will be then set to `False` by default. For more details check this issue: https://github.com/huggingface/transformers/issues/31884\n",
            "  warnings.warn(\n"
          ]
        }
      ],
      "source": [
        "#model_name = 'sagorsarker/bangla-bert-base'\n",
        "\n",
        "#model_name = 'google-bert/bert-base-multilingual-cased'\n",
        "\n",
        "model_name = 'distilbert/distilbert-base-uncased'\n",
        "\n",
        "# Load the BERT tokenizer.\n",
        "print(f'Loading {model_name} tokenizer...')\n",
        "tokenizer = AutoTokenizer.from_pretrained(model_name, do_lower_case=False)"
      ]
    },
    {
      "cell_type": "code",
      "execution_count": null,
      "metadata": {
        "id": "cWNt4eOLofmF"
      },
      "outputs": [],
      "source": [
        "lengths = []\n",
        "for text in train_sentences:\n",
        "  lengths.append(len(text))"
      ]
    },
    {
      "cell_type": "code",
      "execution_count": null,
      "metadata": {
        "colab": {
          "base_uri": "https://localhost:8080/",
          "height": 54
        },
        "id": "hbdGRA3Bo02O",
        "outputId": "e213f38b-1160-457c-8cb3-ccfd4b6c5b5a"
      },
      "outputs": [
        {
          "output_type": "display_data",
          "data": {
            "text/plain": [
              "<Figure size 1200x600 with 1 Axes>"
            ],
            "image/png": "[encoded data removed]"
          },
          "metadata": {}
        }
      ],
      "source": [
        "\n",
        "# Use plot styling from seaborn.\n",
        "sns.set(style='darkgrid')\n",
        "\n",
        "# Increase the plot size and font size.\n",
        "sns.set(font_scale=1.5)\n",
        "plt.rcParams[\"figure.figsize\"] = (12,6)\n",
        "\n",
        "plt.scatter(range(0, len(lengths)), lengths, marker=\"|\")\n",
        "\n",
        "plt.xlabel('Sample Number')\n",
        "plt.ylabel('Sequence Length')\n",
        "plt.title('Samples BEFORE Tokenizing')\n",
        "\n",
        "plt.show()"
      ]
    },
    {
      "cell_type": "markdown",
      "metadata": {
        "id": "9rMhLNhPcZjU"
      },
      "source": [
        "### Tokenizing the sequences"
      ]
    },
    {
      "cell_type": "code",
      "execution_count": null,
      "metadata": {
        "id": "t7JsLi3EdEje"
      },
      "outputs": [],
      "source": [
        "max_input_length = 300"
      ]
    },
    {
      "cell_type": "code",
      "execution_count": null,
      "metadata": {
        "colab": {
          "base_uri": "https://localhost:8080/"
        },
        "id": "J968o8RJcUEd",
        "outputId": "15c53580-3058-4278-bb57-e6cb72cff69c"
      },
      "outputs": [
        {
          "output_type": "stream",
          "name": "stdout",
          "text": [
            "Tokenizing 7,400 training samples...\n",
            "  Tokenized 0 samples.\n",
            "  Tokenized 700 samples.\n",
            "  Tokenized 1,400 samples.\n",
            "  Tokenized 2,100 samples.\n",
            "  Tokenized 2,800 samples.\n",
            "  Tokenized 3,500 samples.\n",
            "  Tokenized 4,200 samples.\n",
            "  Tokenized 4,900 samples.\n",
            "  Tokenized 5,600 samples.\n",
            "  Tokenized 6,300 samples.\n",
            "  Tokenized 7,000 samples.\n",
            "DONE.\n",
            "     7,400 samples\n"
          ]
        }
      ],
      "source": [
        "full_input_ids = []\n",
        "labels = []\n",
        "\n",
        "# Tokenize all training examples\n",
        "print('Tokenizing {:,} training samples...'.format(len(train_sentences)))\n",
        "\n",
        "# Choose an interval on which to print progress updates.\n",
        "update_interval = good_update_interval(total_iters=len(train_sentences), num_desired_updates=10)\n",
        "\n",
        "# For each training example...\n",
        "for text in train_sentences:\n",
        "\n",
        "    # Report progress.\n",
        "    if ((len(full_input_ids) % update_interval) == 0):\n",
        "        print('  Tokenized {:,} samples.'.format(len(full_input_ids)))\n",
        "\n",
        "    # Tokenize the sentence.\n",
        "    input_ids = tokenizer.encode(text=text,\n",
        "                                 add_special_tokens=True,\n",
        "                                 max_length=max_input_length,\n",
        "                                 truncation=True,\n",
        "                                 padding=False)\n",
        "\n",
        "    # Add the tokenized result to our list.\n",
        "    full_input_ids.append(input_ids)\n",
        "\n",
        "print('DONE.')\n",
        "print('{:>10,} samples'.format(len(full_input_ids)))"
      ]
    },
    {
      "cell_type": "code",
      "execution_count": null,
      "metadata": {
        "id": "rZzhO2tZeXur"
      },
      "outputs": [],
      "source": [
        "# Get all of the lengths.\n",
        "unsorted_lengths = [len(x) for x in full_input_ids]"
      ]
    },
    {
      "cell_type": "code",
      "execution_count": null,
      "metadata": {
        "colab": {
          "base_uri": "https://localhost:8080/",
          "height": 54
        },
        "id": "x7c_mYuVed_H",
        "outputId": "78087dcd-3a57-4eb2-c3e7-46ab36f752d5"
      },
      "outputs": [
        {
          "output_type": "display_data",
          "data": {
            "text/plain": [
              "<Figure size 1200x600 with 1 Axes>"
            ],
            "image/png": "[encoded data removed]"
          },
          "metadata": {}
        }
      ],
      "source": [
        "\n",
        "# Use plot styling from seaborn.\n",
        "sns.set(style='darkgrid')\n",
        "\n",
        "# Increase the plot size and font size.\n",
        "sns.set(font_scale=1.5)\n",
        "plt.rcParams[\"figure.figsize\"] = (12,6)\n",
        "\n",
        "plt.scatter(range(0, len(unsorted_lengths)), unsorted_lengths, marker=\"|\")\n",
        "\n",
        "plt.xlabel('Sample Number')\n",
        "plt.ylabel('Sequence Length')\n",
        "plt.title('Samples BEFORE Sorting')\n",
        "\n",
        "plt.show()"
      ]
    },
    {
      "cell_type": "code",
      "execution_count": null,
      "metadata": {
        "id": "7PaeohUVegmv"
      },
      "outputs": [],
      "source": [
        "# Sort the two lists together by the length of the input sequence.\n",
        "train_samples = sorted(zip(full_input_ids, train_labels), key=lambda x: len(x[0]))"
      ]
    },
    {
      "cell_type": "code",
      "execution_count": null,
      "metadata": {
        "colab": {
          "base_uri": "https://localhost:8080/"
        },
        "id": "_9nyx-BtepE4",
        "outputId": "4063caf0-8b7e-41a4-b73e-9ac4160b3081"
      },
      "outputs": [
        {
          "output_type": "execute_result",
          "data": {
            "text/plain": [
              "[([101, 100, 102], 0),\n",
              " ([101, 100, 102], 0),\n",
              " ([101, 100, 102], 0),\n",
              " ([101, 100, 102], 5),\n",
              " ([101, 100, 102], 5)]"
            ]
          },
          "metadata": {},
          "execution_count": 235
        }
      ],
      "source": [
        "train_samples[0:5]"
      ]
    },
    {
      "cell_type": "code",
      "execution_count": null,
      "metadata": {
        "colab": {
          "base_uri": "https://localhost:8080/"
        },
        "id": "rBxJhEieetFh",
        "outputId": "dced9afc-352f-4281-a734-6235b15aaed8"
      },
      "outputs": [
        {
          "output_type": "stream",
          "name": "stdout",
          "text": [
            "Shortest sample: 3\n",
            "Longest sample: 300\n"
          ]
        }
      ],
      "source": [
        "print('Shortest sample:', len(train_samples[0][0]))\n",
        "print('Longest sample:', len(train_samples[-1][0]))"
      ]
    },
    {
      "cell_type": "code",
      "execution_count": null,
      "metadata": {
        "id": "P44bFOI-e7hW"
      },
      "outputs": [],
      "source": [
        "# Get the new list of lengths after sorting.\n",
        "sorted_lengths = [len(s[0]) for s in train_samples]"
      ]
    },
    {
      "cell_type": "code",
      "execution_count": null,
      "metadata": {
        "colab": {
          "base_uri": "https://localhost:8080/",
          "height": 54
        },
        "id": "9P5ZX99le_G1",
        "outputId": "8cbf6392-e066-47da-9e3a-ecb547acd4dd"
      },
      "outputs": [
        {
          "output_type": "display_data",
          "data": {
            "text/plain": [
              "<Figure size 1200x600 with 1 Axes>"
            ],
            "image/png": "[encoded data removed]"
          },
          "metadata": {}
        }
      ],
      "source": [
        "\n",
        "\n",
        "plt.plot(range(0, len(sorted_lengths)), sorted_lengths)\n",
        "\n",
        "plt.xlabel('Sample Number')\n",
        "plt.ylabel('Sequence Length')\n",
        "plt.title('Samples after Sorting')\n",
        "\n",
        "plt.show()"
      ]
    },
    {
      "cell_type": "markdown",
      "metadata": {
        "id": "Eh1z0xugfF2t"
      },
      "source": [
        "### Random Batch Selections"
      ]
    },
    {
      "cell_type": "code",
      "execution_count": null,
      "metadata": {
        "colab": {
          "base_uri": "https://localhost:8080/"
        },
        "id": "gPrYkFMcgm5H",
        "outputId": "60e36f98-19a7-4937-bbec-68bd7ba47c12"
      },
      "outputs": [
        {
          "output_type": "execute_result",
          "data": {
            "text/plain": [
              "([101, 100, 102], 0)"
            ]
          },
          "metadata": {},
          "execution_count": 239
        }
      ],
      "source": [
        "train_samples[0]"
      ]
    },
    {
      "cell_type": "code",
      "execution_count": null,
      "metadata": {
        "id": "isMxwgezfAvO"
      },
      "outputs": [],
      "source": [
        "batch_size = 16"
      ]
    },
    {
      "cell_type": "code",
      "execution_count": null,
      "metadata": {
        "colab": {
          "base_uri": "https://localhost:8080/"
        },
        "id": "s0tjD8pIfJ0S",
        "outputId": "b6361437-dcc6-468e-d048-97fab1c10c8e"
      },
      "outputs": [
        {
          "output_type": "stream",
          "name": "stdout",
          "text": [
            "Creating training batches of size 16\n",
            "  Selected 0 batches.\n",
            "  Selected 100 batches.\n",
            "  Selected 200 batches.\n",
            "  Selected 300 batches.\n",
            "  Selected 400 batches.\n",
            "\n",
            "  DONE - 463 batches.\n"
          ]
        }
      ],
      "source": [
        "# List of batches that we'll construct.\n",
        "batch_ordered_sentences = []\n",
        "batch_ordered_labels = []\n",
        "\n",
        "print('Creating training batches of size {:}'.format(batch_size))\n",
        "\n",
        "# Loop over all of the input samples...\n",
        "while len(train_samples) > 0:\n",
        "\n",
        "    # Report progress.\n",
        "    if ((len(batch_ordered_sentences) % 100) == 0):\n",
        "        print('  Selected {:,} batches.'.format(len(batch_ordered_sentences)))\n",
        "\n",
        "    # `to_take` is our actual batch size. It will be `batch_size` until\n",
        "    # we get to the last batch, which may be smaller.\n",
        "    to_take = min(batch_size, len(train_samples))\n",
        "\n",
        "    # Pick a random index in the list of remaining samples to start\n",
        "    # our batch at.\n",
        "    select = random.randint(0, len(train_samples) - to_take)\n",
        "\n",
        "    # Select a contiguous batch of samples starting at `select`.\n",
        "    batch = train_samples[select:(select + to_take)]\n",
        "\n",
        "    # Each sample is a tuple--split them apart to create a separate list of\n",
        "    # sequences and a list of labels for this batch.\n",
        "    batch_ordered_sentences.append([s[0] for s in batch])\n",
        "    batch_ordered_labels.append([s[1] for s in batch])\n",
        "\n",
        "    # Remove these samples from the list.\n",
        "    del train_samples[select:select + to_take]\n",
        "\n",
        "print('\\n  DONE - {:,} batches.'.format(len(batch_ordered_sentences)))"
      ]
    },
    {
      "cell_type": "code",
      "execution_count": null,
      "metadata": {
        "colab": {
          "base_uri": "https://localhost:8080/"
        },
        "id": "rf91Dd3LhBaP",
        "outputId": "e746ed85-f642-4597-d783-ed3e646283c2"
      },
      "outputs": [
        {
          "output_type": "stream",
          "name": "stdout",
          "text": [
            "[[101, 1351, 29885, 100, 1366, 29914, 29906, 29917, 29908, 100, 100, 100, 100, 1371, 29900, 29915, 1363, 29914, 29889, 29898, 1010, 102], [101, 100, 100, 100, 100, 100, 100, 1344, 100, 1371, 29914, 29908, 1371, 29914, 29908, 100, 100, 1376, 29904, 29914, 29908, 102], [101, 100, 1365, 29906, 1353, 29915, 1376, 29917, 29895, 29914, 1348, 29891, 29917, 1358, 29914, 29902, 29914, 100, 1353, 29908, 1344, 102], [101, 1348, 29894, 29914, 29888, 100, 1376, 29914, 29899, 1370, 29917, 1368, 29917, 29895, 29915, 29882, 1353, 29908, 29898, 29914, 100, 102], [101, 1348, 29894, 100, 1358, 29914, 29898, 29915, 1364, 29917, 29890, 29917, 100, 100, 1370, 29915, 29912, 1353, 29908, 29915, 1344, 102], [101, 1348, 29909, 29914, 29900, 29916, 29902, 29917, 29908, 1356, 29914, 29900, 29908, 29917, 1350, 29908, 29917, 1348, 29912, 29893, 29917, 102], [101, 100, 1372, 29914, 1370, 29914, 29909, 29914, 29886, 29902, 1366, 29914, 1370, 29914, 29909, 29914, 29886, 29902, 1362, 29908, 29914, 102], [101, 1367, 29914, 29891, 29909, 1357, 29914, 29891, 29909, 29917, 29908, 1364, 29909, 1374, 29914, 29909, 29914, 100, 1369, 29914, 29885, 102], [101, 1347, 29902, 29917, 29889, 1364, 29915, 29902, 100, 1370, 29894, 29915, 29904, 29917, 29908, 100, 1354, 29914, 29885, 1366, 29914, 102], [101, 100, 100, 1353, 29908, 29909, 29917, 1353, 29915, 100, 100, 1368, 29917, 29910, 29915, 100, 1353, 29908, 29904, 29917, 1029, 102], [101, 1366, 29914, 29892, 29915, 29908, 29914, 1354, 29914, 29902, 29889, 29915, 29908, 100, 100, 100, 100, 1353, 29908, 29893, 29917, 102], [101, 1348, 29906, 29914, 29900, 29917, 29908, 100, 100, 1352, 1366, 29917, 29885, 1359, 29914, 29889, 29914, 29888, 1366, 29917, 29885, 102], [101, 1357, 29917, 29909, 29917, 29908, 29914, 100, 100, 100, 1353, 29908, 29898, 29917, 1367, 29914, 29908, 29917, 1366, 29914, 1344, 102], [101, 100, 100, 1359, 29914, 100, 100, 1366, 29915, 29894, 29917, 29889, 29917, 1353, 29915, 1370, 29902, 29917, 1353, 29908, 29917, 102], [101, 100, 1348, 29894, 29906, 100, 1372, 29914, 29894, 29914, 29889, 29914, 29908, 29917, 29908, 1374, 29916, 29908, 29906, 29897, 29915, 102], [101, 100, 1374, 29914, 29909, 29915, 29908, 29914, 1364, 29917, 29910, 29895, 29914, 29889, 29917, 100, 1353, 29908, 29893, 29915, 29912, 102]]\n"
          ]
        }
      ],
      "source": [
        "print(batch_ordered_sentences[0])"
      ]
    },
    {
      "cell_type": "code",
      "execution_count": null,
      "metadata": {
        "colab": {
          "base_uri": "https://localhost:8080/"
        },
        "id": "qmkQK_gVgiTu",
        "outputId": "2a56f270-eced-4ba3-cdfe-bf674241aca0"
      },
      "outputs": [
        {
          "output_type": "execute_result",
          "data": {
            "text/plain": [
              "[3, 4, 0, 5, 5, 5, 3, 0, 2, 5, 0, 5, 1, 0, 2, 0]"
            ]
          },
          "metadata": {},
          "execution_count": 243
        }
      ],
      "source": [
        "batch_ordered_labels[0]"
      ]
    },
    {
      "cell_type": "markdown",
      "metadata": {
        "id": "xZ0TFA8Mfn6m"
      },
      "source": [
        "### Padding"
      ]
    },
    {
      "cell_type": "code",
      "execution_count": null,
      "metadata": {
        "id": "c9rdswcpfTip"
      },
      "outputs": [],
      "source": [
        "py_inputs = []\n",
        "py_attn_masks = []\n",
        "py_labels = []\n",
        "\n",
        "# For each batch...\n",
        "for (batch_inputs, batch_labels) in zip(batch_ordered_sentences, batch_ordered_labels):\n",
        "\n",
        "    # New version of the batch, this time with padded sequences and now with\n",
        "    # attention masks defined.\n",
        "    batch_padded_inputs = []\n",
        "    batch_attn_masks = []\n",
        "\n",
        "    # First, find the longest sample in the batch.\n",
        "    # Note that the sequences do currently include the special tokens!\n",
        "    max_size = max([len(sen) for sen in batch_inputs])\n",
        "\n",
        "    #print('Max size:', max_size)\n",
        "\n",
        "    # For each input in this batch...\n",
        "    for sen in batch_inputs:\n",
        "\n",
        "        # How many pad tokens do we need to add?\n",
        "        num_pads = max_size - len(sen)\n",
        "\n",
        "        # Add `num_pads` padding tokens to the end of the sequence.\n",
        "        padded_input = sen + [tokenizer.pad_token_id]*num_pads\n",
        "\n",
        "        # Define the attention mask--it's just a `1` for every real token\n",
        "        # and a `0` for every padding token.\n",
        "        attn_mask = [1] * len(sen) + [0] * num_pads\n",
        "\n",
        "        # Add the padded results to the batch.\n",
        "        batch_padded_inputs.append(padded_input)\n",
        "        batch_attn_masks.append(attn_mask)\n",
        "\n",
        "    # Our batch has been padded, so we need to save this updated batch.\n",
        "    # We also need the inputs to be PyTorch tensors, so we'll do that here.\n",
        "    py_inputs.append(torch.tensor(batch_padded_inputs))\n",
        "    py_attn_masks.append(torch.tensor(batch_attn_masks))\n",
        "    py_labels.append(torch.tensor(batch_labels))\n"
      ]
    },
    {
      "cell_type": "markdown",
      "metadata": {
        "id": "roS5lLWdX-5J"
      },
      "source": [
        "### Check the number of token reductions because of smart batching"
      ]
    },
    {
      "cell_type": "code",
      "execution_count": null,
      "metadata": {
        "colab": {
          "base_uri": "https://localhost:8080/"
        },
        "id": "wlh7cteVfroV",
        "outputId": "ad32901d-d76e-4da2-a2c1-30781b02e61c"
      },
      "outputs": [
        {
          "output_type": "stream",
          "name": "stdout",
          "text": [
            "Total tokens:\n",
            "   Fixed Padding: 2,220,000\n",
            "  Smart Batching: 151,744  (93.2% less)\n"
          ]
        }
      ],
      "source": [
        "# Get the new list of lengths after sorting.\n",
        "\n",
        "padded_lengths = []\n",
        "\n",
        "# For each batch...\n",
        "for batch in py_inputs:\n",
        "\n",
        "    # For each sample...\n",
        "    for s in batch:\n",
        "\n",
        "        # Record its length.\n",
        "        padded_lengths.append(len(s))\n",
        "\n",
        "# Sum up the lengths to the get the total number of tokens after smart batching.\n",
        "smart_token_count = np.sum(padded_lengths)\n",
        "\n",
        "# To get the total number of tokens in the dataset using fixed padding, it's\n",
        "# as simple as the number of samples times our `max_len` parameter (that we\n",
        "# would pad everything to).\n",
        "fixed_token_count = len(train_sentences) * max_input_length\n",
        "\n",
        "# Calculate the percentage reduction.\n",
        "prcnt_reduced = (fixed_token_count - smart_token_count) / float(fixed_token_count)\n",
        "\n",
        "print('Total tokens:')\n",
        "print('   Fixed Padding: {:,}'.format(fixed_token_count))\n",
        "print('  Smart Batching: {:,}  ({:.1%} less)'.format(smart_token_count, prcnt_reduced))\n"
      ]
    },
    {
      "cell_type": "markdown",
      "metadata": {
        "id": "8wgdhsI-YIAL"
      },
      "source": [
        "## Load the model configuration from the transformers library using AutoConfig"
      ]
    },
    {
      "cell_type": "code",
      "execution_count": null,
      "metadata": {
        "colab": {
          "base_uri": "https://localhost:8080/"
        },
        "id": "9er7EHvdfudf",
        "outputId": "07fb7aa3-a008-4726-9195-c217914ef1be"
      },
      "outputs": [
        {
          "output_type": "stream",
          "name": "stdout",
          "text": [
            "Config type: <class 'transformers.models.distilbert.configuration_distilbert.DistilBertConfig'> \n",
            "\n"
          ]
        }
      ],
      "source": [
        "# Load the Config object, with an output configured for classification.\n",
        "config = AutoConfig.from_pretrained(pretrained_model_name_or_path=model_name,\n",
        "                                    num_labels=6)\n",
        "\n",
        "print('Config type:', str(type(config)), '\\n')\n"
      ]
    },
    {
      "cell_type": "code",
      "execution_count": null,
      "metadata": {
        "colab": {
          "base_uri": "https://localhost:8080/"
        },
        "id": "bWvc9Ikv4HtD",
        "outputId": "40938ee2-1c85-4cab-fb4b-e047715a9cc6"
      },
      "outputs": [
        {
          "output_type": "stream",
          "name": "stderr",
          "text": [
            "Some weights of DistilBertForSequenceClassification were not initialized from the model checkpoint at distilbert/distilbert-base-uncased and are newly initialized: ['classifier.bias', 'classifier.weight', 'pre_classifier.bias', 'pre_classifier.weight']\n",
            "You should probably TRAIN this model on a down-stream task to be able to use it for predictions and inference.\n"
          ]
        }
      ],
      "source": [
        "model = AutoModelForSequenceClassification.from_pretrained(pretrained_model_name_or_path=model_name,config = config)"
      ]
    },
    {
      "cell_type": "code",
      "execution_count": null,
      "metadata": {
        "id": "Xouf5M2B55ei"
      },
      "outputs": [],
      "source": []
    },
    {
      "cell_type": "markdown",
      "metadata": {
        "id": "SXJHBVlxYR-l"
      },
      "source": [
        "## Load the model from the transformers library using AutoModel"
      ]
    },
    {
      "cell_type": "code",
      "execution_count": null,
      "metadata": {
        "id": "n8J4r6KyhveR",
        "colab": {
          "base_uri": "https://localhost:8080/"
        },
        "outputId": "0a92cec7-6ab1-4716-8093-b13982c2573e"
      },
      "outputs": [
        {
          "output_type": "stream",
          "name": "stdout",
          "text": [
            "\n",
            "Model type: <class 'transformers.models.distilbert.modeling_distilbert.DistilBertModel'>\n"
          ]
        }
      ],
      "source": [
        "# Load the pre-trained model for classification, passing in the `config` from\n",
        "# above.\n",
        "bert = AutoModel.from_pretrained(\n",
        "    pretrained_model_name_or_path=model_name,\n",
        "    config=config)\n",
        "\n",
        "print('\\nModel type:', str(type(bert)))\n"
      ]
    },
    {
      "cell_type": "code",
      "execution_count": null,
      "metadata": {
        "id": "RcFMgf5EuPAF"
      },
      "outputs": [],
      "source": [
        "# freeze all the parameters\n",
        "for param in bert.parameters():\n",
        "    param.requires_grad = False"
      ]
    },
    {
      "cell_type": "markdown",
      "metadata": {
        "id": "NS_-0rBDYeY5"
      },
      "source": [
        "## Creating a custom BERT model"
      ]
    },
    {
      "cell_type": "code",
      "execution_count": null,
      "metadata": {
        "id": "bmGtZwykJ39i"
      },
      "outputs": [],
      "source": [
        "\n",
        "# class BERT_Model(nn.Module):\n",
        "#     ## defining the constructor for the class\n",
        "#     def __init__(self, bert,num_labels):\n",
        "#       ## calling the super class constructor\n",
        "#       super(BERT_Model, self).__init__()\n",
        "#       ## adding the bert layer to the model\n",
        "#       self.bert = bert\n",
        "#       # relu activation function\n",
        "#       self.relu =  nn.ReLU()\n",
        "#       # adding a dense layer to our custom model\n",
        "#       self.fc1 = nn.Linear(768,512)\n",
        "#       # adding another dense layer to our custom model ,i.e., the Output layer\n",
        "#       self.fc2 = nn.Linear(512,num_labels)\n",
        "#       # adding a softmax  activation function for our custom model's output layer\n",
        "#       self.softmax = nn.LogSoftmax(dim=1)\n",
        "\n",
        "#     #defining the forward pass\n",
        "#     def forward(self, input_id, mask):\n",
        "#       #pass the inputs to the model\n",
        "#       outputs = self.bert(input_id,mask)\n",
        "\n",
        "#       last_hidden_state = outputs.last_hidden_state       ## last hidden state from the model\n",
        "#       pooler_output = outputs.pooler_output               ## pooler output from the model\n",
        "#       ## adding a fully connected layer to the BERT model\n",
        "#       x = self.fc1(pooler_output)\n",
        "#       ## applying relu activation function\n",
        "#       x = self.relu(x)\n",
        "#       # the final output layer\n",
        "#       x = self.fc2(x)\n",
        "#       # apply softmax activation to our output layer\n",
        "#       x = self.softmax(x)\n",
        "\n",
        "#       return x"
      ]
    },
    {
      "cell_type": "code",
      "execution_count": null,
      "metadata": {
        "id": "jvOs0G5sh02S"
      },
      "outputs": [],
      "source": [
        "\n",
        "\n",
        "# print('\\nLoading model ...')\n",
        "# # pass the pre-trained BERT to our define architecture\n",
        "# model = BERT_Model(bert,num_labels=3)\n",
        "\n",
        "# model.cuda()"
      ]
    },
    {
      "cell_type": "markdown",
      "metadata": {
        "id": "LjQSUqCWJTbI"
      },
      "source": [
        "## Custom Loss function"
      ]
    },
    {
      "cell_type": "code",
      "execution_count": null,
      "metadata": {
        "id": "iOHVl1RRJSUB"
      },
      "outputs": [],
      "source": [
        "# # convert class weights to tensor\n",
        "# weights= torch.tensor(class_wts,dtype=torch.float)\n",
        "# weights = weights.to(device)\n",
        "\n",
        "# # loss function\n",
        "# cross_entropy  = nn.NLLLoss(weight=weights)\n"
      ]
    },
    {
      "cell_type": "markdown",
      "metadata": {
        "id": "evYV0yrQ2u_b"
      },
      "source": [
        "## Loading Optimizer"
      ]
    },
    {
      "cell_type": "code",
      "execution_count": null,
      "metadata": {
        "id": "8tAijXBEh7t8",
        "colab": {
          "base_uri": "https://localhost:8080/"
        },
        "outputId": "d965fb4f-a111-4cae-e708-2fc46a35fdc0"
      },
      "outputs": [
        {
          "output_type": "stream",
          "name": "stderr",
          "text": [
            "/usr/local/lib/python3.10/dist-packages/transformers/optimization.py:591: FutureWarning: This implementation of AdamW is deprecated and will be removed in a future version. Use the PyTorch implementation torch.optim.AdamW instead, or set `no_deprecation_warning=True` to disable this warning\n",
            "  warnings.warn(\n"
          ]
        }
      ],
      "source": [
        "# Note: AdamW is a class from the huggingface library (as opposed to pytorch)\n",
        "# I believe the 'W' stands for 'Weight Decay fix\"\n",
        "optimizer = AdamW(model.parameters(),\n",
        "                  lr = 2e-5, # This is the value Michael used.\n",
        "                  eps = 1e-8 # args.adam_epsilon  - default is 1e-8.\n",
        "                )\n"
      ]
    },
    {
      "cell_type": "markdown",
      "metadata": {
        "id": "s9n3_5jI2ywo"
      },
      "source": [
        "## Loading lr scheduler"
      ]
    },
    {
      "cell_type": "code",
      "execution_count": null,
      "metadata": {
        "id": "agidP6D6iBFI"
      },
      "outputs": [],
      "source": [
        "# Number of training epochs. I chose to train for 1 simply because the training\n",
        "# time is long. More epochs may improve the model's accuracy.\n",
        "epochs = 5\n",
        "\n",
        "# Total number of training steps is [number of batches] x [number of epochs].\n",
        "# Note that it's the number of *batches*, not *samples*!\n",
        "total_steps = len(py_inputs) * epochs\n",
        "\n",
        "# Create the learning rate scheduler.\n",
        "scheduler = get_linear_schedule_with_warmup(optimizer,\n",
        "                                            num_warmup_steps = 0, # Default value in run_glue.py\n",
        "                                            num_training_steps = total_steps)"
      ]
    },
    {
      "cell_type": "code",
      "execution_count": null,
      "metadata": {
        "id": "EJJxqvLPtHMs"
      },
      "outputs": [],
      "source": [
        "# import numpy as np\n",
        "# from sklearn.preprocessing import LabelEncoder\n",
        "\n",
        "# # Check if all validation labels are present in the training labels\n",
        "# missing_labels = set(val_labels) - set(train_labels)\n",
        "\n",
        "# if missing_labels:\n",
        "#     print(f\"Warning: The following labels in validation data were not seen in the training data: {missing_labels}\")\n",
        "#     # Optionally, you could handle missing labels here, either by filtering or adding them to the encoder.\n",
        "# else:\n",
        "#     # Convert validation labels using the same LabelEncoder to ensure the mapping is consistent\n",
        "#     val_labels_encoded = label_encoder.transform(val_labels)\n",
        "\n",
        "# # Now continue with the rest of the training as planned.\n"
      ]
    },
    {
      "cell_type": "markdown",
      "metadata": {
        "id": "MDDp05Cm245e"
      },
      "source": [
        "## Training Loop"
      ]
    },
    {
      "cell_type": "code",
      "source": [
        "print(\"Unique encoded train labels:\", set(train_labels_encoded))\n",
        "print(\"Unique encoded val labels:\", set(val_labels_encoded))\n",
        "\n",
        "print(f\"Shape of b_input_ids: {b_input_ids.shape}\")\n",
        "print(f\"Shape of b_input_mask: {b_input_mask.shape}\")\n",
        "print(f\"Shape of b_labels: {b_labels.shape}\")\n",
        "\n",
        "print(type(py_inputs[step]))  # Should be <class 'torch.Tensor'>\n",
        "print(\"Device:\", device)\n"
      ],
      "metadata": {
        "colab": {
          "base_uri": "https://localhost:8080/"
        },
        "id": "Ihe4cibziVTt",
        "outputId": "b2304d43-42f6-41a6-9d4a-a6e066a110fa"
      },
      "execution_count": null,
      "outputs": [
        {
          "output_type": "stream",
          "name": "stdout",
          "text": [
            "Unique encoded train labels: {0, 1, 2, 3, 4, 5, 6}\n",
            "Unique encoded val labels: {0, 1, 2, 3, 4, 5, 6}\n",
            "Shape of b_input_ids: torch.Size([16, 6])\n",
            "Shape of b_input_mask: torch.Size([16, 6])\n",
            "Shape of b_labels: torch.Size([16])\n",
            "<class 'torch.Tensor'>\n",
            "Device: cuda\n"
          ]
        }
      ]
    },
    {
      "cell_type": "code",
      "execution_count": null,
      "metadata": {
        "id": "H4ERR8fBiEJn"
      },
      "outputs": [],
      "source": []
    },
    {
      "cell_type": "code",
      "execution_count": null,
      "metadata": {
        "id": "GOmua_S1eXNM",
        "colab": {
          "base_uri": "https://localhost:8080/",
          "height": 624
        },
        "outputId": "3796804f-a565-44ff-b0a7-e47d8fef7b42"
      },
      "outputs": [
        {
          "output_type": "display_data",
          "data": {
            "text/plain": [
              "<Figure size 1800x600 with 2 Axes>"
            ],
            "image/png": "[encoded data removed]"
          },
          "metadata": {}
        }
      ],
      "source": [
        "plot_training_history(training_stats)"
      ]
    },
    {
      "cell_type": "markdown",
      "metadata": {
        "id": "3c-6bOIxVyrM"
      },
      "source": [
        "## Evaluating Performance Over Training Set"
      ]
    },
    {
      "cell_type": "code",
      "execution_count": null,
      "metadata": {
        "id": "2QmKPNAeWHkZ",
        "colab": {
          "base_uri": "https://localhost:8080/",
          "height": 801
        },
        "outputId": "1af34add-db12-40c7-931a-998dfcc795ee"
      },
      "outputs": [
        {
          "output_type": "stream",
          "name": "stdout",
          "text": [
            "Creating Smart Batches from 7,400 examples with batch size 16...\n",
            "\n",
            "Tokenizing 7,400 samples...\n",
            "  Tokenized 0 samples.\n",
            "  Tokenized 700 samples.\n",
            "  Tokenized 1,400 samples.\n",
            "  Tokenized 2,100 samples.\n",
            "  Tokenized 2,800 samples.\n",
            "  Tokenized 3,500 samples.\n",
            "  Tokenized 4,200 samples.\n",
            "  Tokenized 4,900 samples.\n",
            "  Tokenized 5,600 samples.\n",
            "  Tokenized 6,300 samples.\n",
            "  Tokenized 7,000 samples.\n",
            "DONE.\n",
            "     7,400 samples\n",
            "\n",
            "     7,400 samples after sorting\n",
            "\n",
            "Creating batches of size 16...\n",
            "\n",
            "  DONE - Selected 463 batches.\n",
            "\n",
            "Padding out sequences within each batch...\n",
            "  DONE.\n",
            "Predicting labels for 463 test batches...\n"
          ]
        },
        {
          "output_type": "error",
          "ename": "RuntimeError",
          "evalue": "CUDA error: device-side assert triggered\nCUDA kernel errors might be asynchronously reported at some other API call, so the stacktrace below might be incorrect.\nFor debugging consider passing CUDA_LAUNCH_BLOCKING=1\nCompile with `TORCH_USE_CUDA_DSA` to enable device-side assertions.\n",
          "traceback": [
            "\u001b[0;31m---------------------------------------------------------------------------\u001b[0m",
            "\u001b[0;31mRuntimeError\u001b[0m                              Traceback (most recent call last)",
            "\u001b[0;32m<ipython-input-258-8dea35fd5a45>\u001b[0m in \u001b[0;36m<cell line: 3>\u001b[0;34m()\u001b[0m\n\u001b[1;32m      1\u001b[0m \u001b[0;34m(\u001b[0m\u001b[0mpy_inputs\u001b[0m\u001b[0;34m,\u001b[0m \u001b[0mpy_attn_masks\u001b[0m\u001b[0;34m,\u001b[0m \u001b[0mpy_labels\u001b[0m\u001b[0;34m)\u001b[0m \u001b[0;34m=\u001b[0m \u001b[0mmake_smart_batches\u001b[0m\u001b[0;34m(\u001b[0m\u001b[0mtrain_sentences\u001b[0m\u001b[0;34m,\u001b[0m \u001b[0mtrain_labels\u001b[0m\u001b[0;34m,\u001b[0m \u001b[0mbatch_size\u001b[0m \u001b[0;34m,\u001b[0m\u001b[0mtokenizer\u001b[0m\u001b[0;34m,\u001b[0m\u001b[0mmax_input_length\u001b[0m\u001b[0;34m)\u001b[0m\u001b[0;34m\u001b[0m\u001b[0;34m\u001b[0m\u001b[0m\n\u001b[1;32m      2\u001b[0m \u001b[0;34m\u001b[0m\u001b[0m\n\u001b[0;32m----> 3\u001b[0;31m \u001b[0my_pred\u001b[0m \u001b[0;34m,\u001b[0m \u001b[0my_true\u001b[0m \u001b[0;34m=\u001b[0m \u001b[0mget_predictions\u001b[0m\u001b[0;34m(\u001b[0m\u001b[0mpy_inputs\u001b[0m\u001b[0;34m,\u001b[0m \u001b[0mpy_attn_masks\u001b[0m\u001b[0;34m,\u001b[0m \u001b[0mpy_labels\u001b[0m\u001b[0;34m)\u001b[0m\u001b[0;34m\u001b[0m\u001b[0;34m\u001b[0m\u001b[0m\n\u001b[0m",
            "\u001b[0;32m<ipython-input-224-d69d8a61ae1c>\u001b[0m in \u001b[0;36mget_predictions\u001b[0;34m(py_inputs, py_attn_masks, py_labels)\u001b[0m\n\u001b[1;32m     35\u001b[0m \u001b[0;34m\u001b[0m\u001b[0m\n\u001b[1;32m     36\u001b[0m       \u001b[0;31m# Copy the batch to the GPU.\u001b[0m\u001b[0;34m\u001b[0m\u001b[0;34m\u001b[0m\u001b[0m\n\u001b[0;32m---> 37\u001b[0;31m       \u001b[0mb_input_ids\u001b[0m \u001b[0;34m=\u001b[0m \u001b[0mpy_inputs\u001b[0m\u001b[0;34m[\u001b[0m\u001b[0mstep\u001b[0m\u001b[0;34m]\u001b[0m\u001b[0;34m.\u001b[0m\u001b[0mto\u001b[0m\u001b[0;34m(\u001b[0m\u001b[0mdevice\u001b[0m\u001b[0;34m)\u001b[0m\u001b[0;34m\u001b[0m\u001b[0;34m\u001b[0m\u001b[0m\n\u001b[0m\u001b[1;32m     38\u001b[0m       \u001b[0mb_input_mask\u001b[0m \u001b[0;34m=\u001b[0m \u001b[0mpy_attn_masks\u001b[0m\u001b[0;34m[\u001b[0m\u001b[0mstep\u001b[0m\u001b[0;34m]\u001b[0m\u001b[0;34m.\u001b[0m\u001b[0mto\u001b[0m\u001b[0;34m(\u001b[0m\u001b[0mdevice\u001b[0m\u001b[0;34m)\u001b[0m\u001b[0;34m\u001b[0m\u001b[0;34m\u001b[0m\u001b[0m\n\u001b[1;32m     39\u001b[0m       \u001b[0mb_labels\u001b[0m \u001b[0;34m=\u001b[0m \u001b[0mpy_labels\u001b[0m\u001b[0;34m[\u001b[0m\u001b[0mstep\u001b[0m\u001b[0;34m]\u001b[0m\u001b[0;34m.\u001b[0m\u001b[0mto\u001b[0m\u001b[0;34m(\u001b[0m\u001b[0mdevice\u001b[0m\u001b[0;34m)\u001b[0m\u001b[0;34m\u001b[0m\u001b[0;34m\u001b[0m\u001b[0m\n",
            "\u001b[0;31mRuntimeError\u001b[0m: CUDA error: device-side assert triggered\nCUDA kernel errors might be asynchronously reported at some other API call, so the stacktrace below might be incorrect.\nFor debugging consider passing CUDA_LAUNCH_BLOCKING=1\nCompile with `TORCH_USE_CUDA_DSA` to enable device-side assertions.\n"
          ]
        }
      ],
      "source": [
        "(py_inputs, py_attn_masks, py_labels) = make_smart_batches(train_sentences, train_labels, batch_size ,tokenizer,max_input_length)\n",
        "\n",
        "y_pred , y_true = get_predictions(py_inputs, py_attn_masks, py_labels)\n"
      ]
    },
    {
      "cell_type": "markdown",
      "metadata": {
        "id": "tF9cMcFsQcsN"
      },
      "source": [
        "## Making Predictions on Test Set"
      ]
    },
    {
      "cell_type": "code",
      "execution_count": null,
      "metadata": {
        "id": "55swDrKUQcsP"
      },
      "outputs": [],
      "source": [
        "test_df"
      ]
    },
    {
      "cell_type": "markdown",
      "metadata": {
        "id": "7jLPpljYQcsQ"
      },
      "source": [
        "## Loading `test_sentences`"
      ]
    },
    {
      "cell_type": "code",
      "execution_count": null,
      "metadata": {
        "id": "QEVoAhgIQcsR"
      },
      "outputs": [],
      "source": [
        "test_sentences = test_df['text'].values\n",
        "test_labels = test_df['labels'].values\n",
        "test_ids = test_df.index.values"
      ]
    },
    {
      "cell_type": "code",
      "execution_count": null,
      "metadata": {
        "id": "RKCAEAI2NPpC"
      },
      "outputs": [],
      "source": [
        "test_ids"
      ]
    },
    {
      "cell_type": "code",
      "execution_count": null,
      "metadata": {
        "id": "Le9QoujnNP4x"
      },
      "outputs": [],
      "source": [
        "(py_inputs, py_attn_masks,py_ids) = make_smart_batches_on_test(test_sentences,test_ids, 16,tokenizer,max_input_length)"
      ]
    },
    {
      "cell_type": "code",
      "execution_count": null,
      "metadata": {
        "id": "slovGuCRThW1"
      },
      "outputs": [],
      "source": [
        "y_ids,y_preds  = get_predictions_test(py_inputs, py_attn_masks,py_ids)\n"
      ]
    },
    {
      "cell_type": "code",
      "execution_count": null,
      "metadata": {
        "id": "gL7aCG2HTjv6"
      },
      "outputs": [],
      "source": [
        "test_sentences"
      ]
    },
    {
      "cell_type": "code",
      "execution_count": null,
      "metadata": {
        "id": "b9dgO1m3QcsU"
      },
      "outputs": [],
      "source": [
        "(py_inputs, py_attn_masks,py_ids) = make_smart_batches_on_test(test_sentences,test_ids, 16,tokenizer,max_input_length)\n",
        "y_pred , y_true = get_predictions(py_inputs, py_attn_masks, py_labels)"
      ]
    },
    {
      "cell_type": "code",
      "execution_count": null,
      "metadata": {
        "id": "8MLQfC5xKr1y"
      },
      "outputs": [],
      "source": [
        "y_pred"
      ]
    },
    {
      "cell_type": "markdown",
      "metadata": {
        "id": "vjsjqQpRQcsV"
      },
      "source": [
        "## Evaluating accuracy over test set"
      ]
    },
    {
      "cell_type": "code",
      "execution_count": null,
      "metadata": {
        "id": "rwkx-30AQcsV"
      },
      "outputs": [],
      "source": [
        "y_ids,y_preds  = get_predictions_test(py_inputs, py_attn_masks,py_ids)\n"
      ]
    },
    {
      "cell_type": "code",
      "execution_count": null,
      "metadata": {
        "id": "pDM-cnDHQcsW"
      },
      "outputs": [],
      "source": [
        "print(y_preds)"
      ]
    },
    {
      "cell_type": "code",
      "execution_count": null,
      "metadata": {
        "id": "kWWWjz7eUPc7"
      },
      "outputs": [],
      "source": [
        "print(y_ids)"
      ]
    },
    {
      "cell_type": "code",
      "execution_count": null,
      "metadata": {
        "id": "u2ybbsAoQcsY"
      },
      "outputs": [],
      "source": [
        "le.inverse_transform(y_preds)"
      ]
    },
    {
      "cell_type": "code",
      "execution_count": null,
      "metadata": {
        "id": "kSMb6sCLQcsZ"
      },
      "outputs": [],
      "source": [
        "sns.countplot(y =le.inverse_transform(y_preds))"
      ]
    },
    {
      "cell_type": "code",
      "execution_count": null,
      "metadata": {
        "id": "4KXOXwH9U2MT"
      },
      "outputs": [],
      "source": [
        "len(y_ids)"
      ]
    },
    {
      "cell_type": "code",
      "execution_count": null,
      "metadata": {
        "id": "9-fkBgOxU4bX",
        "outputId": "98890975-beae-4615-f653-507f50b9e302",
        "colab": {
          "base_uri": "https://localhost:8080/",
          "height": 166
        }
      },
      "outputs": [
        {
          "output_type": "error",
          "ename": "NameError",
          "evalue": "name 'le' is not defined",
          "traceback": [
            "\u001b[0;31m---------------------------------------------------------------------------\u001b[0m",
            "\u001b[0;31mNameError\u001b[0m                                 Traceback (most recent call last)",
            "\u001b[0;32m<ipython-input-1-0e2c04907d22>\u001b[0m in \u001b[0;36m<cell line: 1>\u001b[0;34m()\u001b[0m\n\u001b[0;32m----> 1\u001b[0;31m \u001b[0my_pred\u001b[0m\u001b[0;34m=\u001b[0m\u001b[0mle\u001b[0m\u001b[0;34m.\u001b[0m\u001b[0minverse_transform\u001b[0m\u001b[0;34m(\u001b[0m\u001b[0my_preds\u001b[0m\u001b[0;34m)\u001b[0m\u001b[0;34m\u001b[0m\u001b[0;34m\u001b[0m\u001b[0m\n\u001b[0m\u001b[1;32m      2\u001b[0m \u001b[0my_pred\u001b[0m\u001b[0;34m\u001b[0m\u001b[0;34m\u001b[0m\u001b[0m\n",
            "\u001b[0;31mNameError\u001b[0m: name 'le' is not defined"
          ]
        }
      ],
      "source": [
        "y_pred=le.inverse_transform(y_preds)\n",
        "y_pred"
      ]
    }
  ],
  "metadata": {
    "accelerator": "GPU",
    "colab": {
      "provenance": [],
      "gpuType": "T4",
      "include_colab_link": true
    },
    "kernelspec": {
      "display_name": "Python 3",
      "name": "python3"
    }
  },
  "nbformat": 4,
  "nbformat_minor": 0
}